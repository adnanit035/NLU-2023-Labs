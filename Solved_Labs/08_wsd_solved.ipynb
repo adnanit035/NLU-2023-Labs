{
 "cells": [
  {
   "cell_type": "markdown",
   "metadata": {
    "slideshow": {
     "slide_type": "slide"
    }
   },
   "source": [
    "# Word Sense Disambiguation\n"
   ]
  },
  {
   "cell_type": "markdown",
   "metadata": {
    "slideshow": {
     "slide_type": "slide"
    }
   },
   "source": [
    "## Objectives\n",
    "\n",
    "- Understanding\n",
    "    - Lexical Relations\n",
    "    - Word senses in WordNet\n",
    "    - Semantic Similarity (in WordNet)\n",
    "    \n",
    "- Learning how to disambiguate word senses\n",
    "    - Dictionary-based Word Sense Disambiguation with WordNet\n",
    "        - Lesk Algorithm\n",
    "        - Graph-based Methods\n",
    "    - Supervised Word Sense Disambiguation\n",
    "        - Feature Extractions for Word Sense Classification\n",
    "            - Bag-of-Words\n",
    "            - Collocational Features\n",
    "        - Training and Evaluation"
   ]
  },
  {
   "cell_type": "markdown",
   "metadata": {
    "slideshow": {
     "slide_type": "slide"
    }
   },
   "source": [
    "### Recommended Reading\n",
    "- Dan Jurafsky and James H. Martin. [__Speech and Language Processing__ (SLP)](https://web.stanford.edu/~jurafsky/slp3/) (3rd ed. draft)\n",
    "- Steven Bird, Ewan Klein, and Edward Loper. [__Natural Language Processing with Python__ (NLTK)](https://www.nltk.org/book/)\n",
    "    "
   ]
  },
  {
   "cell_type": "markdown",
   "metadata": {},
   "source": [
    "### Covered Material\n",
    "\n",
    "- SLP\n",
    "    - [Chapter 23: Word Senses and WordNet](https://web.stanford.edu/~jurafsky/slp3/23.pdf)\n",
    "- NLTK\n",
    "    - [Chapter 2: Accessing Text Corpora and Lexical Resources](https://www.nltk.org/book/ch02.html)\n",
    "        - Section 5: WordNet\n"
   ]
  },
  {
   "cell_type": "markdown",
   "metadata": {
    "slideshow": {
     "slide_type": "fragment"
    }
   },
   "source": [
    "### Requirements\n",
    "\n",
    "- [NLTK](https://www.nltk.org/)\n"
   ]
  },
  {
   "cell_type": "markdown",
   "metadata": {
    "slideshow": {
     "slide_type": "slide"
    }
   },
   "source": [
    "## 1. Word Sense Disambiguation\n",
    "\n",
    "In natural language processing, word sense disambiguation (WSD) is the problem of determining which \"sense\" (meaning) of a word is activated by the use of the word in a particular context, a process which appears to be largely unconscious in people. \n",
    "\n",
    "WSD is a natural classification problem: \n",
    "Given a word and its possible senses, as defined by a dictionary, the objective of WSD is to classify an occurrence of the word in context into one or more of its sense classes. The features of the context (such as neighboring words) provide are used as features for classification."
   ]
  },
  {
   "cell_type": "markdown",
   "metadata": {
    "slideshow": {
     "slide_type": "slide"
    }
   },
   "source": [
    "- Human Language is ambiguous\n",
    "    - Syntacting ambiguity\n",
    "        - Resolved by POS-tagging\n",
    "        - Syntactic Parsing\n",
    "    - Lexical ambiguity\n",
    "        - Resolved by Word Sense Disambiguation\n",
    "        - Semantics work at level of word __senses__, not __words__"
   ]
  },
  {
   "cell_type": "markdown",
   "metadata": {},
   "source": [
    "__Example__:\n",
    "- NOUN\n",
    "    - 'they pulled the canoe up on the __bank__'\n",
    "    - 'he cashed a check at the __bank__'\n",
    "- VERB\n",
    "    - 'the plane __banked__ steeply'\n",
    "    - '__bank__ on your good education'"
   ]
  },
  {
   "cell_type": "markdown",
   "metadata": {
    "slideshow": {
     "slide_type": "slide"
    }
   },
   "source": [
    "### 1.1. Task Variants\n",
    "- __Lexical sample subtask__: only a small selection of words has to be disambiguated\n",
    "    - Supervised machine learning: train a classifier for each word\n",
    "- __All words subtask__: each and every content word in the test corpus has to be disambiguated.\n",
    "    - Data sparseness issue, can't train a classifier for each word"
   ]
  },
  {
   "cell_type": "markdown",
   "metadata": {
    "slideshow": {
     "slide_type": "fragment"
    }
   },
   "source": [
    "### 1.2. Evaluation\n",
    "Precision, recall, F1-measure against gold standard data"
   ]
  },
  {
   "cell_type": "markdown",
   "metadata": {
    "slideshow": {
     "slide_type": "slide"
    }
   },
   "source": [
    "### 1.3. Lexical Relations\n",
    "Relation between word senses.\n",
    "\n",
    "- __Homonymy__: senses are not related *(same spelling different meaning)*\n",
    "- __Polysemy__: senses are related *(same spelling different but related meaning)*\n",
    "- __Metonymy__: a thing or concept is referred to by the name of something closely associated with that thing or concept. (e.g. *Rome* for Italian Government)\n",
    "    - It is a subtype of polysemy\n",
    "\n",
    "\n",
    "- __Synonymy__: senses are identical *(different spelling same meaning)*\n",
    "- __Antonymy__: senses are opposite\n",
    "- __Hyponymy__ (specific) (*car is hyponym of vehicle*) and __Hypernymy__ (generic): class-inclusion relationships (*vehicle is hypernymy of car*)\n",
    "- __Meronymy__ (part)(*wheel is part of car*) and __Holonymy__ (whole): the part-whole relation (*car ia holonymy of wheel*)"
   ]
  },
  {
   "cell_type": "markdown",
   "metadata": {
    "slideshow": {
     "slide_type": "slide"
    }
   },
   "source": [
    "## 2. WordNet"
   ]
  },
  {
   "cell_type": "markdown",
   "metadata": {
    "slideshow": {
     "slide_type": "slide"
    }
   },
   "source": [
    "[WordNet](https://wordnet.princeton.edu/) is a lexical database of semantic relations between words that links words into semantic relations including synonyms, hyponyms, and meronyms. \n",
    "\n",
    "Nouns, verbs, adjectives and adverbs are grouped into sets of cognitive synonyms (synsets), each expressing a distinct concept. Synsets are interlinked by means of conceptual-semantic and lexical relations. \n",
    "\n",
    "\n",
    "__Summary__\n",
    "\n",
    "WordNet is a:\n",
    "- Graph (4 graphs for each of nouns, verbs, adjectives, and adverbs)\n",
    "- Nodes are Synsets (synonyms)\n",
    "- Labeled Edges are Relations between Synsets\n",
    "\n",
    "    - PART-OF\n",
    "    - KIND-OF (IS-A)\n",
    "    - ENTAILMENT\n",
    "    - ANTONYMY\n",
    "    \n",
    "> Senses in WordNet are generally ordered from most to least frequently used, with the most common sense numbered 1.\n",
    "\n",
    "[WordNet Site](https://wordnet.princeton.edu/documentation/wndb5wn)"
   ]
  },
  {
   "cell_type": "code",
   "execution_count": 1,
   "metadata": {
    "slideshow": {
     "slide_type": "slide"
    },
    "ExecuteTime": {
     "end_time": "2023-06-07T01:05:00.476275Z",
     "start_time": "2023-06-07T01:04:55.908256300Z"
    }
   },
   "outputs": [
    {
     "name": "stderr",
     "output_type": "stream",
     "text": [
      "[nltk_data] Downloading package wordnet to\n",
      "[nltk_data]     C:\\Users\\adnan\\AppData\\Roaming\\nltk_data...\n",
      "[nltk_data]   Package wordnet is already up-to-date!\n",
      "[nltk_data] Downloading package omw-1.4 to\n",
      "[nltk_data]     C:\\Users\\adnan\\AppData\\Roaming\\nltk_data...\n",
      "[nltk_data]   Package omw-1.4 is already up-to-date!\n"
     ]
    },
    {
     "data": {
      "text/plain": "True"
     },
     "execution_count": 1,
     "metadata": {},
     "output_type": "execute_result"
    }
   ],
   "source": [
    "import nltk\n",
    "from pprint import pprint\n",
    "nltk.download('wordnet')\n",
    "nltk.download('omw-1.4')"
   ]
  },
  {
   "cell_type": "code",
   "execution_count": 2,
   "metadata": {
    "slideshow": {
     "slide_type": "slide"
    },
    "ExecuteTime": {
     "end_time": "2023-06-07T01:10:19.801199500Z",
     "start_time": "2023-06-07T01:10:19.793173200Z"
    }
   },
   "outputs": [],
   "source": [
    "# Let's import WordNet\n",
    "from nltk.corpus import wordnet"
   ]
  },
  {
   "cell_type": "code",
   "execution_count": 3,
   "metadata": {
    "slideshow": {
     "slide_type": "fragment"
    },
    "ExecuteTime": {
     "end_time": "2023-06-07T01:10:21.825737900Z",
     "start_time": "2023-06-07T01:10:21.733740700Z"
    }
   },
   "outputs": [
    {
     "name": "stdout",
     "output_type": "stream",
     "text": [
      "[Synset('bank.n.01'),\n",
      " Synset('depository_financial_institution.n.01'),\n",
      " Synset('bank.n.03'),\n",
      " Synset('bank.n.04'),\n",
      " Synset('bank.n.05'),\n",
      " Synset('bank.n.06'),\n",
      " Synset('bank.n.07'),\n",
      " Synset('savings_bank.n.02'),\n",
      " Synset('bank.n.09'),\n",
      " Synset('bank.n.10'),\n",
      " Synset('bank.v.01'),\n",
      " Synset('bank.v.02'),\n",
      " Synset('bank.v.03'),\n",
      " Synset('bank.v.04'),\n",
      " Synset('bank.v.05'),\n",
      " Synset('deposit.v.02'),\n",
      " Synset('bank.v.07'),\n",
      " Synset('trust.v.01')]\n"
     ]
    }
   ],
   "source": [
    "# printing senses of a word (including honomymy & polysemy)\n",
    "senses = wordnet.synsets('bank')\n",
    "pprint(senses)"
   ]
  },
  {
   "cell_type": "markdown",
   "metadata": {
    "slideshow": {
     "slide_type": "slide"
    }
   },
   "source": [
    "### 2.1. Synset \n",
    "The entity `bank.n.01` is called a __synset__, or \"synonym set\", a collection of synonymous words (or \"lemmas\").\n",
    "\n",
    "The name is composed as `<lemma>.<pos>.<number>` string where: \n",
    "- `<lemma>` is the word's morphological stem \n",
    "- `<pos>` is one of the module attributes `ADJ`, `ADJ_SAT`, `ADV`, `NOUN` or `VERB` \n",
    "- `<number>` is the sense number, counting from `0`\n",
    "\n",
    "Part-of-speech tags appear as below:\n",
    "\n",
    "| POS | in Synset Name |\n",
    "|:----|:---------------|\n",
    "| `wn.NOUN`    | `n`\n",
    "| `wn.VERB`    | `v`\n",
    "| `wn.ADV`     | `r`\n",
    "| `wn.ADJ`     | `a`\n",
    "| `wn.ADJ_SAT` | `s` (satelite adjective, ignore)\n"
   ]
  },
  {
   "cell_type": "code",
   "execution_count": 4,
   "metadata": {
    "scrolled": true,
    "slideshow": {
     "slide_type": "slide"
    },
    "ExecuteTime": {
     "end_time": "2023-06-07T01:10:27.225672500Z",
     "start_time": "2023-06-07T01:10:27.184245100Z"
    }
   },
   "outputs": [
    {
     "name": "stdout",
     "output_type": "stream",
     "text": [
      "[Synset('bank.n.01'),\n",
      " Synset('depository_financial_institution.n.01'),\n",
      " Synset('bank.n.03'),\n",
      " Synset('bank.n.04'),\n",
      " Synset('bank.n.05'),\n",
      " Synset('bank.n.06'),\n",
      " Synset('bank.n.07'),\n",
      " Synset('savings_bank.n.02'),\n",
      " Synset('bank.n.09'),\n",
      " Synset('bank.n.10')]\n",
      "\n",
      "POS: n\n"
     ]
    }
   ],
   "source": [
    "# it's possible to provide part of speech to filter senses as well\n",
    "senses = wordnet.synsets('bank', wordnet.NOUN)\n",
    "pprint(senses)\n",
    "print('')\n",
    "print(\"POS:\",senses[0].pos())  # part-of-speech tag of a synset"
   ]
  },
  {
   "cell_type": "markdown",
   "metadata": {
    "slideshow": {
     "slide_type": "fragment"
    }
   },
   "source": [
    "Each word of a synset can have several meanings, synset represents the single meaning that is common to all words in it. \n",
    "Each synset has a __definition__ and __example__ sentences, that can be accessed using `definition()` and `examples()` methods."
   ]
  },
  {
   "cell_type": "code",
   "execution_count": 5,
   "metadata": {
    "slideshow": {
     "slide_type": "fragment"
    },
    "ExecuteTime": {
     "end_time": "2023-06-07T01:10:29.547513200Z",
     "start_time": "2023-06-07T01:10:29.529515100Z"
    }
   },
   "outputs": [
    {
     "name": "stdout",
     "output_type": "stream",
     "text": [
      "sloping land (especially the slope beside a body of water)\n",
      "['they pulled the canoe up on the bank', 'he sat on the bank of the river and watched the currents']\n"
     ]
    }
   ],
   "source": [
    "print(senses[0].definition())\n",
    "print(senses[0].examples())"
   ]
  },
  {
   "cell_type": "markdown",
   "metadata": {
    "slideshow": {
     "slide_type": "slide"
    }
   },
   "source": [
    "### 2.2. Lemmatization\n",
    "`wordnet.synsets()` method expects a word to be a __lemma__, i.e. canonical (dictionary) form of a word. In case it does find a word in WordNet, it internally applies morphological transformation rules to strip off affixes untill it finds the form.\n",
    "\n",
    "```\n",
    "MORPHOLOGICAL_SUBSTITUTIONS = {\n",
    "    NOUN: [(\"s\", \"\"), (\"ses\", \"s\"), (\"ves\", \"f\"), (\"xes\", \"x\"), (\"zes\", \"z\"), \n",
    "           (\"ches\", \"ch\"), (\"shes\", \"sh\"), (\"men\", \"man\"), (\"ies\", \"y\"), ],\n",
    "    VERB: [(\"s\", \"\"), (\"ies\", \"y\"), (\"es\", \"e\"), (\"es\", \"\"), \n",
    "           (\"ed\", \"e\"), (\"ed\", \"\"), \n",
    "           (\"ing\", \"e\"), (\"ing\", \"\"), ],\n",
    "    ADJ: [(\"er\", \"\"), (\"est\", \"\"), (\"er\", \"e\"), (\"est\", \"e\")],\n",
    "    ADV: [],\n",
    "}\n",
    "```\n",
    "\n",
    "Those could be applied calling `wordnet.morphy()`."
   ]
  },
  {
   "cell_type": "code",
   "execution_count": 6,
   "metadata": {
    "slideshow": {
     "slide_type": "slide"
    },
    "ExecuteTime": {
     "end_time": "2023-06-07T01:10:33.629365700Z",
     "start_time": "2023-06-07T01:10:33.602366400Z"
    }
   },
   "outputs": [
    {
     "data": {
      "text/plain": "'bank'"
     },
     "execution_count": 6,
     "metadata": {},
     "output_type": "execute_result"
    }
   ],
   "source": [
    "wordnet.morphy('banked')"
   ]
  },
  {
   "cell_type": "code",
   "execution_count": 7,
   "metadata": {
    "slideshow": {
     "slide_type": "fragment"
    },
    "ExecuteTime": {
     "end_time": "2023-06-07T01:10:40.479672500Z",
     "start_time": "2023-06-07T01:10:40.447227700Z"
    }
   },
   "outputs": [
    {
     "data": {
      "text/plain": "[Synset('bank.v.01'),\n Synset('bank.v.02'),\n Synset('bank.v.03'),\n Synset('bank.v.04'),\n Synset('bank.v.05'),\n Synset('deposit.v.02'),\n Synset('bank.v.07'),\n Synset('trust.v.01')]"
     },
     "execution_count": 7,
     "metadata": {},
     "output_type": "execute_result"
    }
   ],
   "source": [
    "# Note that only verb synsets are listed\n",
    "wordnet.synsets('banked') "
   ]
  },
  {
   "cell_type": "markdown",
   "metadata": {
    "slideshow": {
     "slide_type": "slide"
    }
   },
   "source": [
    "`wordnet.morphy()` is the basis of the WordNet-based Lemmatizer in NLTK. The Lemmatizer can be used as follows, optionally providing a part-of-speech (default is NOUN)."
   ]
  },
  {
   "cell_type": "code",
   "execution_count": 8,
   "metadata": {
    "slideshow": {
     "slide_type": "fragment"
    },
    "ExecuteTime": {
     "end_time": "2023-06-07T01:10:57.504084300Z",
     "start_time": "2023-06-07T01:10:57.488085800Z"
    }
   },
   "outputs": [
    {
     "name": "stdout",
     "output_type": "stream",
     "text": [
      "bank\n",
      "bank\n",
      "bnked\n"
     ]
    }
   ],
   "source": [
    "from nltk.stem import WordNetLemmatizer\n",
    "lem = WordNetLemmatizer()\n",
    "print(lem.lemmatize('banks'))\n",
    "print(lem.lemmatize('banked', pos=wordnet.VERB))\n",
    "print(lem.lemmatize('bnked', pos=wordnet.VERB))  # returns the word itself if it cannot find it"
   ]
  },
  {
   "cell_type": "markdown",
   "metadata": {
    "slideshow": {
     "slide_type": "slide"
    }
   },
   "source": [
    "#### 2.2.1. Lemmas in WordNet\n",
    "In WordNet __Lemma__ is a pairing of words with a synset: `bank.n.01` + `bank`.\n",
    "\n",
    "From a __synset__ we can get:\n",
    "- all its lemmas (`lemmas()`)\n",
    "- all its lemma names (`lemma_names()`)\n",
    "\n",
    "From a __lemma__ we can get:\n",
    "- its name (`name()`)\n",
    "- synset it belongs to (`synset()`)\n",
    "\n",
    "Similar to synsets, we can get all lemmas for a word as well using `lemmas()`."
   ]
  },
  {
   "cell_type": "code",
   "execution_count": 9,
   "metadata": {
    "slideshow": {
     "slide_type": "slide"
    },
    "ExecuteTime": {
     "end_time": "2023-06-07T01:11:01.255932Z",
     "start_time": "2023-06-07T01:11:01.207895600Z"
    }
   },
   "outputs": [
    {
     "name": "stdout",
     "output_type": "stream",
     "text": [
      "[Lemma('bank.n.01.bank'),\n",
      " Lemma('depository_financial_institution.n.01.bank'),\n",
      " Lemma('bank.n.03.bank'),\n",
      " Lemma('bank.n.04.bank'),\n",
      " Lemma('bank.n.05.bank'),\n",
      " Lemma('bank.n.06.bank'),\n",
      " Lemma('bank.n.07.bank'),\n",
      " Lemma('savings_bank.n.02.bank'),\n",
      " Lemma('bank.n.09.bank'),\n",
      " Lemma('bank.n.10.bank'),\n",
      " Lemma('bank.v.01.bank'),\n",
      " Lemma('bank.v.02.bank'),\n",
      " Lemma('bank.v.03.bank'),\n",
      " Lemma('bank.v.04.bank'),\n",
      " Lemma('bank.v.05.bank'),\n",
      " Lemma('deposit.v.02.bank'),\n",
      " Lemma('bank.v.07.bank'),\n",
      " Lemma('trust.v.01.bank')]\n"
     ]
    }
   ],
   "source": [
    "lemmas = wordnet.lemmas('bank')\n",
    "pprint(lemmas)"
   ]
  },
  {
   "cell_type": "code",
   "execution_count": 10,
   "metadata": {
    "slideshow": {
     "slide_type": "fragment"
    },
    "ExecuteTime": {
     "end_time": "2023-06-07T01:11:03.433242400Z",
     "start_time": "2023-06-07T01:11:03.410243900Z"
    }
   },
   "outputs": [
    {
     "name": "stdout",
     "output_type": "stream",
     "text": [
      "bank\n",
      "Synset('bank.n.01')\n"
     ]
    }
   ],
   "source": [
    "# Look up lemma directly\n",
    "lemma = wordnet.lemma('bank.n.01.bank')\n",
    "print(lemma.name())\n",
    "print(lemma.synset())"
   ]
  },
  {
   "cell_type": "code",
   "execution_count": 11,
   "metadata": {
    "slideshow": {
     "slide_type": "fragment"
    },
    "ExecuteTime": {
     "end_time": "2023-06-07T01:11:04.017776500Z",
     "start_time": "2023-06-07T01:11:03.971776800Z"
    }
   },
   "outputs": [
    {
     "name": "stdout",
     "output_type": "stream",
     "text": [
      "[Lemma('bank.n.01.bank')]\n",
      "['bank']\n"
     ]
    }
   ],
   "source": [
    "# Get Lemmas of a synset\n",
    "print(senses[0].lemmas())\n",
    "print(senses[0].lemma_names())"
   ]
  },
  {
   "cell_type": "markdown",
   "metadata": {
    "slideshow": {
     "slide_type": "slide"
    }
   },
   "source": [
    "### 2.3. Lexical Relations beween Synsets\n",
    "\n",
    "WordNet synsets correspond to abstract concepts that are linked together in a hierarchy from very general (such as `Entity`, `State`, `Event` a.k.a *unique beginners* or *root synsets*) to very specific. \n",
    "\n",
    "Hypernymy/Hyponymy relations are used to navigate the taxonomy using `hypernyms()` and `hyponyms()` methods.\n",
    "\n",
    "- `hypernym_paths()` gets the lists of the hypernym synsets to the root (several paths are possible)\n",
    "- `root_hypernyms()` gets the root synset\n",
    "- `hypernym_distances()` get the path(s) from the synset to the root, counting the distance of each node from the initial node on the way\n",
    "\n",
    "- `max_depth()` returns the length of the longest hypernym path from the synset to the root.\n",
    "- `min_depth()` returns the length of the shortest hypernym path from the synset to the root."
   ]
  },
  {
   "cell_type": "code",
   "execution_count": 12,
   "metadata": {
    "slideshow": {
     "slide_type": "slide"
    },
    "ExecuteTime": {
     "end_time": "2023-06-07T01:11:49.528972100Z",
     "start_time": "2023-06-07T01:11:49.514013100Z"
    }
   },
   "outputs": [
    {
     "name": "stdout",
     "output_type": "stream",
     "text": [
      "'sloping land (especially the slope beside a body of water)'\n",
      "[Synset('riverbank.n.01'), Synset('waterside.n.01')]\n",
      "[Synset('slope.n.01')]\n"
     ]
    }
   ],
   "source": [
    "pprint(senses[0].definition())\n",
    "pprint(senses[0].hyponyms())\n",
    "pprint(senses[0].hypernyms())"
   ]
  },
  {
   "cell_type": "code",
   "execution_count": 13,
   "metadata": {
    "scrolled": true,
    "slideshow": {
     "slide_type": "slide"
    },
    "ExecuteTime": {
     "end_time": "2023-06-07T01:11:58.472711400Z",
     "start_time": "2023-06-07T01:11:58.445677400Z"
    }
   },
   "outputs": [
    {
     "name": "stdout",
     "output_type": "stream",
     "text": [
      "[[Synset('entity.n.01'),\n",
      "  Synset('physical_entity.n.01'),\n",
      "  Synset('object.n.01'),\n",
      "  Synset('geological_formation.n.01'),\n",
      "  Synset('slope.n.01'),\n",
      "  Synset('bank.n.01')]]\n",
      "{(Synset('bank.n.01'), 0),\n",
      " (Synset('entity.n.01'), 5),\n",
      " (Synset('geological_formation.n.01'), 2),\n",
      " (Synset('object.n.01'), 3),\n",
      " (Synset('physical_entity.n.01'), 4),\n",
      " (Synset('slope.n.01'), 1)}\n",
      "[Synset('entity.n.01')]\n",
      "5\n",
      "5\n"
     ]
    }
   ],
   "source": [
    "# getting paths to the root of the taxonomy\n",
    "pprint(senses[0].hypernym_paths())\n",
    "# getting hypernyms with distances\n",
    "pprint(senses[0].hypernym_distances())\n",
    "# getting the root node\n",
    "pprint(senses[0].root_hypernyms())\n",
    "print(senses[0].max_depth())\n",
    "print(senses[0].min_depth())"
   ]
  },
  {
   "cell_type": "markdown",
   "metadata": {
    "slideshow": {
     "slide_type": "slide"
    }
   },
   "source": [
    "Read about other relations defined for synsets and lemmas in the [NLTK documentation](http://www.nltk.org/api/nltk.corpus.reader.html#module-nltk.corpus.reader.wordnet).\n",
    "\n",
    "__Whole description of WordNet methods and structure is out of the scope of the lab.__"
   ]
  },
  {
   "cell_type": "markdown",
   "metadata": {
    "slideshow": {
     "slide_type": "slide"
    }
   },
   "source": [
    "## 3. Lesk Algorithm\n",
    "\n",
    "> \"What we try is to guess the correct word sense by counting overlaps between dictionary definitions of the various senses.\" \n",
    "\n",
    "(Lesk, Michael. \"Automatic sense disambiguation using machine readable dictionaries: how to tell a pine cone from an ice cream cone.\" Proceedings of the 5th Annual International Conference on Systems Documentation. ACM, 1986.)"
   ]
  },
  {
   "cell_type": "markdown",
   "metadata": {
    "slideshow": {
     "slide_type": "slide"
    }
   },
   "source": [
    "### 3.1. Simplified Lesk Algorithm\n",
    "\n",
    "Kilgarriff and Rosenzweig (2000) [English SENSEVAL](http://www.lrec-conf.org/proceedings/lrec2000/pdf/8.pdf)\n",
    "\n",
    "```\n",
    "For each sense s of that word,\n",
    "    set weight(s) to zero.\n",
    "\n",
    "Identify set of unique words W in surrounding sentence.\n",
    "\n",
    "For each word w in W,\n",
    "    for each sense s,\n",
    "        if w occurs in the definition or example sentences of s,\n",
    "            add weight(w) to weight(s).\n",
    "Choose sense with greatest weight(s)\n",
    "```"
   ]
  },
  {
   "cell_type": "markdown",
   "metadata": {
    "slideshow": {
     "slide_type": "fragment"
    }
   },
   "source": [
    "> `weight(w)` is defined as the [inverse document frequency](https://en.wikipedia.org/wiki/Tf–idf) (IDF) of the word `w` over the definitions and example sentences in the dictionary. The IDF of a word `w` is computed as `-log(p(w))`, where `p(w)` is estimated as the fraction of dictionary \"documents\" -- definition or examples -- which contain the word. \n",
    "\n",
    "$$ IDF = -\\log {|\\{d \\in D : w \\in d\\}| \\over |D|}$$\n",
    "\n",
    "where `w` is the word and `D` is the set of documents\n"
   ]
  },
  {
   "cell_type": "markdown",
   "metadata": {
    "slideshow": {
     "slide_type": "slide"
    }
   },
   "source": [
    "### 3.2. Lesk Plus Corpus\n",
    "\n",
    "> LESK-PLUS-CORPUS is as LESK, but also considers the tagged training data, so can be compared with supervised\n",
    "systems. For each word in the sentence containing the test item, it tests whether `w` occurs in the dictionary entry or corpus instances for each candidate sense.\n"
   ]
  },
  {
   "cell_type": "markdown",
   "metadata": {
    "slideshow": {
     "slide_type": "slide"
    }
   },
   "source": [
    "### 3.3. Simple Lesk with Equal Weights\n",
    "\n",
    "If all words are equally weighted, we compute an overlap between the definitions and example (signature) with the words in the context.\n",
    "The algorithm becomes simpler.\n",
    "\n",
    "```\n",
    "function SIMPLIFIED LESK(word, sentence) returns best sense of word\n",
    "    best-sense := most frequent sense for word (i.e. first in WordNet)\n",
    "    max-overlap := 0\n",
    "    context := set of words in sentence\n",
    "    for each sense in senses of word do\n",
    "        signature := set of words in gloss and examples of sense\n",
    "        overlap := COMPUTE_OVERLAP(signature, context)\n",
    "        if overlap > max-overlap then\n",
    "            max-overlap := overlap\n",
    "            best-sense := sense\n",
    "    end\n",
    "return(best-sense)\n",
    "```\n",
    "\n",
    "```\n",
    "COMPUTE OVERLAP returns the number of words in common between two sets.\n",
    "```"
   ]
  },
  {
   "cell_type": "markdown",
   "metadata": {
    "slideshow": {
     "slide_type": "slide"
    }
   },
   "source": [
    "#### Improvements\n",
    "\n",
    "- Removing stop words\n",
    "    - IDF makes them weight less in Simplified Lesk by Kilgarriff and Rosenzweig (2000)"
   ]
  },
  {
   "cell_type": "markdown",
   "metadata": {
    "slideshow": {
     "slide_type": "slide"
    }
   },
   "source": [
    "### 3.4. Using Lesk in NLTK\n",
    "NLTK provide the implementation of the Lesk Algorithm is [`wsd` module](https://www.nltk.org/_modules/nltk/wsd.html)."
   ]
  },
  {
   "cell_type": "code",
   "execution_count": 14,
   "metadata": {
    "slideshow": {
     "slide_type": "fragment"
    },
    "ExecuteTime": {
     "end_time": "2023-06-07T01:33:42.205661800Z",
     "start_time": "2023-06-07T01:33:42.186627Z"
    }
   },
   "outputs": [
    {
     "name": "stdout",
     "output_type": "stream",
     "text": [
      "Synset('bank.n.01')\n",
      "sloping land (especially the slope beside a body of water)\n"
     ]
    }
   ],
   "source": [
    "from nltk.wsd import lesk\n",
    "\n",
    "sense = lesk('Jane sat on the sloping bank of a river beside the water'.split(), 'bank')\n",
    "print(sense)\n",
    "print(sense.definition())"
   ]
  },
  {
   "cell_type": "code",
   "execution_count": 15,
   "outputs": [
    {
     "name": "stdout",
     "output_type": "stream",
     "text": [
      "Synset('bank.n.01')\n"
     ]
    }
   ],
   "source": [
    "# possible to specify the POS\n",
    "print(lesk('Jane sat on the sloping bank of a river beside the water'.split(), 'bank',  pos=wordnet.NOUN))"
   ],
   "metadata": {
    "collapsed": false,
    "ExecuteTime": {
     "end_time": "2023-06-07T01:34:09.904794200Z",
     "start_time": "2023-06-07T01:34:09.886795500Z"
    }
   }
  },
  {
   "cell_type": "code",
   "execution_count": 16,
   "outputs": [
    {
     "name": "stdout",
     "output_type": "stream",
     "text": [
      "Synset('riverbank.n.01')\n"
     ]
    }
   ],
   "source": [
    "# possible to specify the synsets to choose from\n",
    "print(lesk('Jane sat on the sloping bank of a river beside the water'.split(), 'bank', synsets=wordnet.synsets('riverbank')))"
   ],
   "metadata": {
    "collapsed": false,
    "ExecuteTime": {
     "end_time": "2023-06-07T01:34:26.155730500Z",
     "start_time": "2023-06-07T01:34:26.137731400Z"
    }
   }
  },
  {
   "cell_type": "code",
   "execution_count": null,
   "outputs": [],
   "source": [],
   "metadata": {
    "collapsed": false
   }
  },
  {
   "cell_type": "markdown",
   "metadata": {
    "slideshow": {
     "slide_type": "slide"
    }
   },
   "source": [
    "### 3.5. Alternative Implementations of Lesk in `pywsd`\n",
    "\n",
    "[`pywsd` library](https://github.com/alvations/pywsd) provides several variants of the Lesk algorithm.\n",
    "\n",
    "\n",
    "\n",
    "- Original Lesk (Lesk, 1986) -- also *simplified*\n",
    "- Adapted/Extended Lesk (Banerjee and Pederson, 2002/2003)\n",
    "- Simple Lesk (with definition, example(s) and hyper+hyponyms)\n",
    "- Cosine Lesk (use cosines to calculate overlaps instead of using raw counts)\n",
    "\n",
    "Unfortunatelly, it has some compatibility issues. However, can be consulted for implementations."
   ]
  },
  {
   "cell_type": "code",
   "execution_count": 17,
   "outputs": [
    {
     "name": "stdout",
     "output_type": "stream",
     "text": [
      "Collecting pywsd\n",
      "  Downloading pywsd-1.2.5-py3-none-any.whl (26.9 MB)\n",
      "     ---------------------------------------- 0.0/26.9 MB ? eta -:--:--\n",
      "     ---------------------------------------- 0.0/26.9 MB ? eta -:--:--\n",
      "     --------------------------------------- 0.1/26.9 MB 991.0 kB/s eta 0:00:28\n",
      "     ---------------------------------------- 0.1/26.9 MB 1.1 MB/s eta 0:00:26\n",
      "     ---------------------------------------- 0.1/26.9 MB 1.1 MB/s eta 0:00:26\n",
      "     ---------------------------------------- 0.1/26.9 MB 1.1 MB/s eta 0:00:26\n",
      "     --------------------------------------- 0.3/26.9 MB 983.0 kB/s eta 0:00:28\n",
      "     --------------------------------------- 0.3/26.9 MB 983.9 kB/s eta 0:00:28\n",
      "     --------------------------------------- 0.3/26.9 MB 952.6 kB/s eta 0:00:28\n",
      "      -------------------------------------- 0.4/26.9 MB 969.8 kB/s eta 0:00:28\n",
      "      -------------------------------------- 0.4/26.9 MB 969.8 kB/s eta 0:00:28\n",
      "      -------------------------------------- 0.5/26.9 MB 972.0 kB/s eta 0:00:28\n",
      "      -------------------------------------- 0.5/26.9 MB 932.7 kB/s eta 0:00:29\n",
      "      -------------------------------------- 0.5/26.9 MB 947.5 kB/s eta 0:00:28\n",
      "      -------------------------------------- 0.6/26.9 MB 958.4 kB/s eta 0:00:28\n",
      "      -------------------------------------- 0.6/26.9 MB 967.8 kB/s eta 0:00:28\n",
      "     - ------------------------------------- 0.7/26.9 MB 975.9 kB/s eta 0:00:27\n",
      "     - ------------------------------------- 0.7/26.9 MB 949.1 kB/s eta 0:00:28\n",
      "     - ------------------------------------- 0.8/26.9 MB 963.6 kB/s eta 0:00:28\n",
      "     - ------------------------------------- 0.8/26.9 MB 958.5 kB/s eta 0:00:28\n",
      "     - ------------------------------------- 0.9/26.9 MB 965.4 kB/s eta 0:00:28\n",
      "     - ------------------------------------- 0.9/26.9 MB 966.2 kB/s eta 0:00:27\n",
      "     - ------------------------------------- 1.0/26.9 MB 957.4 kB/s eta 0:00:28\n",
      "     - ------------------------------------- 1.0/26.9 MB 963.4 kB/s eta 0:00:27\n",
      "     - ------------------------------------- 1.0/26.9 MB 964.2 kB/s eta 0:00:27\n",
      "     - ------------------------------------- 1.1/26.9 MB 955.7 kB/s eta 0:00:28\n",
      "     - ------------------------------------- 1.1/26.9 MB 961.1 kB/s eta 0:00:27\n",
      "     - ------------------------------------- 1.2/26.9 MB 966.0 kB/s eta 0:00:27\n",
      "     - ------------------------------------- 1.2/26.9 MB 966.7 kB/s eta 0:00:27\n",
      "     - ------------------------------------- 1.3/26.9 MB 960.0 kB/s eta 0:00:27\n",
      "     - ------------------------------------- 1.3/26.9 MB 956.9 kB/s eta 0:00:27\n",
      "     - ------------------------------------- 1.4/26.9 MB 964.4 kB/s eta 0:00:27\n",
      "     -- ------------------------------------ 1.4/26.9 MB 962.0 kB/s eta 0:00:27\n",
      "     -- ------------------------------------ 1.4/26.9 MB 955.7 kB/s eta 0:00:27\n",
      "     -- ------------------------------------ 1.5/26.9 MB 956.4 kB/s eta 0:00:27\n",
      "     -- ------------------------------------ 1.5/26.9 MB 960.4 kB/s eta 0:00:27\n",
      "     -- ------------------------------------ 1.6/26.9 MB 961.0 kB/s eta 0:00:27\n",
      "     -- ------------------------------------ 1.6/26.9 MB 955.4 kB/s eta 0:00:27\n",
      "     -- ------------------------------------ 1.7/26.9 MB 959.1 kB/s eta 0:00:27\n",
      "     -- ------------------------------------ 1.7/26.9 MB 959.6 kB/s eta 0:00:27\n",
      "     -- ------------------------------------ 1.8/26.9 MB 960.7 kB/s eta 0:00:27\n",
      "     -- ------------------------------------ 1.8/26.9 MB 964.0 kB/s eta 0:00:27\n",
      "     -- ------------------------------------ 1.8/26.9 MB 956.3 kB/s eta 0:00:27\n",
      "     -- ------------------------------------ 1.9/26.9 MB 956.9 kB/s eta 0:00:27\n",
      "     -- ------------------------------------ 1.9/26.9 MB 960.0 kB/s eta 0:00:27\n",
      "     -- ------------------------------------ 2.0/26.9 MB 955.5 kB/s eta 0:00:27\n",
      "     -- ------------------------------------ 2.0/26.9 MB 958.5 kB/s eta 0:00:27\n",
      "     -- ------------------------------------ 2.0/26.9 MB 958.9 kB/s eta 0:00:26\n",
      "     --- ----------------------------------- 2.1/26.9 MB 961.8 kB/s eta 0:00:26\n",
      "     --- ----------------------------------- 2.1/26.9 MB 953.4 kB/s eta 0:00:27\n",
      "     --- ----------------------------------- 2.2/26.9 MB 958.0 kB/s eta 0:00:26\n",
      "     --- ----------------------------------- 2.2/26.9 MB 956.7 kB/s eta 0:00:26\n",
      "     --- ----------------------------------- 2.3/26.9 MB 959.3 kB/s eta 0:00:26\n",
      "     --- ----------------------------------- 2.3/26.9 MB 955.5 kB/s eta 0:00:26\n",
      "     --- ----------------------------------- 2.4/26.9 MB 956.0 kB/s eta 0:00:26\n",
      "     --- ----------------------------------- 2.4/26.9 MB 958.5 kB/s eta 0:00:26\n",
      "     --- ----------------------------------- 2.5/26.9 MB 960.9 kB/s eta 0:00:26\n",
      "     --- ----------------------------------- 2.5/26.9 MB 953.7 kB/s eta 0:00:26\n",
      "     --- ----------------------------------- 2.5/26.9 MB 957.7 kB/s eta 0:00:26\n",
      "     --- ----------------------------------- 2.6/26.9 MB 956.5 kB/s eta 0:00:26\n",
      "     --- ----------------------------------- 2.6/26.9 MB 960.4 kB/s eta 0:00:26\n",
      "     --- ----------------------------------- 2.7/26.9 MB 958.8 kB/s eta 0:00:26\n",
      "     --- ----------------------------------- 2.7/26.9 MB 955.9 kB/s eta 0:00:26\n",
      "     ---- ---------------------------------- 2.8/26.9 MB 958.1 kB/s eta 0:00:26\n",
      "     ---- ---------------------------------- 2.8/26.9 MB 958.5 kB/s eta 0:00:26\n",
      "     ---- ---------------------------------- 2.8/26.9 MB 955.4 kB/s eta 0:00:26\n",
      "     ---- ---------------------------------- 2.9/26.9 MB 957.5 kB/s eta 0:00:26\n",
      "     ---- ---------------------------------- 2.9/26.9 MB 959.8 kB/s eta 0:00:25\n",
      "     ---- ---------------------------------- 3.0/26.9 MB 959.8 kB/s eta 0:00:25\n",
      "     ---- ---------------------------------- 3.0/26.9 MB 958.5 kB/s eta 0:00:25\n",
      "     ---- ---------------------------------- 3.1/26.9 MB 955.9 kB/s eta 0:00:25\n",
      "     ---- ---------------------------------- 3.1/26.9 MB 957.8 kB/s eta 0:00:25\n",
      "     ---- ---------------------------------- 3.2/26.9 MB 958.1 kB/s eta 0:00:25\n",
      "     ---- ---------------------------------- 3.2/26.9 MB 960.0 kB/s eta 0:00:25\n",
      "     ---- ---------------------------------- 3.3/26.9 MB 957.3 kB/s eta 0:00:25\n",
      "     ---- ---------------------------------- 3.3/26.9 MB 957.6 kB/s eta 0:00:25\n",
      "     ---- ---------------------------------- 3.3/26.9 MB 959.4 kB/s eta 0:00:25\n",
      "     ---- ---------------------------------- 3.4/26.9 MB 961.1 kB/s eta 0:00:25\n",
      "     ---- ---------------------------------- 3.4/26.9 MB 955.9 kB/s eta 0:00:25\n",
      "     ----- --------------------------------- 3.5/26.9 MB 957.6 kB/s eta 0:00:25\n",
      "     ----- --------------------------------- 3.5/26.9 MB 957.9 kB/s eta 0:00:25\n",
      "     ----- --------------------------------- 3.5/26.9 MB 954.0 kB/s eta 0:00:25\n",
      "     ----- --------------------------------- 3.6/26.9 MB 955.7 kB/s eta 0:00:25\n",
      "     ----- --------------------------------- 3.6/26.9 MB 957.4 kB/s eta 0:00:25\n",
      "     ----- --------------------------------- 3.7/26.9 MB 956.3 kB/s eta 0:00:25\n",
      "     ----- --------------------------------- 3.7/26.9 MB 956.6 kB/s eta 0:00:25\n",
      "     ----- --------------------------------- 3.8/26.9 MB 954.6 kB/s eta 0:00:25\n",
      "     ----- --------------------------------- 3.8/26.9 MB 956.1 kB/s eta 0:00:25\n",
      "     ----- --------------------------------- 3.9/26.9 MB 955.2 kB/s eta 0:00:25\n",
      "     ----- --------------------------------- 3.9/26.9 MB 958.0 kB/s eta 0:00:25\n",
      "     ----- --------------------------------- 3.9/26.9 MB 953.2 kB/s eta 0:00:25\n",
      "     ----- --------------------------------- 4.0/26.9 MB 954.8 kB/s eta 0:00:25\n",
      "     ----- --------------------------------- 4.0/26.9 MB 955.1 kB/s eta 0:00:24\n",
      "     ----- --------------------------------- 4.1/26.9 MB 956.5 kB/s eta 0:00:24\n",
      "     ----- --------------------------------- 4.1/26.9 MB 954.7 kB/s eta 0:00:24\n",
      "     ------ -------------------------------- 4.2/26.9 MB 954.7 kB/s eta 0:00:24\n",
      "     ------ -------------------------------- 4.2/26.9 MB 956.1 kB/s eta 0:00:24\n",
      "     ------ -------------------------------- 4.3/26.9 MB 957.8 kB/s eta 0:00:24\n",
      "     ------ -------------------------------- 4.3/26.9 MB 956.9 kB/s eta 0:00:24\n",
      "     ------ -------------------------------- 4.3/26.9 MB 956.0 kB/s eta 0:00:24\n",
      "     ------ -------------------------------- 4.4/26.9 MB 955.1 kB/s eta 0:00:24\n",
      "     ------ -------------------------------- 4.4/26.9 MB 956.5 kB/s eta 0:00:24\n",
      "     ------ -------------------------------- 4.5/26.9 MB 953.4 kB/s eta 0:00:24\n",
      "     ------ -------------------------------- 4.5/26.9 MB 954.8 kB/s eta 0:00:24\n",
      "     ------ -------------------------------- 4.5/26.9 MB 955.0 kB/s eta 0:00:24\n",
      "     ------ -------------------------------- 4.6/26.9 MB 956.3 kB/s eta 0:00:24\n",
      "     ------ -------------------------------- 4.6/26.9 MB 954.7 kB/s eta 0:00:24\n",
      "     ------ -------------------------------- 4.7/26.9 MB 954.7 kB/s eta 0:00:24\n",
      "     ------ -------------------------------- 4.7/26.9 MB 954.9 kB/s eta 0:00:24\n",
      "     ------ -------------------------------- 4.8/26.9 MB 955.4 kB/s eta 0:00:24\n",
      "     ------ -------------------------------- 4.8/26.9 MB 956.6 kB/s eta 0:00:24\n",
      "     ------- ------------------------------- 4.9/26.9 MB 953.8 kB/s eta 0:00:24\n",
      "     ------- ------------------------------- 4.9/26.9 MB 955.1 kB/s eta 0:00:24\n",
      "     ------- ------------------------------- 5.0/26.9 MB 956.3 kB/s eta 0:00:23\n",
      "     ------- ------------------------------- 5.0/26.9 MB 956.5 kB/s eta 0:00:23\n",
      "     ------- ------------------------------- 5.0/26.9 MB 954.8 kB/s eta 0:00:23\n",
      "     ------- ------------------------------- 5.1/26.9 MB 956.1 kB/s eta 0:00:23\n",
      "     ------- ------------------------------- 5.1/26.9 MB 956.2 kB/s eta 0:00:23\n",
      "     ------- ------------------------------- 5.2/26.9 MB 957.3 kB/s eta 0:00:23\n",
      "     ------- ------------------------------- 5.2/26.9 MB 954.0 kB/s eta 0:00:23\n",
      "     ------- ------------------------------- 5.3/26.9 MB 956.0 kB/s eta 0:00:23\n",
      "     ------- ------------------------------- 5.3/26.9 MB 954.4 kB/s eta 0:00:23\n",
      "     ------- ------------------------------- 5.4/26.9 MB 955.5 kB/s eta 0:00:23\n",
      "     ------- ------------------------------- 5.4/26.9 MB 955.7 kB/s eta 0:00:23\n",
      "     ------- ------------------------------- 5.4/26.9 MB 956.8 kB/s eta 0:00:23\n",
      "     ------- ------------------------------- 5.5/26.9 MB 955.4 kB/s eta 0:00:23\n",
      "     -------- ------------------------------ 5.5/26.9 MB 957.2 kB/s eta 0:00:23\n",
      "     -------- ------------------------------ 5.6/26.9 MB 954.1 kB/s eta 0:00:23\n",
      "     -------- ------------------------------ 5.6/26.9 MB 956.0 kB/s eta 0:00:23\n",
      "     -------- ------------------------------ 5.7/26.9 MB 952.8 kB/s eta 0:00:23\n",
      "     -------- ------------------------------ 5.7/26.9 MB 953.8 kB/s eta 0:00:23\n",
      "     -------- ------------------------------ 5.7/26.9 MB 955.7 kB/s eta 0:00:23\n",
      "     -------- ------------------------------ 5.8/26.9 MB 955.1 kB/s eta 0:00:23\n",
      "     -------- ------------------------------ 5.8/26.9 MB 954.4 kB/s eta 0:00:23\n",
      "     -------- ------------------------------ 5.9/26.9 MB 955.5 kB/s eta 0:00:23\n",
      "     -------- ------------------------------ 5.9/26.9 MB 953.3 kB/s eta 0:00:23\n",
      "     -------- ------------------------------ 6.0/26.9 MB 954.4 kB/s eta 0:00:22\n",
      "     -------- ------------------------------ 6.0/26.9 MB 955.4 kB/s eta 0:00:22\n",
      "     -------- ------------------------------ 6.0/26.9 MB 953.1 kB/s eta 0:00:22\n",
      "     -------- ------------------------------ 6.1/26.9 MB 956.5 kB/s eta 0:00:22\n",
      "     -------- ------------------------------ 6.1/26.9 MB 955.1 kB/s eta 0:00:22\n",
      "     -------- ------------------------------ 6.2/26.9 MB 956.1 kB/s eta 0:00:22\n",
      "     --------- ----------------------------- 6.2/26.9 MB 956.3 kB/s eta 0:00:22\n",
      "     --------- ----------------------------- 6.3/26.9 MB 957.2 kB/s eta 0:00:22\n",
      "     --------- ----------------------------- 6.3/26.9 MB 954.4 kB/s eta 0:00:22\n",
      "     --------- ----------------------------- 6.4/26.9 MB 956.0 kB/s eta 0:00:22\n",
      "     --------- ----------------------------- 6.4/26.9 MB 955.5 kB/s eta 0:00:22\n",
      "     --------- ----------------------------- 6.4/26.9 MB 957.1 kB/s eta 0:00:22\n",
      "     --------- ----------------------------- 6.5/26.9 MB 955.1 kB/s eta 0:00:22\n",
      "     --------- ----------------------------- 6.5/26.9 MB 955.3 kB/s eta 0:00:22\n",
      "     --------- ----------------------------- 6.6/26.9 MB 956.2 kB/s eta 0:00:22\n",
      "     --------- ----------------------------- 6.6/26.9 MB 957.1 kB/s eta 0:00:22\n",
      "     --------- ----------------------------- 6.7/26.9 MB 956.0 kB/s eta 0:00:22\n",
      "     --------- ----------------------------- 6.7/26.9 MB 957.4 kB/s eta 0:00:22\n",
      "     --------- ----------------------------- 6.8/26.9 MB 955.6 kB/s eta 0:00:22\n",
      "     --------- ----------------------------- 6.8/26.9 MB 956.4 kB/s eta 0:00:22\n",
      "     --------- ----------------------------- 6.9/26.9 MB 957.3 kB/s eta 0:00:21\n",
      "     --------- ----------------------------- 6.9/26.9 MB 956.8 kB/s eta 0:00:21\n",
      "     ---------- ---------------------------- 6.9/26.9 MB 956.2 kB/s eta 0:00:21\n",
      "     ---------- ---------------------------- 7.0/26.9 MB 955.7 kB/s eta 0:00:21\n",
      "     ---------- ---------------------------- 7.0/26.9 MB 956.5 kB/s eta 0:00:21\n",
      "     ---------- ---------------------------- 7.1/26.9 MB 956.7 kB/s eta 0:00:21\n",
      "     ---------- ---------------------------- 7.1/26.9 MB 955.6 kB/s eta 0:00:21\n",
      "     ---------- ---------------------------- 7.2/26.9 MB 956.4 kB/s eta 0:00:21\n",
      "     ---------- ---------------------------- 7.2/26.9 MB 956.4 kB/s eta 0:00:21\n",
      "     ---------- ---------------------------- 7.2/26.9 MB 955.4 kB/s eta 0:00:21\n",
      "     ---------- ---------------------------- 7.3/26.9 MB 955.5 kB/s eta 0:00:21\n",
      "     ---------- ---------------------------- 7.3/26.9 MB 955.7 kB/s eta 0:00:21\n",
      "     ---------- ---------------------------- 7.4/26.9 MB 955.8 kB/s eta 0:00:21\n",
      "     ---------- ---------------------------- 7.4/26.9 MB 956.6 kB/s eta 0:00:21\n",
      "     ---------- ---------------------------- 7.5/26.9 MB 955.6 kB/s eta 0:00:21\n",
      "     ---------- ---------------------------- 7.5/26.9 MB 955.6 kB/s eta 0:00:21\n",
      "     ---------- ---------------------------- 7.6/26.9 MB 956.4 kB/s eta 0:00:21\n",
      "     ----------- --------------------------- 7.6/26.9 MB 957.3 kB/s eta 0:00:21\n",
      "     ----------- --------------------------- 7.6/26.9 MB 954.9 kB/s eta 0:00:21\n",
      "     ----------- --------------------------- 7.7/26.9 MB 956.3 kB/s eta 0:00:21\n",
      "     ----------- --------------------------- 7.7/26.9 MB 955.8 kB/s eta 0:00:21\n",
      "     ----------- --------------------------- 7.8/26.9 MB 956.6 kB/s eta 0:00:21\n",
      "     ----------- --------------------------- 7.8/26.9 MB 957.2 kB/s eta 0:00:20\n",
      "     ----------- --------------------------- 7.9/26.9 MB 955.6 kB/s eta 0:00:20\n",
      "     ----------- --------------------------- 7.9/26.9 MB 956.4 kB/s eta 0:00:20\n",
      "     ----------- --------------------------- 7.9/26.9 MB 956.5 kB/s eta 0:00:20\n",
      "     ----------- --------------------------- 8.0/26.9 MB 955.5 kB/s eta 0:00:20\n",
      "     ----------- --------------------------- 8.0/26.9 MB 955.5 kB/s eta 0:00:20\n",
      "     ----------- --------------------------- 8.1/26.9 MB 956.4 kB/s eta 0:00:20\n",
      "     ----------- --------------------------- 8.1/26.9 MB 955.3 kB/s eta 0:00:20\n",
      "     ----------- --------------------------- 8.2/26.9 MB 956.7 kB/s eta 0:00:20\n",
      "     ----------- --------------------------- 8.2/26.9 MB 955.0 kB/s eta 0:00:20\n",
      "     ----------- --------------------------- 8.3/26.9 MB 955.7 kB/s eta 0:00:20\n",
      "     ------------ -------------------------- 8.3/26.9 MB 954.8 kB/s eta 0:00:20\n",
      "     ------------ -------------------------- 8.4/26.9 MB 955.5 kB/s eta 0:00:20\n",
      "     ------------ -------------------------- 8.4/26.9 MB 955.5 kB/s eta 0:00:20\n",
      "     ------------ -------------------------- 8.4/26.9 MB 956.4 kB/s eta 0:00:20\n",
      "     ------------ -------------------------- 8.5/26.9 MB 955.9 kB/s eta 0:00:20\n",
      "     ------------ -------------------------- 8.5/26.9 MB 955.5 kB/s eta 0:00:20\n",
      "     ------------ -------------------------- 8.6/26.9 MB 955.0 kB/s eta 0:00:20\n",
      "     ------------ -------------------------- 8.6/26.9 MB 955.7 kB/s eta 0:00:20\n",
      "     ------------ -------------------------- 8.6/26.9 MB 955.9 kB/s eta 0:00:20\n",
      "     ------------ -------------------------- 8.7/26.9 MB 954.9 kB/s eta 0:00:20\n",
      "     ------------ -------------------------- 8.7/26.9 MB 955.6 kB/s eta 0:00:20\n",
      "     ------------ -------------------------- 8.8/26.9 MB 955.7 kB/s eta 0:00:20\n",
      "     ------------ -------------------------- 8.8/26.9 MB 954.8 kB/s eta 0:00:19\n",
      "     ------------ -------------------------- 8.9/26.9 MB 955.5 kB/s eta 0:00:19\n",
      "     ------------ -------------------------- 8.9/26.9 MB 955.6 kB/s eta 0:00:19\n",
      "     ------------ -------------------------- 9.0/26.9 MB 956.3 kB/s eta 0:00:19\n",
      "     ------------- ------------------------- 9.0/26.9 MB 955.2 kB/s eta 0:00:19\n",
      "     ------------- ------------------------- 9.0/26.9 MB 954.3 kB/s eta 0:00:19\n",
      "     ------------- ------------------------- 9.1/26.9 MB 955.0 kB/s eta 0:00:19\n",
      "     ------------- ------------------------- 9.1/26.9 MB 955.7 kB/s eta 0:00:19\n",
      "     ------------- ------------------------- 9.2/26.9 MB 954.2 kB/s eta 0:00:19\n",
      "     ------------- ------------------------- 9.2/26.9 MB 954.9 kB/s eta 0:00:19\n",
      "     ------------- ------------------------- 9.3/26.9 MB 955.6 kB/s eta 0:00:19\n",
      "     ------------- ------------------------- 9.3/26.9 MB 955.1 kB/s eta 0:00:19\n",
      "     ------------- ------------------------- 9.3/26.9 MB 954.8 kB/s eta 0:00:19\n",
      "     ------------- ------------------------- 9.4/26.9 MB 954.9 kB/s eta 0:00:19\n",
      "     ------------- ------------------------- 9.4/26.9 MB 955.6 kB/s eta 0:00:19\n",
      "     ------------- ------------------------- 9.5/26.9 MB 954.6 kB/s eta 0:00:19\n",
      "     ------------- ------------------------- 9.5/26.9 MB 955.3 kB/s eta 0:00:19\n",
      "     ------------- ------------------------- 9.6/26.9 MB 955.4 kB/s eta 0:00:19\n",
      "     ------------- ------------------------- 9.6/26.9 MB 954.6 kB/s eta 0:00:19\n",
      "     ------------- ------------------------- 9.7/26.9 MB 955.2 kB/s eta 0:00:19\n",
      "     -------------- ------------------------ 9.7/26.9 MB 954.8 kB/s eta 0:00:19\n",
      "     -------------- ------------------------ 9.7/26.9 MB 954.9 kB/s eta 0:00:19\n",
      "     -------------- ------------------------ 9.8/26.9 MB 955.6 kB/s eta 0:00:18\n",
      "     -------------- ------------------------ 9.8/26.9 MB 953.7 kB/s eta 0:00:18\n",
      "     -------------- ------------------------ 9.9/26.9 MB 954.3 kB/s eta 0:00:18\n",
      "     -------------- ------------------------ 9.9/26.9 MB 954.4 kB/s eta 0:00:18\n",
      "     -------------- ----------------------- 10.0/26.9 MB 955.0 kB/s eta 0:00:18\n",
      "     -------------- ----------------------- 10.0/26.9 MB 954.3 kB/s eta 0:00:18\n",
      "     -------------- ----------------------- 10.0/26.9 MB 954.3 kB/s eta 0:00:18\n",
      "     -------------- ----------------------- 10.1/26.9 MB 955.0 kB/s eta 0:00:18\n",
      "     -------------- ----------------------- 10.1/26.9 MB 955.6 kB/s eta 0:00:18\n",
      "     -------------- ----------------------- 10.2/26.9 MB 954.7 kB/s eta 0:00:18\n",
      "     -------------- ----------------------- 10.2/26.9 MB 954.8 kB/s eta 0:00:18\n",
      "     -------------- ----------------------- 10.3/26.9 MB 955.8 kB/s eta 0:00:18\n",
      "     -------------- ----------------------- 10.3/26.9 MB 954.4 kB/s eta 0:00:18\n",
      "     -------------- ----------------------- 10.4/26.9 MB 962.8 kB/s eta 0:00:18\n",
      "     -------------- ----------------------- 10.4/26.9 MB 958.6 kB/s eta 0:00:18\n",
      "     -------------- ----------------------- 10.5/26.9 MB 954.4 kB/s eta 0:00:18\n",
      "     -------------- ----------------------- 10.5/26.9 MB 954.4 kB/s eta 0:00:18\n",
      "     -------------- ----------------------- 10.5/26.9 MB 955.7 kB/s eta 0:00:18\n",
      "     -------------- ----------------------- 10.6/26.9 MB 954.4 kB/s eta 0:00:18\n",
      "     -------------- ----------------------- 10.6/26.9 MB 958.6 kB/s eta 0:00:18\n",
      "     --------------- ---------------------- 10.7/26.9 MB 954.4 kB/s eta 0:00:18\n",
      "     --------------- ---------------------- 10.7/26.9 MB 957.2 kB/s eta 0:00:17\n",
      "     --------------- ---------------------- 10.8/26.9 MB 955.7 kB/s eta 0:00:17\n",
      "     --------------- ---------------------- 10.8/26.9 MB 955.8 kB/s eta 0:00:17\n",
      "     --------------- ---------------------- 10.8/26.9 MB 957.1 kB/s eta 0:00:17\n",
      "     --------------- ---------------------- 10.9/26.9 MB 955.7 kB/s eta 0:00:17\n",
      "     --------------- ---------------------- 10.9/26.9 MB 955.8 kB/s eta 0:00:17\n",
      "     --------------- ---------------------- 11.0/26.9 MB 955.8 kB/s eta 0:00:17\n",
      "     --------------- ---------------------- 11.0/26.9 MB 954.4 kB/s eta 0:00:17\n",
      "     --------------- ---------------------- 11.1/26.9 MB 954.4 kB/s eta 0:00:17\n",
      "     --------------- ---------------------- 11.1/26.9 MB 952.9 kB/s eta 0:00:17\n",
      "     --------------- ---------------------- 11.2/26.9 MB 954.4 kB/s eta 0:00:17\n",
      "     --------------- ---------------------- 11.2/26.9 MB 954.4 kB/s eta 0:00:17\n",
      "     --------------- ---------------------- 11.2/26.9 MB 955.8 kB/s eta 0:00:17\n",
      "     --------------- ---------------------- 11.3/26.9 MB 953.0 kB/s eta 0:00:17\n",
      "     --------------- ---------------------- 11.3/26.9 MB 954.4 kB/s eta 0:00:17\n",
      "     ---------------- --------------------- 11.4/26.9 MB 955.8 kB/s eta 0:00:17\n",
      "     ---------------- --------------------- 11.4/26.9 MB 954.4 kB/s eta 0:00:17\n",
      "     ---------------- --------------------- 11.5/26.9 MB 954.4 kB/s eta 0:00:17\n",
      "     ---------------- --------------------- 11.5/26.9 MB 955.8 kB/s eta 0:00:17\n",
      "     ---------------- --------------------- 11.6/26.9 MB 955.8 kB/s eta 0:00:17\n",
      "     ---------------- --------------------- 11.6/26.9 MB 954.4 kB/s eta 0:00:17\n",
      "     ---------------- --------------------- 11.6/26.9 MB 953.0 kB/s eta 0:00:17\n",
      "     ---------------- --------------------- 11.7/26.9 MB 955.8 kB/s eta 0:00:16\n",
      "     ---------------- --------------------- 11.7/26.9 MB 954.4 kB/s eta 0:00:16\n",
      "     ---------------- --------------------- 11.8/26.9 MB 954.4 kB/s eta 0:00:16\n",
      "     ---------------- --------------------- 11.8/26.9 MB 954.4 kB/s eta 0:00:16\n",
      "     ---------------- --------------------- 11.9/26.9 MB 954.4 kB/s eta 0:00:16\n",
      "     ---------------- --------------------- 11.9/26.9 MB 954.4 kB/s eta 0:00:16\n",
      "     ---------------- --------------------- 12.0/26.9 MB 954.4 kB/s eta 0:00:16\n",
      "     ---------------- --------------------- 12.0/26.9 MB 954.4 kB/s eta 0:00:16\n",
      "     ---------------- --------------------- 12.0/26.9 MB 954.4 kB/s eta 0:00:16\n",
      "     ----------------- -------------------- 12.1/26.9 MB 955.7 kB/s eta 0:00:16\n",
      "     ----------------- -------------------- 12.1/26.9 MB 955.8 kB/s eta 0:00:16\n",
      "     ----------------- -------------------- 12.2/26.9 MB 957.2 kB/s eta 0:00:16\n",
      "     ----------------- -------------------- 12.2/26.9 MB 957.1 kB/s eta 0:00:16\n",
      "     ----------------- -------------------- 12.2/26.9 MB 954.4 kB/s eta 0:00:16\n",
      "     ----------------- -------------------- 12.3/26.9 MB 954.4 kB/s eta 0:00:16\n",
      "     ----------------- -------------------- 12.3/26.9 MB 957.2 kB/s eta 0:00:16\n",
      "     ----------------- -------------------- 12.4/26.9 MB 954.4 kB/s eta 0:00:16\n",
      "     ----------------- -------------------- 12.4/26.9 MB 954.4 kB/s eta 0:00:16\n",
      "     ----------------- -------------------- 12.5/26.9 MB 954.4 kB/s eta 0:00:16\n",
      "     ----------------- -------------------- 12.5/26.9 MB 954.4 kB/s eta 0:00:16\n",
      "     ----------------- -------------------- 12.6/26.9 MB 954.4 kB/s eta 0:00:16\n",
      "     ----------------- -------------------- 12.6/26.9 MB 955.8 kB/s eta 0:00:15\n",
      "     ----------------- -------------------- 12.7/26.9 MB 954.4 kB/s eta 0:00:15\n",
      "     ----------------- -------------------- 12.7/26.9 MB 955.8 kB/s eta 0:00:15\n",
      "     ----------------- -------------------- 12.7/26.9 MB 955.8 kB/s eta 0:00:15\n",
      "     ------------------ ------------------- 12.8/26.9 MB 955.8 kB/s eta 0:00:15\n",
      "     ------------------ ------------------- 12.8/26.9 MB 954.4 kB/s eta 0:00:15\n",
      "     ------------------ ------------------- 12.9/26.9 MB 954.4 kB/s eta 0:00:15\n",
      "     ------------------ ------------------- 12.9/26.9 MB 954.4 kB/s eta 0:00:15\n",
      "     ------------------ ------------------- 13.0/26.9 MB 954.4 kB/s eta 0:00:15\n",
      "     ------------------ ------------------- 13.0/26.9 MB 954.4 kB/s eta 0:00:15\n",
      "     ------------------ ------------------- 13.1/26.9 MB 957.2 kB/s eta 0:00:15\n",
      "     ------------------ ------------------- 13.1/26.9 MB 955.8 kB/s eta 0:00:15\n",
      "     ------------------ ------------------- 13.1/26.9 MB 955.8 kB/s eta 0:00:15\n",
      "     ------------------ ------------------- 13.2/26.9 MB 954.4 kB/s eta 0:00:15\n",
      "     ------------------ ------------------- 13.2/26.9 MB 955.8 kB/s eta 0:00:15\n",
      "     ------------------ ------------------- 13.3/26.9 MB 954.4 kB/s eta 0:00:15\n",
      "     ------------------ ------------------- 13.3/26.9 MB 955.8 kB/s eta 0:00:15\n",
      "     ------------------ ------------------- 13.4/26.9 MB 953.0 kB/s eta 0:00:15\n",
      "     ------------------ ------------------- 13.4/26.9 MB 953.0 kB/s eta 0:00:15\n",
      "     ------------------ ------------------- 13.5/26.9 MB 954.4 kB/s eta 0:00:15\n",
      "     ------------------- ------------------ 13.5/26.9 MB 954.4 kB/s eta 0:00:15\n",
      "     ------------------- ------------------ 13.5/26.9 MB 954.4 kB/s eta 0:00:15\n",
      "     ------------------- ------------------ 13.6/26.9 MB 954.4 kB/s eta 0:00:15\n",
      "     ------------------- ------------------ 13.6/26.9 MB 952.9 kB/s eta 0:00:14\n",
      "     ------------------- ------------------ 13.7/26.9 MB 954.4 kB/s eta 0:00:14\n",
      "     ------------------- ------------------ 13.7/26.9 MB 954.4 kB/s eta 0:00:14\n",
      "     ------------------- ------------------ 13.8/26.9 MB 957.1 kB/s eta 0:00:14\n",
      "     ------------------- ------------------ 13.8/26.9 MB 955.8 kB/s eta 0:00:14\n",
      "     ------------------- ------------------ 13.8/26.9 MB 957.2 kB/s eta 0:00:14\n",
      "     ------------------- ------------------ 13.9/26.9 MB 955.8 kB/s eta 0:00:14\n",
      "     ------------------- ------------------ 13.9/26.9 MB 955.8 kB/s eta 0:00:14\n",
      "     ------------------- ------------------ 14.0/26.9 MB 954.4 kB/s eta 0:00:14\n",
      "     ------------------- ------------------ 14.0/26.9 MB 955.8 kB/s eta 0:00:14\n",
      "     ------------------- ------------------ 14.1/26.9 MB 955.8 kB/s eta 0:00:14\n",
      "     ------------------- ------------------ 14.1/26.9 MB 955.7 kB/s eta 0:00:14\n",
      "     ------------------- ------------------ 14.2/26.9 MB 955.8 kB/s eta 0:00:14\n",
      "     -------------------- ----------------- 14.2/26.9 MB 955.8 kB/s eta 0:00:14\n",
      "     -------------------- ----------------- 14.3/26.9 MB 955.8 kB/s eta 0:00:14\n",
      "     -------------------- ----------------- 14.3/26.9 MB 955.8 kB/s eta 0:00:14\n",
      "     -------------------- ----------------- 14.3/26.9 MB 957.2 kB/s eta 0:00:14\n",
      "     -------------------- ----------------- 14.4/26.9 MB 955.8 kB/s eta 0:00:14\n",
      "     -------------------- ----------------- 14.4/26.9 MB 955.8 kB/s eta 0:00:14\n",
      "     -------------------- ----------------- 14.5/26.9 MB 955.8 kB/s eta 0:00:14\n",
      "     -------------------- ----------------- 14.5/26.9 MB 955.8 kB/s eta 0:00:14\n",
      "     -------------------- ----------------- 14.6/26.9 MB 957.1 kB/s eta 0:00:13\n",
      "     -------------------- ----------------- 14.6/26.9 MB 955.7 kB/s eta 0:00:13\n",
      "     -------------------- ----------------- 14.6/26.9 MB 955.8 kB/s eta 0:00:13\n",
      "     -------------------- ----------------- 14.7/26.9 MB 957.2 kB/s eta 0:00:13\n",
      "     -------------------- ----------------- 14.7/26.9 MB 955.8 kB/s eta 0:00:13\n",
      "     -------------------- ----------------- 14.8/26.9 MB 955.8 kB/s eta 0:00:13\n",
      "     -------------------- ----------------- 14.8/26.9 MB 955.8 kB/s eta 0:00:13\n",
      "     -------------------- ----------------- 14.9/26.9 MB 957.1 kB/s eta 0:00:13\n",
      "     --------------------- ---------------- 14.9/26.9 MB 955.8 kB/s eta 0:00:13\n",
      "     --------------------- ---------------- 15.0/26.9 MB 957.1 kB/s eta 0:00:13\n",
      "     --------------------- ---------------- 15.0/26.9 MB 955.8 kB/s eta 0:00:13\n",
      "     --------------------- ---------------- 15.1/26.9 MB 955.8 kB/s eta 0:00:13\n",
      "     --------------------- ---------------- 15.1/26.9 MB 955.8 kB/s eta 0:00:13\n",
      "     --------------------- ---------------- 15.1/26.9 MB 955.8 kB/s eta 0:00:13\n",
      "     --------------------- ---------------- 15.2/26.9 MB 955.8 kB/s eta 0:00:13\n",
      "     --------------------- ---------------- 15.2/26.9 MB 957.1 kB/s eta 0:00:13\n",
      "     --------------------- ---------------- 15.3/26.9 MB 957.1 kB/s eta 0:00:13\n",
      "     --------------------- ---------------- 15.3/26.9 MB 957.1 kB/s eta 0:00:13\n",
      "     --------------------- ---------------- 15.4/26.9 MB 957.2 kB/s eta 0:00:13\n",
      "     --------------------- ---------------- 15.4/26.9 MB 957.2 kB/s eta 0:00:13\n",
      "     --------------------- ---------------- 15.4/26.9 MB 957.1 kB/s eta 0:00:13\n",
      "     --------------------- ---------------- 15.5/26.9 MB 957.2 kB/s eta 0:00:12\n",
      "     --------------------- ---------------- 15.5/26.9 MB 957.2 kB/s eta 0:00:12\n",
      "     --------------------- ---------------- 15.6/26.9 MB 955.8 kB/s eta 0:00:12\n",
      "     ---------------------- --------------- 15.6/26.9 MB 957.2 kB/s eta 0:00:12\n",
      "     ---------------------- --------------- 15.7/26.9 MB 955.8 kB/s eta 0:00:12\n",
      "     ---------------------- --------------- 15.7/26.9 MB 957.2 kB/s eta 0:00:12\n",
      "     ---------------------- --------------- 15.8/26.9 MB 955.8 kB/s eta 0:00:12\n",
      "     ---------------------- --------------- 15.8/26.9 MB 958.6 kB/s eta 0:00:12\n",
      "     ---------------------- --------------- 15.9/26.9 MB 955.8 kB/s eta 0:00:12\n",
      "     ---------------------- --------------- 15.9/26.9 MB 957.2 kB/s eta 0:00:12\n",
      "     ---------------------- --------------- 15.9/26.9 MB 957.2 kB/s eta 0:00:12\n",
      "     ---------------------- --------------- 16.0/26.9 MB 957.2 kB/s eta 0:00:12\n",
      "     ---------------------- --------------- 16.0/26.9 MB 957.1 kB/s eta 0:00:12\n",
      "     ---------------------- --------------- 16.1/26.9 MB 955.8 kB/s eta 0:00:12\n",
      "     ---------------------- --------------- 16.1/26.9 MB 955.8 kB/s eta 0:00:12\n",
      "     ---------------------- --------------- 16.2/26.9 MB 957.1 kB/s eta 0:00:12\n",
      "     ---------------------- --------------- 16.2/26.9 MB 957.1 kB/s eta 0:00:12\n",
      "     ---------------------- --------------- 16.2/26.9 MB 955.8 kB/s eta 0:00:12\n",
      "     ---------------------- --------------- 16.3/26.9 MB 955.8 kB/s eta 0:00:12\n",
      "     ----------------------- -------------- 16.3/26.9 MB 955.8 kB/s eta 0:00:12\n",
      "     ----------------------- -------------- 16.4/26.9 MB 957.2 kB/s eta 0:00:12\n",
      "     ----------------------- -------------- 16.4/26.9 MB 955.8 kB/s eta 0:00:12\n",
      "     ----------------------- -------------- 16.5/26.9 MB 957.1 kB/s eta 0:00:11\n",
      "     ----------------------- -------------- 16.5/26.9 MB 955.7 kB/s eta 0:00:11\n",
      "     ----------------------- -------------- 16.5/26.9 MB 957.1 kB/s eta 0:00:11\n",
      "     ----------------------- -------------- 16.6/26.9 MB 957.1 kB/s eta 0:00:11\n",
      "     ----------------------- -------------- 16.7/26.9 MB 955.8 kB/s eta 0:00:11\n",
      "     ----------------------- -------------- 16.7/26.9 MB 955.8 kB/s eta 0:00:11\n",
      "     ----------------------- -------------- 16.7/26.9 MB 957.2 kB/s eta 0:00:11\n",
      "     ----------------------- -------------- 16.8/26.9 MB 957.2 kB/s eta 0:00:11\n",
      "     ----------------------- -------------- 16.8/26.9 MB 955.8 kB/s eta 0:00:11\n",
      "     ----------------------- -------------- 16.9/26.9 MB 955.8 kB/s eta 0:00:11\n",
      "     ----------------------- -------------- 16.9/26.9 MB 957.1 kB/s eta 0:00:11\n",
      "     ----------------------- -------------- 17.0/26.9 MB 954.4 kB/s eta 0:00:11\n",
      "     ----------------------- -------------- 17.0/26.9 MB 954.4 kB/s eta 0:00:11\n",
      "     ------------------------ ------------- 17.0/26.9 MB 955.8 kB/s eta 0:00:11\n",
      "     ------------------------ ------------- 17.1/26.9 MB 957.1 kB/s eta 0:00:11\n",
      "     ------------------------ ------------- 17.1/26.9 MB 954.4 kB/s eta 0:00:11\n",
      "     ------------------------ ------------- 17.2/26.9 MB 955.8 kB/s eta 0:00:11\n",
      "     ------------------------ ------------- 17.2/26.9 MB 955.8 kB/s eta 0:00:11\n",
      "     ------------------------ ------------- 17.3/26.9 MB 955.8 kB/s eta 0:00:11\n",
      "     ------------------------ ------------- 17.3/26.9 MB 955.8 kB/s eta 0:00:11\n",
      "     ------------------------ ------------- 17.3/26.9 MB 955.7 kB/s eta 0:00:11\n",
      "     ------------------------ ------------- 17.4/26.9 MB 955.8 kB/s eta 0:00:10\n",
      "     ------------------------ ------------- 17.4/26.9 MB 955.8 kB/s eta 0:00:10\n",
      "     ------------------------ ------------- 17.5/26.9 MB 957.2 kB/s eta 0:00:10\n",
      "     ------------------------ ------------- 17.5/26.9 MB 955.8 kB/s eta 0:00:10\n",
      "     ------------------------ ------------- 17.6/26.9 MB 955.8 kB/s eta 0:00:10\n",
      "     ------------------------ ------------- 17.6/26.9 MB 955.8 kB/s eta 0:00:10\n",
      "     ------------------------ ------------- 17.7/26.9 MB 955.8 kB/s eta 0:00:10\n",
      "     ------------------------ ------------- 17.7/26.9 MB 955.7 kB/s eta 0:00:10\n",
      "     ------------------------- ------------ 17.8/26.9 MB 955.8 kB/s eta 0:00:10\n",
      "     ------------------------- ------------ 17.8/26.9 MB 955.8 kB/s eta 0:00:10\n",
      "     ------------------------- ------------ 17.8/26.9 MB 955.7 kB/s eta 0:00:10\n",
      "     ------------------------- ------------ 17.9/26.9 MB 957.2 kB/s eta 0:00:10\n",
      "     ------------------------- ------------ 17.9/26.9 MB 957.1 kB/s eta 0:00:10\n",
      "     ------------------------- ------------ 18.0/26.9 MB 957.2 kB/s eta 0:00:10\n",
      "     ------------------------- ------------ 18.0/26.9 MB 957.2 kB/s eta 0:00:10\n",
      "     ------------------------- ------------ 18.1/26.9 MB 955.7 kB/s eta 0:00:10\n",
      "     ------------------------- ------------ 18.1/26.9 MB 957.1 kB/s eta 0:00:10\n",
      "     ------------------------- ------------ 18.2/26.9 MB 955.8 kB/s eta 0:00:10\n",
      "     ------------------------- ------------ 18.2/26.9 MB 955.8 kB/s eta 0:00:10\n",
      "     ------------------------- ------------ 18.2/26.9 MB 957.2 kB/s eta 0:00:10\n",
      "     ------------------------- ------------ 18.3/26.9 MB 955.8 kB/s eta 0:00:10\n",
      "     ------------------------- ------------ 18.3/26.9 MB 955.8 kB/s eta 0:00:10\n",
      "     ------------------------- ------------ 18.4/26.9 MB 955.8 kB/s eta 0:00:09\n",
      "     ------------------------- ------------ 18.4/26.9 MB 955.8 kB/s eta 0:00:09\n",
      "     -------------------------- ----------- 18.5/26.9 MB 957.2 kB/s eta 0:00:09\n",
      "     -------------------------- ----------- 18.5/26.9 MB 955.8 kB/s eta 0:00:09\n",
      "     -------------------------- ----------- 18.6/26.9 MB 958.6 kB/s eta 0:00:09\n",
      "     -------------------------- ----------- 18.6/26.9 MB 957.2 kB/s eta 0:00:09\n",
      "     -------------------------- ----------- 18.6/26.9 MB 959.9 kB/s eta 0:00:09\n",
      "     -------------------------- ----------- 18.7/26.9 MB 955.7 kB/s eta 0:00:09\n",
      "     -------------------------- ----------- 18.7/26.9 MB 957.2 kB/s eta 0:00:09\n",
      "     -------------------------- ----------- 18.8/26.9 MB 957.2 kB/s eta 0:00:09\n",
      "     -------------------------- ----------- 18.8/26.9 MB 955.8 kB/s eta 0:00:09\n",
      "     -------------------------- ----------- 18.9/26.9 MB 955.8 kB/s eta 0:00:09\n",
      "     -------------------------- ----------- 18.9/26.9 MB 957.1 kB/s eta 0:00:09\n",
      "     -------------------------- ----------- 18.9/26.9 MB 957.1 kB/s eta 0:00:09\n",
      "     -------------------------- ----------- 19.0/26.9 MB 955.8 kB/s eta 0:00:09\n",
      "     -------------------------- ----------- 19.0/26.9 MB 958.6 kB/s eta 0:00:09\n",
      "     -------------------------- ----------- 19.1/26.9 MB 957.2 kB/s eta 0:00:09\n",
      "     -------------------------- ----------- 19.1/26.9 MB 958.6 kB/s eta 0:00:09\n",
      "     --------------------------- ---------- 19.2/26.9 MB 955.8 kB/s eta 0:00:09\n",
      "     --------------------------- ---------- 19.2/26.9 MB 957.2 kB/s eta 0:00:09\n",
      "     --------------------------- ---------- 19.3/26.9 MB 955.8 kB/s eta 0:00:09\n",
      "     --------------------------- ---------- 19.3/26.9 MB 958.6 kB/s eta 0:00:08\n",
      "     --------------------------- ---------- 19.4/26.9 MB 957.2 kB/s eta 0:00:08\n",
      "     --------------------------- ---------- 19.4/26.9 MB 958.6 kB/s eta 0:00:08\n",
      "     --------------------------- ---------- 19.4/26.9 MB 958.6 kB/s eta 0:00:08\n",
      "     --------------------------- ---------- 19.5/26.9 MB 957.1 kB/s eta 0:00:08\n",
      "     --------------------------- ---------- 19.5/26.9 MB 958.6 kB/s eta 0:00:08\n",
      "     --------------------------- ---------- 19.6/26.9 MB 958.6 kB/s eta 0:00:08\n",
      "     --------------------------- ---------- 19.6/26.9 MB 960.0 kB/s eta 0:00:08\n",
      "     --------------------------- ---------- 19.7/26.9 MB 957.1 kB/s eta 0:00:08\n",
      "     --------------------------- ---------- 19.7/26.9 MB 958.6 kB/s eta 0:00:08\n",
      "     --------------------------- ---------- 19.7/26.9 MB 957.1 kB/s eta 0:00:08\n",
      "     --------------------------- ---------- 19.8/26.9 MB 957.2 kB/s eta 0:00:08\n",
      "     --------------------------- ---------- 19.8/26.9 MB 957.2 kB/s eta 0:00:08\n",
      "     ---------------------------- --------- 19.9/26.9 MB 958.6 kB/s eta 0:00:08\n",
      "     ---------------------------- --------- 19.9/26.9 MB 955.8 kB/s eta 0:00:08\n",
      "     ---------------------------- --------- 20.0/26.9 MB 957.1 kB/s eta 0:00:08\n",
      "     ---------------------------- --------- 20.0/26.9 MB 957.1 kB/s eta 0:00:08\n",
      "     ---------------------------- --------- 20.0/26.9 MB 957.2 kB/s eta 0:00:08\n",
      "     ---------------------------- --------- 20.1/26.9 MB 957.1 kB/s eta 0:00:08\n",
      "     ---------------------------- --------- 20.1/26.9 MB 957.1 kB/s eta 0:00:08\n",
      "     ---------------------------- --------- 20.2/26.9 MB 957.1 kB/s eta 0:00:08\n",
      "     ---------------------------- --------- 20.2/26.9 MB 955.7 kB/s eta 0:00:08\n",
      "     ---------------------------- --------- 20.3/26.9 MB 955.8 kB/s eta 0:00:07\n",
      "     ---------------------------- --------- 20.3/26.9 MB 955.8 kB/s eta 0:00:07\n",
      "     ---------------------------- --------- 20.3/26.9 MB 955.8 kB/s eta 0:00:07\n",
      "     ---------------------------- --------- 20.4/26.9 MB 958.6 kB/s eta 0:00:07\n",
      "     ---------------------------- --------- 20.4/26.9 MB 955.8 kB/s eta 0:00:07\n",
      "     ---------------------------- --------- 20.5/26.9 MB 955.8 kB/s eta 0:00:07\n",
      "     ---------------------------- --------- 20.5/26.9 MB 957.1 kB/s eta 0:00:07\n",
      "     ----------------------------- -------- 20.6/26.9 MB 957.1 kB/s eta 0:00:07\n",
      "     ----------------------------- -------- 20.6/26.9 MB 958.6 kB/s eta 0:00:07\n",
      "     ----------------------------- -------- 20.7/26.9 MB 957.2 kB/s eta 0:00:07\n",
      "     ----------------------------- -------- 20.7/26.9 MB 957.2 kB/s eta 0:00:07\n",
      "     ----------------------------- -------- 20.7/26.9 MB 955.8 kB/s eta 0:00:07\n",
      "     ----------------------------- -------- 20.8/26.9 MB 957.1 kB/s eta 0:00:07\n",
      "     ----------------------------- -------- 20.8/26.9 MB 955.8 kB/s eta 0:00:07\n",
      "     ----------------------------- -------- 20.9/26.9 MB 957.1 kB/s eta 0:00:07\n",
      "     ----------------------------- -------- 20.9/26.9 MB 955.7 kB/s eta 0:00:07\n",
      "     ----------------------------- -------- 21.0/26.9 MB 957.2 kB/s eta 0:00:07\n",
      "     ----------------------------- -------- 21.0/26.9 MB 955.8 kB/s eta 0:00:07\n",
      "     ----------------------------- -------- 21.1/26.9 MB 955.8 kB/s eta 0:00:07\n",
      "     ----------------------------- -------- 21.1/26.9 MB 955.8 kB/s eta 0:00:07\n",
      "     ----------------------------- -------- 21.1/26.9 MB 955.8 kB/s eta 0:00:07\n",
      "     ----------------------------- -------- 21.2/26.9 MB 957.1 kB/s eta 0:00:07\n",
      "     ----------------------------- -------- 21.2/26.9 MB 955.8 kB/s eta 0:00:06\n",
      "     ----------------------------- -------- 21.3/26.9 MB 955.8 kB/s eta 0:00:06\n",
      "     ------------------------------ ------- 21.3/26.9 MB 957.1 kB/s eta 0:00:06\n",
      "     ------------------------------ ------- 21.4/26.9 MB 957.1 kB/s eta 0:00:06\n",
      "     ------------------------------ ------- 21.4/26.9 MB 955.8 kB/s eta 0:00:06\n",
      "     ------------------------------ ------- 21.5/26.9 MB 955.8 kB/s eta 0:00:06\n",
      "     ------------------------------ ------- 21.5/26.9 MB 957.2 kB/s eta 0:00:06\n",
      "     ------------------------------ ------- 21.5/26.9 MB 957.1 kB/s eta 0:00:06\n",
      "     ------------------------------ ------- 21.6/26.9 MB 957.2 kB/s eta 0:00:06\n",
      "     ------------------------------ ------- 21.6/26.9 MB 955.8 kB/s eta 0:00:06\n",
      "     ------------------------------ ------- 21.7/26.9 MB 958.6 kB/s eta 0:00:06\n",
      "     ------------------------------ ------- 21.7/26.9 MB 957.1 kB/s eta 0:00:06\n",
      "     ------------------------------ ------- 21.8/26.9 MB 957.1 kB/s eta 0:00:06\n",
      "     ------------------------------ ------- 21.8/26.9 MB 957.1 kB/s eta 0:00:06\n",
      "     ------------------------------ ------- 21.9/26.9 MB 957.2 kB/s eta 0:00:06\n",
      "     ------------------------------ ------- 21.9/26.9 MB 957.2 kB/s eta 0:00:06\n",
      "     ------------------------------ ------- 21.9/26.9 MB 955.8 kB/s eta 0:00:06\n",
      "     ------------------------------- ------ 22.0/26.9 MB 955.8 kB/s eta 0:00:06\n",
      "     ------------------------------- ------ 22.0/26.9 MB 957.2 kB/s eta 0:00:06\n",
      "     ------------------------------- ------ 22.1/26.9 MB 957.2 kB/s eta 0:00:06\n",
      "     ------------------------------- ------ 22.1/26.9 MB 955.7 kB/s eta 0:00:06\n",
      "     ------------------------------- ------ 22.1/26.9 MB 955.8 kB/s eta 0:00:06\n",
      "     ------------------------------- ------ 22.2/26.9 MB 955.8 kB/s eta 0:00:05\n",
      "     ------------------------------- ------ 22.2/26.9 MB 954.4 kB/s eta 0:00:05\n",
      "     ------------------------------- ------ 22.3/26.9 MB 955.8 kB/s eta 0:00:05\n",
      "     ------------------------------- ------ 22.3/26.9 MB 955.8 kB/s eta 0:00:05\n",
      "     ------------------------------- ------ 22.4/26.9 MB 954.4 kB/s eta 0:00:05\n",
      "     ------------------------------- ------ 22.4/26.9 MB 954.4 kB/s eta 0:00:05\n",
      "     ------------------------------- ------ 22.5/26.9 MB 955.8 kB/s eta 0:00:05\n",
      "     ------------------------------- ------ 22.5/26.9 MB 957.2 kB/s eta 0:00:05\n",
      "     ------------------------------- ------ 22.5/26.9 MB 957.1 kB/s eta 0:00:05\n",
      "     ------------------------------- ------ 22.6/26.9 MB 957.1 kB/s eta 0:00:05\n",
      "     ------------------------------- ------ 22.6/26.9 MB 955.8 kB/s eta 0:00:05\n",
      "     ------------------------------- ------ 22.7/26.9 MB 955.8 kB/s eta 0:00:05\n",
      "     -------------------------------- ----- 22.7/26.9 MB 954.4 kB/s eta 0:00:05\n",
      "     -------------------------------- ----- 22.8/26.9 MB 957.2 kB/s eta 0:00:05\n",
      "     -------------------------------- ----- 22.8/26.9 MB 955.8 kB/s eta 0:00:05\n",
      "     -------------------------------- ----- 22.9/26.9 MB 955.8 kB/s eta 0:00:05\n",
      "     -------------------------------- ----- 22.9/26.9 MB 957.2 kB/s eta 0:00:05\n",
      "     -------------------------------- ----- 22.9/26.9 MB 955.7 kB/s eta 0:00:05\n",
      "     -------------------------------- ----- 23.0/26.9 MB 955.8 kB/s eta 0:00:05\n",
      "     -------------------------------- ----- 23.0/26.9 MB 955.8 kB/s eta 0:00:05\n",
      "     -------------------------------- ----- 23.1/26.9 MB 955.8 kB/s eta 0:00:05\n",
      "     -------------------------------- ----- 23.1/26.9 MB 954.4 kB/s eta 0:00:05\n",
      "     -------------------------------- ----- 23.2/26.9 MB 954.4 kB/s eta 0:00:04\n",
      "     -------------------------------- ----- 23.2/26.9 MB 954.4 kB/s eta 0:00:04\n",
      "     -------------------------------- ----- 23.2/26.9 MB 954.4 kB/s eta 0:00:04\n",
      "     -------------------------------- ----- 23.3/26.9 MB 952.9 kB/s eta 0:00:04\n",
      "     -------------------------------- ----- 23.3/26.9 MB 955.8 kB/s eta 0:00:04\n",
      "     -------------------------------- ----- 23.4/26.9 MB 954.4 kB/s eta 0:00:04\n",
      "     --------------------------------- ---- 23.4/26.9 MB 954.4 kB/s eta 0:00:04\n",
      "     --------------------------------- ---- 23.5/26.9 MB 955.8 kB/s eta 0:00:04\n",
      "     --------------------------------- ---- 23.5/26.9 MB 955.8 kB/s eta 0:00:04\n",
      "     --------------------------------- ---- 23.6/26.9 MB 955.8 kB/s eta 0:00:04\n",
      "     --------------------------------- ---- 23.6/26.9 MB 955.8 kB/s eta 0:00:04\n",
      "     --------------------------------- ---- 23.6/26.9 MB 954.4 kB/s eta 0:00:04\n",
      "     --------------------------------- ---- 23.7/26.9 MB 954.4 kB/s eta 0:00:04\n",
      "     --------------------------------- ---- 23.7/26.9 MB 955.8 kB/s eta 0:00:04\n",
      "     --------------------------------- ---- 23.8/26.9 MB 954.4 kB/s eta 0:00:04\n",
      "     --------------------------------- ---- 23.8/26.9 MB 954.4 kB/s eta 0:00:04\n",
      "     --------------------------------- ---- 23.9/26.9 MB 955.8 kB/s eta 0:00:04\n",
      "     --------------------------------- ---- 23.9/26.9 MB 957.1 kB/s eta 0:00:04\n",
      "     --------------------------------- ---- 23.9/26.9 MB 954.4 kB/s eta 0:00:04\n",
      "     --------------------------------- ---- 24.0/26.9 MB 954.4 kB/s eta 0:00:04\n",
      "     --------------------------------- ---- 24.0/26.9 MB 955.8 kB/s eta 0:00:04\n",
      "     --------------------------------- ---- 24.1/26.9 MB 955.8 kB/s eta 0:00:03\n",
      "     ---------------------------------- --- 24.1/26.9 MB 954.4 kB/s eta 0:00:03\n",
      "     ---------------------------------- --- 24.2/26.9 MB 953.0 kB/s eta 0:00:03\n",
      "     ---------------------------------- --- 24.2/26.9 MB 955.8 kB/s eta 0:00:03\n",
      "     ---------------------------------- --- 24.3/26.9 MB 954.4 kB/s eta 0:00:03\n",
      "     ---------------------------------- --- 24.3/26.9 MB 955.8 kB/s eta 0:00:03\n",
      "     ---------------------------------- --- 24.3/26.9 MB 954.4 kB/s eta 0:00:03\n",
      "     ---------------------------------- --- 24.4/26.9 MB 955.8 kB/s eta 0:00:03\n",
      "     ---------------------------------- --- 24.4/26.9 MB 955.8 kB/s eta 0:00:03\n",
      "     ---------------------------------- --- 24.5/26.9 MB 955.8 kB/s eta 0:00:03\n",
      "     ---------------------------------- --- 24.5/26.9 MB 954.4 kB/s eta 0:00:03\n",
      "     ---------------------------------- --- 24.6/26.9 MB 952.9 kB/s eta 0:00:03\n",
      "     ---------------------------------- --- 24.6/26.9 MB 952.9 kB/s eta 0:00:03\n",
      "     ---------------------------------- --- 24.6/26.9 MB 954.4 kB/s eta 0:00:03\n",
      "     ---------------------------------- --- 24.7/26.9 MB 953.0 kB/s eta 0:00:03\n",
      "     ---------------------------------- --- 24.7/26.9 MB 954.4 kB/s eta 0:00:03\n",
      "     ---------------------------------- --- 24.8/26.9 MB 953.0 kB/s eta 0:00:03\n",
      "     ----------------------------------- -- 24.8/26.9 MB 954.4 kB/s eta 0:00:03\n",
      "     ----------------------------------- -- 24.9/26.9 MB 953.0 kB/s eta 0:00:03\n",
      "     ----------------------------------- -- 24.9/26.9 MB 954.4 kB/s eta 0:00:03\n",
      "     ----------------------------------- -- 25.0/26.9 MB 954.4 kB/s eta 0:00:03\n",
      "     ----------------------------------- -- 25.0/26.9 MB 954.4 kB/s eta 0:00:03\n",
      "     ----------------------------------- -- 25.0/26.9 MB 954.4 kB/s eta 0:00:02\n",
      "     ----------------------------------- -- 25.1/26.9 MB 952.9 kB/s eta 0:00:02\n",
      "     ----------------------------------- -- 25.1/26.9 MB 954.4 kB/s eta 0:00:02\n",
      "     ----------------------------------- -- 25.2/26.9 MB 953.0 kB/s eta 0:00:02\n",
      "     ----------------------------------- -- 25.2/26.9 MB 953.0 kB/s eta 0:00:02\n",
      "     ----------------------------------- -- 25.3/26.9 MB 951.6 kB/s eta 0:00:02\n",
      "     ----------------------------------- -- 25.3/26.9 MB 951.6 kB/s eta 0:00:02\n",
      "     ----------------------------------- -- 25.3/26.9 MB 951.6 kB/s eta 0:00:02\n",
      "     ----------------------------------- -- 25.4/26.9 MB 952.9 kB/s eta 0:00:02\n",
      "     ----------------------------------- -- 25.4/26.9 MB 953.0 kB/s eta 0:00:02\n",
      "     ----------------------------------- -- 25.5/26.9 MB 951.6 kB/s eta 0:00:02\n",
      "     ------------------------------------ - 25.5/26.9 MB 953.0 kB/s eta 0:00:02\n",
      "     ------------------------------------ - 25.6/26.9 MB 954.4 kB/s eta 0:00:02\n",
      "     ------------------------------------ - 25.6/26.9 MB 951.6 kB/s eta 0:00:02\n",
      "     ------------------------------------ - 25.7/26.9 MB 953.0 kB/s eta 0:00:02\n",
      "     ------------------------------------ - 25.7/26.9 MB 951.6 kB/s eta 0:00:02\n",
      "     ------------------------------------ - 25.7/26.9 MB 951.6 kB/s eta 0:00:02\n",
      "     ------------------------------------ - 25.8/26.9 MB 952.9 kB/s eta 0:00:02\n",
      "     ------------------------------------ - 25.8/26.9 MB 952.9 kB/s eta 0:00:02\n",
      "     ------------------------------------ - 25.9/26.9 MB 951.6 kB/s eta 0:00:02\n",
      "     ------------------------------------ - 25.9/26.9 MB 952.9 kB/s eta 0:00:02\n",
      "     ------------------------------------ - 26.0/26.9 MB 951.6 kB/s eta 0:00:02\n",
      "     ------------------------------------ - 26.0/26.9 MB 951.6 kB/s eta 0:00:01\n",
      "     ------------------------------------ - 26.1/26.9 MB 951.6 kB/s eta 0:00:01\n",
      "     ------------------------------------ - 26.1/26.9 MB 953.0 kB/s eta 0:00:01\n",
      "     ------------------------------------ - 26.2/26.9 MB 951.6 kB/s eta 0:00:01\n",
      "     ------------------------------------ - 26.2/26.9 MB 951.6 kB/s eta 0:00:01\n",
      "     -------------------------------------  26.2/26.9 MB 952.9 kB/s eta 0:00:01\n",
      "     -------------------------------------  26.3/26.9 MB 952.9 kB/s eta 0:00:01\n",
      "     -------------------------------------  26.3/26.9 MB 953.0 kB/s eta 0:00:01\n",
      "     -------------------------------------  26.4/26.9 MB 953.0 kB/s eta 0:00:01\n",
      "     -------------------------------------  26.4/26.9 MB 953.0 kB/s eta 0:00:01\n",
      "     -------------------------------------  26.5/26.9 MB 952.9 kB/s eta 0:00:01\n",
      "     -------------------------------------  26.5/26.9 MB 953.0 kB/s eta 0:00:01\n",
      "     -------------------------------------  26.5/26.9 MB 954.4 kB/s eta 0:00:01\n",
      "     -------------------------------------  26.6/26.9 MB 953.0 kB/s eta 0:00:01\n",
      "     -------------------------------------  26.6/26.9 MB 954.4 kB/s eta 0:00:01\n",
      "     -------------------------------------  26.7/26.9 MB 953.0 kB/s eta 0:00:01\n",
      "     -------------------------------------  26.7/26.9 MB 954.4 kB/s eta 0:00:01\n",
      "     -------------------------------------  26.8/26.9 MB 952.9 kB/s eta 0:00:01\n",
      "     -------------------------------------  26.8/26.9 MB 953.0 kB/s eta 0:00:01\n",
      "     -------------------------------------  26.9/26.9 MB 953.0 kB/s eta 0:00:01\n",
      "     -------------------------------------  26.9/26.9 MB 954.4 kB/s eta 0:00:01\n",
      "     -------------------------------------  26.9/26.9 MB 954.4 kB/s eta 0:00:01\n",
      "     -------------------------------------  26.9/26.9 MB 954.4 kB/s eta 0:00:01\n",
      "     -------------------------------------- 26.9/26.9 MB 947.4 kB/s eta 0:00:00\n",
      "Requirement already satisfied: nltk in c:\\users\\adnan\\anaconda3\\envs\\nlu-labs-venv\\lib\\site-packages (from pywsd) (3.8.1)\n",
      "Requirement already satisfied: six in c:\\users\\adnan\\anaconda3\\envs\\nlu-labs-venv\\lib\\site-packages (from pywsd) (1.16.0)\n",
      "Requirement already satisfied: pandas in c:\\users\\adnan\\anaconda3\\envs\\nlu-labs-venv\\lib\\site-packages (from pywsd) (1.5.3)\n",
      "Requirement already satisfied: numpy in c:\\users\\adnan\\anaconda3\\envs\\nlu-labs-venv\\lib\\site-packages (from pywsd) (1.24.3)\n",
      "Collecting wn==0.0.23\n",
      "  Downloading wn-0.0.23.tar.gz (31.6 MB)\n",
      "     ---------------------------------------- 0.0/31.6 MB ? eta -:--:--\n",
      "     ---------------------------------------- 0.0/31.6 MB 1.3 MB/s eta 0:00:25\n",
      "     --------------------------------------- 0.1/31.6 MB 787.7 kB/s eta 0:00:41\n",
      "     --------------------------------------- 0.1/31.6 MB 871.5 kB/s eta 0:00:37\n",
      "     --------------------------------------- 0.2/31.6 MB 919.0 kB/s eta 0:00:35\n",
      "     --------------------------------------- 0.2/31.6 MB 958.4 kB/s eta 0:00:33\n",
      "     --------------------------------------- 0.2/31.6 MB 901.1 kB/s eta 0:00:35\n",
      "     --------------------------------------- 0.3/31.6 MB 930.9 kB/s eta 0:00:34\n",
      "     --------------------------------------- 0.3/31.6 MB 952.6 kB/s eta 0:00:33\n",
      "     --------------------------------------- 0.4/31.6 MB 969.0 kB/s eta 0:00:33\n",
      "      -------------------------------------- 0.4/31.6 MB 958.5 kB/s eta 0:00:33\n",
      "      -------------------------------------- 0.5/31.6 MB 960.7 kB/s eta 0:00:33\n",
      "      -------------------------------------- 0.5/31.6 MB 944.9 kB/s eta 0:00:33\n",
      "      -------------------------------------- 0.6/31.6 MB 956.7 kB/s eta 0:00:33\n",
      "      -------------------------------------- 0.6/31.6 MB 933.9 kB/s eta 0:00:34\n",
      "      -------------------------------------- 0.6/31.6 MB 944.8 kB/s eta 0:00:33\n",
      "      -------------------------------------- 0.7/31.6 MB 954.2 kB/s eta 0:00:33\n",
      "      -------------------------------------- 0.7/31.6 MB 947.4 kB/s eta 0:00:33\n",
      "      -------------------------------------- 0.8/31.6 MB 944.6 kB/s eta 0:00:33\n",
      "     - ------------------------------------- 0.8/31.6 MB 940.7 kB/s eta 0:00:33\n",
      "     - ------------------------------------- 0.9/31.6 MB 953.9 kB/s eta 0:00:33\n",
      "     - ------------------------------------- 0.9/31.6 MB 949.8 kB/s eta 0:00:33\n",
      "     - ------------------------------------- 1.0/31.6 MB 942.1 kB/s eta 0:00:33\n",
      "     - ------------------------------------- 1.0/31.6 MB 938.9 kB/s eta 0:00:33\n",
      "     - ------------------------------------- 1.0/31.6 MB 945.4 kB/s eta 0:00:33\n",
      "     - ------------------------------------- 1.1/31.6 MB 946.6 kB/s eta 0:00:33\n",
      "     - ------------------------------------- 1.1/31.6 MB 952.4 kB/s eta 0:00:33\n",
      "     - ------------------------------------- 1.2/31.6 MB 945.2 kB/s eta 0:00:33\n",
      "     - ------------------------------------- 1.2/31.6 MB 951.3 kB/s eta 0:00:32\n",
      "     - ------------------------------------- 1.3/31.6 MB 951.5 kB/s eta 0:00:32\n",
      "     - ------------------------------------- 1.3/31.6 MB 956.2 kB/s eta 0:00:32\n",
      "     - ------------------------------------- 1.4/31.6 MB 961.4 kB/s eta 0:00:32\n",
      "     - ------------------------------------- 1.4/31.6 MB 951.4 kB/s eta 0:00:32\n",
      "     - ------------------------------------- 1.4/31.6 MB 955.7 kB/s eta 0:00:32\n",
      "     - ------------------------------------- 1.5/31.6 MB 953.2 kB/s eta 0:00:32\n",
      "     - ------------------------------------- 1.5/31.6 MB 947.7 kB/s eta 0:00:32\n",
      "     - ------------------------------------- 1.6/31.6 MB 948.5 kB/s eta 0:00:32\n",
      "     - ------------------------------------- 1.6/31.6 MB 952.4 kB/s eta 0:00:32\n",
      "     -- ------------------------------------ 1.7/31.6 MB 956.1 kB/s eta 0:00:32\n",
      "     -- ------------------------------------ 1.7/31.6 MB 960.2 kB/s eta 0:00:32\n",
      "     -- ------------------------------------ 1.8/31.6 MB 952.3 kB/s eta 0:00:32\n",
      "     -- ------------------------------------ 1.8/31.6 MB 955.7 kB/s eta 0:00:32\n",
      "     -- ------------------------------------ 1.8/31.6 MB 953.7 kB/s eta 0:00:32\n",
      "     -- ------------------------------------ 1.9/31.6 MB 956.9 kB/s eta 0:00:32\n",
      "     -- ------------------------------------ 1.9/31.6 MB 957.4 kB/s eta 0:00:32\n",
      "     -- ------------------------------------ 2.0/31.6 MB 953.0 kB/s eta 0:00:32\n",
      "     -- ------------------------------------ 2.0/31.6 MB 956.1 kB/s eta 0:00:31\n",
      "     -- ------------------------------------ 2.1/31.6 MB 954.7 kB/s eta 0:00:31\n",
      "     -- ------------------------------------ 2.1/31.6 MB 952.9 kB/s eta 0:00:31\n",
      "     -- ------------------------------------ 2.2/31.6 MB 955.7 kB/s eta 0:00:31\n",
      "     -- ------------------------------------ 2.2/31.6 MB 958.5 kB/s eta 0:00:31\n",
      "     -- ------------------------------------ 2.2/31.6 MB 958.9 kB/s eta 0:00:31\n",
      "     -- ------------------------------------ 2.3/31.6 MB 955.0 kB/s eta 0:00:31\n",
      "     -- ------------------------------------ 2.3/31.6 MB 953.4 kB/s eta 0:00:31\n",
      "     -- ------------------------------------ 2.4/31.6 MB 953.9 kB/s eta 0:00:31\n",
      "     -- ------------------------------------ 2.4/31.6 MB 956.4 kB/s eta 0:00:31\n",
      "     --- ----------------------------------- 2.5/31.6 MB 954.9 kB/s eta 0:00:31\n",
      "     --- ----------------------------------- 2.5/31.6 MB 951.8 kB/s eta 0:00:31\n",
      "     --- ----------------------------------- 2.6/31.6 MB 954.3 kB/s eta 0:00:31\n",
      "     --- ----------------------------------- 2.6/31.6 MB 952.8 kB/s eta 0:00:31\n",
      "     --- ----------------------------------- 2.6/31.6 MB 953.2 kB/s eta 0:00:31\n",
      "     --- ----------------------------------- 2.7/31.6 MB 957.4 kB/s eta 0:00:31\n",
      "     --- ----------------------------------- 2.7/31.6 MB 957.7 kB/s eta 0:00:31\n",
      "     --- ----------------------------------- 2.8/31.6 MB 952.8 kB/s eta 0:00:31\n",
      "     --- ----------------------------------- 2.8/31.6 MB 955.0 kB/s eta 0:00:31\n",
      "     --- ----------------------------------- 2.9/31.6 MB 952.3 kB/s eta 0:00:31\n",
      "     --- ----------------------------------- 2.9/31.6 MB 952.7 kB/s eta 0:00:31\n",
      "     --- ----------------------------------- 2.9/31.6 MB 954.8 kB/s eta 0:00:31\n",
      "     --- ----------------------------------- 3.0/31.6 MB 956.8 kB/s eta 0:00:30\n",
      "     --- ----------------------------------- 3.0/31.6 MB 957.2 kB/s eta 0:00:30\n",
      "     --- ----------------------------------- 3.1/31.6 MB 954.3 kB/s eta 0:00:30\n",
      "     --- ----------------------------------- 3.1/31.6 MB 953.1 kB/s eta 0:00:30\n",
      "     --- ----------------------------------- 3.2/31.6 MB 956.6 kB/s eta 0:00:30\n",
      "     --- ----------------------------------- 3.2/31.6 MB 955.4 kB/s eta 0:00:30\n",
      "     ---- ---------------------------------- 3.3/31.6 MB 953.0 kB/s eta 0:00:30\n",
      "     ---- ---------------------------------- 3.3/31.6 MB 954.9 kB/s eta 0:00:30\n",
      "     ---- ---------------------------------- 3.3/31.6 MB 954.9 kB/s eta 0:00:30\n",
      "     ---- ---------------------------------- 3.4/31.6 MB 957.0 kB/s eta 0:00:30\n",
      "     ---- ---------------------------------- 3.4/31.6 MB 954.5 kB/s eta 0:00:30\n",
      "     ---- ---------------------------------- 3.5/31.6 MB 954.8 kB/s eta 0:00:30\n",
      "     ---- ---------------------------------- 3.5/31.6 MB 956.5 kB/s eta 0:00:30\n",
      "     ---- ---------------------------------- 3.6/31.6 MB 958.2 kB/s eta 0:00:30\n",
      "     ---- ---------------------------------- 3.6/31.6 MB 957.1 kB/s eta 0:00:30\n",
      "     ---- ---------------------------------- 3.7/31.6 MB 955.0 kB/s eta 0:00:30\n",
      "     ---- ---------------------------------- 3.7/31.6 MB 955.0 kB/s eta 0:00:30\n",
      "     ---- ---------------------------------- 3.7/31.6 MB 956.9 kB/s eta 0:00:30\n",
      "     ---- ---------------------------------- 3.8/31.6 MB 955.9 kB/s eta 0:00:30\n",
      "     ---- ---------------------------------- 3.8/31.6 MB 954.9 kB/s eta 0:00:30\n",
      "     ---- ---------------------------------- 3.9/31.6 MB 953.9 kB/s eta 0:00:30\n",
      "     ---- ---------------------------------- 3.9/31.6 MB 955.5 kB/s eta 0:00:29\n",
      "     ---- ---------------------------------- 4.0/31.6 MB 957.0 kB/s eta 0:00:29\n",
      "     ---- ---------------------------------- 4.0/31.6 MB 957.2 kB/s eta 0:00:29\n",
      "     ----- --------------------------------- 4.1/31.6 MB 955.1 kB/s eta 0:00:29\n",
      "     ----- --------------------------------- 4.1/31.6 MB 956.8 kB/s eta 0:00:29\n",
      "     ----- --------------------------------- 4.1/31.6 MB 956.8 kB/s eta 0:00:29\n",
      "     ----- --------------------------------- 4.2/31.6 MB 955.0 kB/s eta 0:00:29\n",
      "     ----- --------------------------------- 4.2/31.6 MB 955.0 kB/s eta 0:00:29\n",
      "     ----- --------------------------------- 4.2/31.6 MB 955.0 kB/s eta 0:00:29\n",
      "     ----- --------------------------------- 4.2/31.6 MB 955.0 kB/s eta 0:00:29\n",
      "     ----- --------------------------------- 4.2/31.6 MB 955.0 kB/s eta 0:00:29\n",
      "     ----- --------------------------------- 4.2/31.6 MB 955.0 kB/s eta 0:00:29\n",
      "     ----- --------------------------------- 4.2/31.6 MB 906.8 kB/s eta 0:00:31\n",
      "     ----- --------------------------------- 4.3/31.6 MB 908.7 kB/s eta 0:00:31\n",
      "     ----- --------------------------------- 4.3/31.6 MB 907.6 kB/s eta 0:00:31\n",
      "     ----- --------------------------------- 4.4/31.6 MB 908.1 kB/s eta 0:00:31\n",
      "     ----- --------------------------------- 4.4/31.6 MB 909.9 kB/s eta 0:00:30\n",
      "     ----- --------------------------------- 4.4/31.6 MB 909.5 kB/s eta 0:00:30\n",
      "     ----- --------------------------------- 4.5/31.6 MB 911.2 kB/s eta 0:00:30\n",
      "     ----- --------------------------------- 4.5/31.6 MB 908.8 kB/s eta 0:00:30\n",
      "     ----- --------------------------------- 4.6/31.6 MB 910.5 kB/s eta 0:00:30\n",
      "     ----- --------------------------------- 4.6/31.6 MB 912.2 kB/s eta 0:00:30\n",
      "     ----- --------------------------------- 4.7/31.6 MB 912.6 kB/s eta 0:00:30\n",
      "     ----- --------------------------------- 4.7/31.6 MB 911.6 kB/s eta 0:00:30\n",
      "     ----- --------------------------------- 4.8/31.6 MB 911.2 kB/s eta 0:00:30\n",
      "     ----- --------------------------------- 4.8/31.6 MB 913.5 kB/s eta 0:00:30\n",
      "     ----- --------------------------------- 4.9/31.6 MB 914.4 kB/s eta 0:00:30\n",
      "     ------ -------------------------------- 4.9/31.6 MB 912.1 kB/s eta 0:00:30\n",
      "     ------ -------------------------------- 4.9/31.6 MB 913.6 kB/s eta 0:00:30\n",
      "     ------ -------------------------------- 5.0/31.6 MB 915.2 kB/s eta 0:00:30\n",
      "     ------ -------------------------------- 5.0/31.6 MB 914.8 kB/s eta 0:00:30\n",
      "     ------ -------------------------------- 5.1/31.6 MB 915.2 kB/s eta 0:00:30\n",
      "     ------ -------------------------------- 5.1/31.6 MB 914.2 kB/s eta 0:00:30\n",
      "     ------ -------------------------------- 5.1/31.6 MB 914.5 kB/s eta 0:00:29\n",
      "     ------ -------------------------------- 5.2/31.6 MB 916.1 kB/s eta 0:00:29\n",
      "     ------ -------------------------------- 5.2/31.6 MB 917.5 kB/s eta 0:00:29\n",
      "     ------ -------------------------------- 5.3/31.6 MB 916.4 kB/s eta 0:00:29\n",
      "     ------ -------------------------------- 5.3/31.6 MB 916.8 kB/s eta 0:00:29\n",
      "     ------ -------------------------------- 5.4/31.6 MB 918.2 kB/s eta 0:00:29\n",
      "     ------ -------------------------------- 5.4/31.6 MB 919.5 kB/s eta 0:00:29\n",
      "     ------ -------------------------------- 5.5/31.6 MB 917.4 kB/s eta 0:00:29\n",
      "     ------ -------------------------------- 5.5/31.6 MB 918.8 kB/s eta 0:00:29\n",
      "     ------ -------------------------------- 5.6/31.6 MB 918.6 kB/s eta 0:00:29\n",
      "     ------ -------------------------------- 5.6/31.6 MB 919.9 kB/s eta 0:00:29\n",
      "     ------ -------------------------------- 5.6/31.6 MB 917.8 kB/s eta 0:00:29\n",
      "     ------- ------------------------------- 5.7/31.6 MB 919.1 kB/s eta 0:00:29\n",
      "     ------- ------------------------------- 5.7/31.6 MB 920.4 kB/s eta 0:00:29\n",
      "     ------- ------------------------------- 5.8/31.6 MB 920.8 kB/s eta 0:00:29\n",
      "     ------- ------------------------------- 5.8/31.6 MB 919.7 kB/s eta 0:00:29\n",
      "     ------- ------------------------------- 5.9/31.6 MB 921.0 kB/s eta 0:00:28\n",
      "     ------- ------------------------------- 5.9/31.6 MB 920.7 kB/s eta 0:00:28\n",
      "     ------- ------------------------------- 5.9/31.6 MB 922.5 kB/s eta 0:00:28\n",
      "     ------- ------------------------------- 6.0/31.6 MB 920.0 kB/s eta 0:00:28\n",
      "     ------- ------------------------------- 6.0/31.6 MB 921.2 kB/s eta 0:00:28\n",
      "     ------- ------------------------------- 6.1/31.6 MB 922.1 kB/s eta 0:00:28\n",
      "     ------- ------------------------------- 6.1/31.6 MB 920.5 kB/s eta 0:00:28\n",
      "     ------- ------------------------------- 6.2/31.6 MB 921.7 kB/s eta 0:00:28\n",
      "     ------- ------------------------------- 6.2/31.6 MB 922.0 kB/s eta 0:00:28\n",
      "     ------- ------------------------------- 6.3/31.6 MB 921.2 kB/s eta 0:00:28\n",
      "     ------- ------------------------------- 6.3/31.6 MB 922.3 kB/s eta 0:00:28\n",
      "     ------- ------------------------------- 6.3/31.6 MB 922.5 kB/s eta 0:00:28\n",
      "     ------- ------------------------------- 6.4/31.6 MB 923.8 kB/s eta 0:00:28\n",
      "     ------- ------------------------------- 6.4/31.6 MB 922.8 kB/s eta 0:00:28\n",
      "     ------- ------------------------------- 6.5/31.6 MB 923.1 kB/s eta 0:00:28\n",
      "     -------- ------------------------------ 6.5/31.6 MB 924.2 kB/s eta 0:00:28\n",
      "     -------- ------------------------------ 6.6/31.6 MB 924.5 kB/s eta 0:00:28\n",
      "     -------- ------------------------------ 6.6/31.6 MB 923.0 kB/s eta 0:00:28\n",
      "     -------- ------------------------------ 6.6/31.6 MB 923.1 kB/s eta 0:00:28\n",
      "     -------- ------------------------------ 6.7/31.6 MB 924.2 kB/s eta 0:00:27\n",
      "     -------- ------------------------------ 6.7/31.6 MB 924.0 kB/s eta 0:00:27\n",
      "     -------- ------------------------------ 6.8/31.6 MB 925.1 kB/s eta 0:00:27\n",
      "     -------- ------------------------------ 6.8/31.6 MB 926.1 kB/s eta 0:00:27\n",
      "     -------- ------------------------------ 6.9/31.6 MB 923.8 kB/s eta 0:00:27\n",
      "     -------- ------------------------------ 6.9/31.6 MB 925.4 kB/s eta 0:00:27\n",
      "     -------- ------------------------------ 7.0/31.6 MB 926.5 kB/s eta 0:00:27\n",
      "     -------- ------------------------------ 7.0/31.6 MB 926.7 kB/s eta 0:00:27\n",
      "     -------- ------------------------------ 7.1/31.6 MB 925.8 kB/s eta 0:00:27\n",
      "     -------- ------------------------------ 7.1/31.6 MB 926.9 kB/s eta 0:00:27\n",
      "     -------- ------------------------------ 7.1/31.6 MB 926.6 kB/s eta 0:00:27\n",
      "     -------- ------------------------------ 7.2/31.6 MB 927.5 kB/s eta 0:00:27\n",
      "     -------- ------------------------------ 7.2/31.6 MB 925.9 kB/s eta 0:00:27\n",
      "     -------- ------------------------------ 7.3/31.6 MB 926.9 kB/s eta 0:00:27\n",
      "     --------- ----------------------------- 7.3/31.6 MB 926.5 kB/s eta 0:00:27\n",
      "     --------- ----------------------------- 7.4/31.6 MB 927.5 kB/s eta 0:00:27\n",
      "     --------- ----------------------------- 7.4/31.6 MB 927.8 kB/s eta 0:00:27\n",
      "     --------- ----------------------------- 7.5/31.6 MB 927.0 kB/s eta 0:00:27\n",
      "     --------- ----------------------------- 7.5/31.6 MB 927.9 kB/s eta 0:00:26\n",
      "     --------- ----------------------------- 7.5/31.6 MB 928.0 kB/s eta 0:00:26\n",
      "     --------- ----------------------------- 7.6/31.6 MB 929.1 kB/s eta 0:00:26\n",
      "     --------- ----------------------------- 7.6/31.6 MB 929.2 kB/s eta 0:00:26\n",
      "     --------- ----------------------------- 7.7/31.6 MB 928.4 kB/s eta 0:00:26\n",
      "     --------- ----------------------------- 7.7/31.6 MB 929.3 kB/s eta 0:00:26\n",
      "     --------- ----------------------------- 7.8/31.6 MB 930.2 kB/s eta 0:00:26\n",
      "     --------- ----------------------------- 7.8/31.6 MB 929.9 kB/s eta 0:00:26\n",
      "     --------- ----------------------------- 7.9/31.6 MB 929.6 kB/s eta 0:00:26\n",
      "     --------- ----------------------------- 7.9/31.6 MB 929.3 kB/s eta 0:00:26\n",
      "     --------- ----------------------------- 7.9/31.6 MB 930.3 kB/s eta 0:00:26\n",
      "     --------- ----------------------------- 8.0/31.6 MB 930.4 kB/s eta 0:00:26\n",
      "     --------- ----------------------------- 8.0/31.6 MB 929.6 kB/s eta 0:00:26\n",
      "     --------- ----------------------------- 8.1/31.6 MB 930.5 kB/s eta 0:00:26\n",
      "     ---------- ---------------------------- 8.1/31.6 MB 931.3 kB/s eta 0:00:26\n",
      "     ---------- ---------------------------- 8.2/31.6 MB 931.0 kB/s eta 0:00:26\n",
      "     ---------- ---------------------------- 8.2/31.6 MB 931.2 kB/s eta 0:00:26\n",
      "     ---------- ---------------------------- 8.2/31.6 MB 929.8 kB/s eta 0:00:26\n",
      "     ---------- ---------------------------- 8.3/31.6 MB 930.6 kB/s eta 0:00:26\n",
      "     ---------- ---------------------------- 8.3/31.6 MB 931.4 kB/s eta 0:00:26\n",
      "     ---------- ---------------------------- 8.4/31.6 MB 930.7 kB/s eta 0:00:25\n",
      "     ---------- ---------------------------- 8.4/31.6 MB 931.5 kB/s eta 0:00:25\n",
      "     ---------- ---------------------------- 8.5/31.6 MB 931.7 kB/s eta 0:00:25\n",
      "     ---------- ---------------------------- 8.5/31.6 MB 932.5 kB/s eta 0:00:25\n",
      "     ---------- ---------------------------- 8.6/31.6 MB 930.6 kB/s eta 0:00:25\n",
      "     ---------- ---------------------------- 8.6/31.6 MB 931.9 kB/s eta 0:00:25\n",
      "     ---------- ---------------------------- 8.6/31.6 MB 931.6 kB/s eta 0:00:25\n",
      "     ---------- ---------------------------- 8.7/31.6 MB 931.3 kB/s eta 0:00:25\n",
      "     ---------- ---------------------------- 8.7/31.6 MB 932.1 kB/s eta 0:00:25\n",
      "     ---------- ---------------------------- 8.8/31.6 MB 933.0 kB/s eta 0:00:25\n",
      "     ---------- ---------------------------- 8.8/31.6 MB 932.0 kB/s eta 0:00:25\n",
      "     ---------- ---------------------------- 8.9/31.6 MB 932.4 kB/s eta 0:00:25\n",
      "     ---------- ---------------------------- 8.9/31.6 MB 932.1 kB/s eta 0:00:25\n",
      "     ----------- --------------------------- 9.0/31.6 MB 932.8 kB/s eta 0:00:25\n",
      "     ----------- --------------------------- 9.0/31.6 MB 933.6 kB/s eta 0:00:25\n",
      "     ----------- --------------------------- 9.0/31.6 MB 933.8 kB/s eta 0:00:25\n",
      "     ----------- --------------------------- 9.1/31.6 MB 933.0 kB/s eta 0:00:25\n",
      "     ----------- --------------------------- 9.1/31.6 MB 933.9 kB/s eta 0:00:25\n",
      "     ----------- --------------------------- 9.2/31.6 MB 933.6 kB/s eta 0:00:25\n",
      "     ----------- --------------------------- 9.2/31.6 MB 934.7 kB/s eta 0:00:24\n",
      "     ----------- --------------------------- 9.3/31.6 MB 933.0 kB/s eta 0:00:24\n",
      "     ----------- --------------------------- 9.3/31.6 MB 933.7 kB/s eta 0:00:24\n",
      "     ----------- --------------------------- 9.3/31.6 MB 933.9 kB/s eta 0:00:24\n",
      "     ----------- --------------------------- 9.4/31.6 MB 933.1 kB/s eta 0:00:24\n",
      "     ----------- --------------------------- 9.5/31.6 MB 935.3 kB/s eta 0:00:24\n",
      "     ----------- --------------------------- 9.5/31.6 MB 934.7 kB/s eta 0:00:24\n",
      "     ----------- --------------------------- 9.5/31.6 MB 934.7 kB/s eta 0:00:24\n",
      "     ----------- --------------------------- 9.6/31.6 MB 934.1 kB/s eta 0:00:24\n",
      "     ----------- --------------------------- 9.6/31.6 MB 933.8 kB/s eta 0:00:24\n",
      "     ----------- --------------------------- 9.7/31.6 MB 935.0 kB/s eta 0:00:24\n",
      "     ----------- --------------------------- 9.7/31.6 MB 934.7 kB/s eta 0:00:24\n",
      "     ------------ -------------------------- 9.8/31.6 MB 933.9 kB/s eta 0:00:24\n",
      "     ------------ -------------------------- 9.8/31.6 MB 932.7 kB/s eta 0:00:24\n",
      "     ------------ -------------------------- 9.8/31.6 MB 934.8 kB/s eta 0:00:24\n",
      "     ------------ -------------------------- 9.9/31.6 MB 935.5 kB/s eta 0:00:24\n",
      "     ------------ -------------------------- 9.9/31.6 MB 935.7 kB/s eta 0:00:24\n",
      "     ----------- -------------------------- 10.0/31.6 MB 935.0 kB/s eta 0:00:24\n",
      "     ------------ ------------------------- 10.0/31.6 MB 934.7 kB/s eta 0:00:24\n",
      "     ------------ ------------------------- 10.0/31.6 MB 934.8 kB/s eta 0:00:24\n",
      "     ------------ ------------------------- 10.1/31.6 MB 936.1 kB/s eta 0:00:23\n",
      "     ------------ ------------------------- 10.1/31.6 MB 936.2 kB/s eta 0:00:23\n",
      "     ------------ ------------------------- 10.2/31.6 MB 935.5 kB/s eta 0:00:23\n",
      "     ------------ ------------------------- 10.3/31.6 MB 936.6 kB/s eta 0:00:23\n",
      "     ------------ ------------------------- 10.3/31.6 MB 936.6 kB/s eta 0:00:23\n",
      "     ------------ ------------------------- 10.3/31.6 MB 939.3 kB/s eta 0:00:23\n",
      "     ------------ ------------------------- 10.4/31.6 MB 935.3 kB/s eta 0:00:23\n",
      "     ------------ ------------------------- 10.4/31.6 MB 935.3 kB/s eta 0:00:23\n",
      "     ------------ ------------------------- 10.5/31.6 MB 935.3 kB/s eta 0:00:23\n",
      "     ------------ ------------------------- 10.5/31.6 MB 936.6 kB/s eta 0:00:23\n",
      "     ------------ ------------------------- 10.5/31.6 MB 938.0 kB/s eta 0:00:23\n",
      "     ------------ ------------------------- 10.6/31.6 MB 936.6 kB/s eta 0:00:23\n",
      "     ------------ ------------------------- 10.6/31.6 MB 938.0 kB/s eta 0:00:23\n",
      "     ------------ ------------------------- 10.7/31.6 MB 935.3 kB/s eta 0:00:23\n",
      "     ------------ ------------------------- 10.7/31.6 MB 937.9 kB/s eta 0:00:23\n",
      "     ------------ ------------------------- 10.8/31.6 MB 936.6 kB/s eta 0:00:23\n",
      "     ------------ ------------------------- 10.8/31.6 MB 938.0 kB/s eta 0:00:23\n",
      "     ------------- ------------------------ 10.9/31.6 MB 938.0 kB/s eta 0:00:23\n",
      "     ------------- ------------------------ 10.9/31.6 MB 937.9 kB/s eta 0:00:23\n",
      "     ------------- ------------------------ 10.9/31.6 MB 938.0 kB/s eta 0:00:23\n",
      "     ------------- ------------------------ 11.0/31.6 MB 936.6 kB/s eta 0:00:23\n",
      "     ------------- ------------------------ 11.0/31.6 MB 936.6 kB/s eta 0:00:22\n",
      "     ------------- ------------------------ 11.1/31.6 MB 936.6 kB/s eta 0:00:22\n",
      "     ------------- ------------------------ 11.1/31.6 MB 936.6 kB/s eta 0:00:22\n",
      "     ------------- ------------------------ 11.2/31.6 MB 936.7 kB/s eta 0:00:22\n",
      "     ------------- ------------------------ 11.2/31.6 MB 938.0 kB/s eta 0:00:22\n",
      "     ------------- ------------------------ 11.3/31.6 MB 938.0 kB/s eta 0:00:22\n",
      "     ------------- ------------------------ 11.3/31.6 MB 938.0 kB/s eta 0:00:22\n",
      "     ------------- ------------------------ 11.4/31.6 MB 936.6 kB/s eta 0:00:22\n",
      "     ------------- ------------------------ 11.4/31.6 MB 938.0 kB/s eta 0:00:22\n",
      "     ------------- ------------------------ 11.4/31.6 MB 938.0 kB/s eta 0:00:22\n",
      "     ------------- ------------------------ 11.5/31.6 MB 936.6 kB/s eta 0:00:22\n",
      "     ------------- ------------------------ 11.5/31.6 MB 936.7 kB/s eta 0:00:22\n",
      "     ------------- ------------------------ 11.6/31.6 MB 936.6 kB/s eta 0:00:22\n",
      "     ------------- ------------------------ 11.6/31.6 MB 937.9 kB/s eta 0:00:22\n",
      "     ------------- ------------------------ 11.6/31.6 MB 938.0 kB/s eta 0:00:22\n",
      "     -------------- ----------------------- 11.7/31.6 MB 936.6 kB/s eta 0:00:22\n",
      "     -------------- ----------------------- 11.7/31.6 MB 936.6 kB/s eta 0:00:22\n",
      "     -------------- ----------------------- 11.8/31.6 MB 938.0 kB/s eta 0:00:22\n",
      "     -------------- ----------------------- 11.8/31.6 MB 936.6 kB/s eta 0:00:22\n",
      "     -------------- ----------------------- 11.9/31.6 MB 935.3 kB/s eta 0:00:22\n",
      "     -------------- ----------------------- 11.9/31.6 MB 936.6 kB/s eta 0:00:22\n",
      "     -------------- ----------------------- 12.0/31.6 MB 937.9 kB/s eta 0:00:21\n",
      "     -------------- ----------------------- 12.0/31.6 MB 938.0 kB/s eta 0:00:21\n",
      "     -------------- ----------------------- 12.1/31.6 MB 938.0 kB/s eta 0:00:21\n",
      "     -------------- ----------------------- 12.1/31.6 MB 936.6 kB/s eta 0:00:21\n",
      "     -------------- ----------------------- 12.1/31.6 MB 935.2 kB/s eta 0:00:21\n",
      "     -------------- ----------------------- 12.2/31.6 MB 938.0 kB/s eta 0:00:21\n",
      "     -------------- ----------------------- 12.2/31.6 MB 938.0 kB/s eta 0:00:21\n",
      "     -------------- ----------------------- 12.3/31.6 MB 936.6 kB/s eta 0:00:21\n",
      "     -------------- ----------------------- 12.3/31.6 MB 937.9 kB/s eta 0:00:21\n",
      "     -------------- ----------------------- 12.4/31.6 MB 938.0 kB/s eta 0:00:21\n",
      "     -------------- ----------------------- 12.4/31.6 MB 938.0 kB/s eta 0:00:21\n",
      "     -------------- ----------------------- 12.5/31.6 MB 936.6 kB/s eta 0:00:21\n",
      "     --------------- ---------------------- 12.5/31.6 MB 938.0 kB/s eta 0:00:21\n",
      "     --------------- ---------------------- 12.6/31.6 MB 936.6 kB/s eta 0:00:21\n",
      "     --------------- ---------------------- 12.6/31.6 MB 939.3 kB/s eta 0:00:21\n",
      "     --------------- ---------------------- 12.6/31.6 MB 936.6 kB/s eta 0:00:21\n",
      "     --------------- ---------------------- 12.7/31.6 MB 938.0 kB/s eta 0:00:21\n",
      "     --------------- ---------------------- 12.7/31.6 MB 935.3 kB/s eta 0:00:21\n",
      "     --------------- ---------------------- 12.8/31.6 MB 938.0 kB/s eta 0:00:21\n",
      "     --------------- ---------------------- 12.8/31.6 MB 936.6 kB/s eta 0:00:21\n",
      "     --------------- ---------------------- 12.9/31.6 MB 936.6 kB/s eta 0:00:21\n",
      "     --------------- ---------------------- 12.9/31.6 MB 938.0 kB/s eta 0:00:20\n",
      "     --------------- ---------------------- 12.9/31.6 MB 936.6 kB/s eta 0:00:20\n",
      "     --------------- ---------------------- 13.0/31.6 MB 938.0 kB/s eta 0:00:20\n",
      "     --------------- ---------------------- 13.0/31.6 MB 936.6 kB/s eta 0:00:20\n",
      "     --------------- ---------------------- 13.1/31.6 MB 939.3 kB/s eta 0:00:20\n",
      "     --------------- ---------------------- 13.1/31.6 MB 937.9 kB/s eta 0:00:20\n",
      "     --------------- ---------------------- 13.2/31.6 MB 937.9 kB/s eta 0:00:20\n",
      "     --------------- ---------------------- 13.2/31.6 MB 938.0 kB/s eta 0:00:20\n",
      "     --------------- ---------------------- 13.3/31.6 MB 935.2 kB/s eta 0:00:20\n",
      "     --------------- ---------------------- 13.3/31.6 MB 938.0 kB/s eta 0:00:20\n",
      "     ---------------- --------------------- 13.3/31.6 MB 936.6 kB/s eta 0:00:20\n",
      "     ---------------- --------------------- 13.4/31.6 MB 936.6 kB/s eta 0:00:20\n",
      "     ---------------- --------------------- 13.4/31.6 MB 936.6 kB/s eta 0:00:20\n",
      "     ---------------- --------------------- 13.5/31.6 MB 937.9 kB/s eta 0:00:20\n",
      "     ---------------- --------------------- 13.5/31.6 MB 936.6 kB/s eta 0:00:20\n",
      "     ---------------- --------------------- 13.6/31.6 MB 936.7 kB/s eta 0:00:20\n",
      "     ---------------- --------------------- 13.6/31.6 MB 937.9 kB/s eta 0:00:20\n",
      "     ---------------- --------------------- 13.6/31.6 MB 937.9 kB/s eta 0:00:20\n",
      "     ---------------- --------------------- 13.7/31.6 MB 936.6 kB/s eta 0:00:20\n",
      "     ---------------- --------------------- 13.8/31.6 MB 936.6 kB/s eta 0:00:20\n",
      "     ---------------- --------------------- 13.8/31.6 MB 938.0 kB/s eta 0:00:20\n",
      "     ---------------- --------------------- 13.8/31.6 MB 938.0 kB/s eta 0:00:19\n",
      "     ---------------- --------------------- 13.9/31.6 MB 937.9 kB/s eta 0:00:19\n",
      "     ---------------- --------------------- 13.9/31.6 MB 938.0 kB/s eta 0:00:19\n",
      "     ---------------- --------------------- 14.0/31.6 MB 937.9 kB/s eta 0:00:19\n",
      "     ---------------- --------------------- 14.0/31.6 MB 936.6 kB/s eta 0:00:19\n",
      "     ---------------- --------------------- 14.1/31.6 MB 936.6 kB/s eta 0:00:19\n",
      "     ---------------- --------------------- 14.1/31.6 MB 936.6 kB/s eta 0:00:19\n",
      "     ---------------- --------------------- 14.1/31.6 MB 936.6 kB/s eta 0:00:19\n",
      "     ----------------- -------------------- 14.2/31.6 MB 938.0 kB/s eta 0:00:19\n",
      "     ----------------- -------------------- 14.2/31.6 MB 935.2 kB/s eta 0:00:19\n",
      "     ----------------- -------------------- 14.3/31.6 MB 938.0 kB/s eta 0:00:19\n",
      "     ----------------- -------------------- 14.3/31.6 MB 936.6 kB/s eta 0:00:19\n",
      "     ----------------- -------------------- 14.4/31.6 MB 936.6 kB/s eta 0:00:19\n",
      "     ----------------- -------------------- 14.4/31.6 MB 938.0 kB/s eta 0:00:19\n",
      "     ----------------- -------------------- 14.4/31.6 MB 957.2 kB/s eta 0:00:18\n",
      "     ----------------- -------------------- 14.5/31.6 MB 957.2 kB/s eta 0:00:18\n",
      "     ----------------- -------------------- 14.6/31.6 MB 958.6 kB/s eta 0:00:18\n",
      "     ----------------- -------------------- 14.6/31.6 MB 958.6 kB/s eta 0:00:18\n",
      "     ----------------- -------------------- 14.6/31.6 MB 958.6 kB/s eta 0:00:18\n",
      "     ----------------- -------------------- 14.7/31.6 MB 958.6 kB/s eta 0:00:18\n",
      "     ----------------- -------------------- 14.7/31.6 MB 957.1 kB/s eta 0:00:18\n",
      "     ----------------- -------------------- 14.8/31.6 MB 958.6 kB/s eta 0:00:18\n",
      "     ----------------- -------------------- 14.8/31.6 MB 957.2 kB/s eta 0:00:18\n",
      "     ----------------- -------------------- 14.9/31.6 MB 958.6 kB/s eta 0:00:18\n",
      "     ----------------- -------------------- 14.9/31.6 MB 958.6 kB/s eta 0:00:18\n",
      "     ----------------- -------------------- 15.0/31.6 MB 958.6 kB/s eta 0:00:18\n",
      "     ------------------ ------------------- 15.0/31.6 MB 958.6 kB/s eta 0:00:18\n",
      "     ------------------ ------------------- 15.0/31.6 MB 960.0 kB/s eta 0:00:18\n",
      "     ------------------ ------------------- 15.1/31.6 MB 958.6 kB/s eta 0:00:18\n",
      "     ------------------ ------------------- 15.1/31.6 MB 958.6 kB/s eta 0:00:18\n",
      "     ------------------ ------------------- 15.2/31.6 MB 958.6 kB/s eta 0:00:18\n",
      "     ------------------ ------------------- 15.2/31.6 MB 958.6 kB/s eta 0:00:18\n",
      "     ------------------ ------------------- 15.2/31.6 MB 957.2 kB/s eta 0:00:18\n",
      "     ------------------ ------------------- 15.3/31.6 MB 957.2 kB/s eta 0:00:18\n",
      "     ------------------ ------------------- 15.3/31.6 MB 958.6 kB/s eta 0:00:17\n",
      "     ------------------ ------------------- 15.4/31.6 MB 958.6 kB/s eta 0:00:17\n",
      "     ------------------ ------------------- 15.4/31.6 MB 957.1 kB/s eta 0:00:17\n",
      "     ------------------ ------------------- 15.5/31.6 MB 957.1 kB/s eta 0:00:17\n",
      "     ------------------ ------------------- 15.5/31.6 MB 958.6 kB/s eta 0:00:17\n",
      "     ------------------ ------------------- 15.6/31.6 MB 958.6 kB/s eta 0:00:17\n",
      "     ------------------ ------------------- 15.6/31.6 MB 958.6 kB/s eta 0:00:17\n",
      "     ------------------ ------------------- 15.6/31.6 MB 957.2 kB/s eta 0:00:17\n",
      "     ------------------ ------------------- 15.7/31.6 MB 958.6 kB/s eta 0:00:17\n",
      "     ------------------ ------------------- 15.7/31.6 MB 958.6 kB/s eta 0:00:17\n",
      "     ------------------ ------------------- 15.8/31.6 MB 958.6 kB/s eta 0:00:17\n",
      "     ------------------- ------------------ 15.8/31.6 MB 957.1 kB/s eta 0:00:17\n",
      "     ------------------- ------------------ 15.9/31.6 MB 958.6 kB/s eta 0:00:17\n",
      "     ------------------- ------------------ 15.9/31.6 MB 958.6 kB/s eta 0:00:17\n",
      "     ------------------- ------------------ 16.0/31.6 MB 958.6 kB/s eta 0:00:17\n",
      "     ------------------- ------------------ 16.0/31.6 MB 959.9 kB/s eta 0:00:17\n",
      "     ------------------- ------------------ 16.1/31.6 MB 958.6 kB/s eta 0:00:17\n",
      "     ------------------- ------------------ 16.1/31.6 MB 958.6 kB/s eta 0:00:17\n",
      "     ------------------- ------------------ 16.1/31.6 MB 958.6 kB/s eta 0:00:17\n",
      "     ------------------- ------------------ 16.2/31.6 MB 957.2 kB/s eta 0:00:17\n",
      "     ------------------- ------------------ 16.2/31.6 MB 960.0 kB/s eta 0:00:17\n",
      "     ------------------- ------------------ 16.3/31.6 MB 958.6 kB/s eta 0:00:17\n",
      "     ------------------- ------------------ 16.3/31.6 MB 957.2 kB/s eta 0:00:16\n",
      "     ------------------- ------------------ 16.4/31.6 MB 959.9 kB/s eta 0:00:16\n",
      "     ------------------- ------------------ 16.4/31.6 MB 958.6 kB/s eta 0:00:16\n",
      "     ------------------- ------------------ 16.5/31.6 MB 958.6 kB/s eta 0:00:16\n",
      "     ------------------- ------------------ 16.5/31.6 MB 958.6 kB/s eta 0:00:16\n",
      "     ------------------- ------------------ 16.5/31.6 MB 958.6 kB/s eta 0:00:16\n",
      "     ------------------- ------------------ 16.6/31.6 MB 958.6 kB/s eta 0:00:16\n",
      "     ------------------- ------------------ 16.6/31.6 MB 960.0 kB/s eta 0:00:16\n",
      "     -------------------- ----------------- 16.7/31.6 MB 958.6 kB/s eta 0:00:16\n",
      "     -------------------- ----------------- 16.7/31.6 MB 959.9 kB/s eta 0:00:16\n",
      "     -------------------- ----------------- 16.7/31.6 MB 958.6 kB/s eta 0:00:16\n",
      "     -------------------- ----------------- 16.8/31.6 MB 960.0 kB/s eta 0:00:16\n",
      "     -------------------- ----------------- 16.9/31.6 MB 960.0 kB/s eta 0:00:16\n",
      "     -------------------- ----------------- 16.9/31.6 MB 958.6 kB/s eta 0:00:16\n",
      "     -------------------- ----------------- 16.9/31.6 MB 958.6 kB/s eta 0:00:16\n",
      "     -------------------- ----------------- 17.0/31.6 MB 958.6 kB/s eta 0:00:16\n",
      "     -------------------- ----------------- 17.0/31.6 MB 960.0 kB/s eta 0:00:16\n",
      "     -------------------- ----------------- 17.1/31.6 MB 957.1 kB/s eta 0:00:16\n",
      "     -------------------- ----------------- 17.1/31.6 MB 958.6 kB/s eta 0:00:16\n",
      "     -------------------- ----------------- 17.2/31.6 MB 958.6 kB/s eta 0:00:16\n",
      "     -------------------- ----------------- 17.2/31.6 MB 957.2 kB/s eta 0:00:16\n",
      "     -------------------- ----------------- 17.3/31.6 MB 958.6 kB/s eta 0:00:15\n",
      "     -------------------- ----------------- 17.3/31.6 MB 958.6 kB/s eta 0:00:15\n",
      "     -------------------- ----------------- 17.3/31.6 MB 958.6 kB/s eta 0:00:15\n",
      "     -------------------- ----------------- 17.4/31.6 MB 958.6 kB/s eta 0:00:15\n",
      "     -------------------- ----------------- 17.4/31.6 MB 958.6 kB/s eta 0:00:15\n",
      "     -------------------- ----------------- 17.5/31.6 MB 960.0 kB/s eta 0:00:15\n",
      "     --------------------- ---------------- 17.5/31.6 MB 960.0 kB/s eta 0:00:15\n",
      "     --------------------- ---------------- 17.6/31.6 MB 958.6 kB/s eta 0:00:15\n",
      "     --------------------- ---------------- 17.6/31.6 MB 959.9 kB/s eta 0:00:15\n",
      "     --------------------- ---------------- 17.7/31.6 MB 957.2 kB/s eta 0:00:15\n",
      "     --------------------- ---------------- 17.7/31.6 MB 960.0 kB/s eta 0:00:15\n",
      "     --------------------- ---------------- 17.7/31.6 MB 959.9 kB/s eta 0:00:15\n",
      "     --------------------- ---------------- 17.8/31.6 MB 957.1 kB/s eta 0:00:15\n",
      "     --------------------- ---------------- 17.8/31.6 MB 957.1 kB/s eta 0:00:15\n",
      "     --------------------- ---------------- 17.9/31.6 MB 960.0 kB/s eta 0:00:15\n",
      "     --------------------- ---------------- 17.9/31.6 MB 958.6 kB/s eta 0:00:15\n",
      "     --------------------- ---------------- 18.0/31.6 MB 959.9 kB/s eta 0:00:15\n",
      "     --------------------- ---------------- 18.0/31.6 MB 957.2 kB/s eta 0:00:15\n",
      "     --------------------- ---------------- 18.1/31.6 MB 960.0 kB/s eta 0:00:15\n",
      "     --------------------- ---------------- 18.1/31.6 MB 958.6 kB/s eta 0:00:15\n",
      "     --------------------- ---------------- 18.1/31.6 MB 958.6 kB/s eta 0:00:15\n",
      "     --------------------- ---------------- 18.2/31.6 MB 958.6 kB/s eta 0:00:15\n",
      "     --------------------- ---------------- 18.2/31.6 MB 960.0 kB/s eta 0:00:14\n",
      "     --------------------- ---------------- 18.3/31.6 MB 959.9 kB/s eta 0:00:14\n",
      "     ---------------------- --------------- 18.3/31.6 MB 958.6 kB/s eta 0:00:14\n",
      "     ---------------------- --------------- 18.4/31.6 MB 957.2 kB/s eta 0:00:14\n",
      "     ---------------------- --------------- 18.4/31.6 MB 958.6 kB/s eta 0:00:14\n",
      "     ---------------------- --------------- 18.4/31.6 MB 958.6 kB/s eta 0:00:14\n",
      "     ---------------------- --------------- 18.5/31.6 MB 958.6 kB/s eta 0:00:14\n",
      "     ---------------------- --------------- 18.5/31.6 MB 958.6 kB/s eta 0:00:14\n",
      "     ---------------------- --------------- 18.6/31.6 MB 958.6 kB/s eta 0:00:14\n",
      "     ---------------------- --------------- 18.6/31.6 MB 960.0 kB/s eta 0:00:14\n",
      "     ---------------------- --------------- 18.7/31.6 MB 958.6 kB/s eta 0:00:14\n",
      "     ---------------------- --------------- 18.7/31.6 MB 958.6 kB/s eta 0:00:14\n",
      "     ---------------------- --------------- 18.8/31.6 MB 958.6 kB/s eta 0:00:14\n",
      "     ---------------------- --------------- 18.8/31.6 MB 959.9 kB/s eta 0:00:14\n",
      "     ---------------------- --------------- 18.9/31.6 MB 960.0 kB/s eta 0:00:14\n",
      "     ---------------------- --------------- 18.9/31.6 MB 960.0 kB/s eta 0:00:14\n",
      "     ---------------------- --------------- 18.9/31.6 MB 958.6 kB/s eta 0:00:14\n",
      "     ---------------------- --------------- 19.0/31.6 MB 958.6 kB/s eta 0:00:14\n",
      "     ---------------------- --------------- 19.0/31.6 MB 958.6 kB/s eta 0:00:14\n",
      "     ---------------------- --------------- 19.1/31.6 MB 958.6 kB/s eta 0:00:14\n",
      "     ---------------------- --------------- 19.1/31.6 MB 958.6 kB/s eta 0:00:14\n",
      "     ----------------------- -------------- 19.2/31.6 MB 959.9 kB/s eta 0:00:13\n",
      "     ----------------------- -------------- 19.2/31.6 MB 958.6 kB/s eta 0:00:13\n",
      "     ----------------------- -------------- 19.3/31.6 MB 960.0 kB/s eta 0:00:13\n",
      "     ----------------------- -------------- 19.3/31.6 MB 960.0 kB/s eta 0:00:13\n",
      "     ----------------------- -------------- 19.3/31.6 MB 960.0 kB/s eta 0:00:13\n",
      "     ----------------------- -------------- 19.4/31.6 MB 961.4 kB/s eta 0:00:13\n",
      "     ----------------------- -------------- 19.4/31.6 MB 958.6 kB/s eta 0:00:13\n",
      "     ----------------------- -------------- 19.5/31.6 MB 959.9 kB/s eta 0:00:13\n",
      "     ----------------------- -------------- 19.5/31.6 MB 960.0 kB/s eta 0:00:13\n",
      "     ----------------------- -------------- 19.6/31.6 MB 960.0 kB/s eta 0:00:13\n",
      "     ----------------------- -------------- 19.6/31.6 MB 958.6 kB/s eta 0:00:13\n",
      "     ----------------------- -------------- 19.7/31.6 MB 958.6 kB/s eta 0:00:13\n",
      "     ----------------------- -------------- 19.7/31.6 MB 957.2 kB/s eta 0:00:13\n",
      "     ----------------------- -------------- 19.7/31.6 MB 958.6 kB/s eta 0:00:13\n",
      "     ----------------------- -------------- 19.8/31.6 MB 958.6 kB/s eta 0:00:13\n",
      "     ----------------------- -------------- 19.8/31.6 MB 958.6 kB/s eta 0:00:13\n",
      "     ----------------------- -------------- 19.9/31.6 MB 960.0 kB/s eta 0:00:13\n",
      "     ----------------------- -------------- 19.9/31.6 MB 958.6 kB/s eta 0:00:13\n",
      "     ----------------------- -------------- 20.0/31.6 MB 958.6 kB/s eta 0:00:13\n",
      "     ------------------------ ------------- 20.0/31.6 MB 958.6 kB/s eta 0:00:13\n",
      "     ------------------------ ------------- 20.0/31.6 MB 958.6 kB/s eta 0:00:13\n",
      "     ------------------------ ------------- 20.1/31.6 MB 958.6 kB/s eta 0:00:13\n",
      "     ------------------------ ------------- 20.1/31.6 MB 958.6 kB/s eta 0:00:12\n",
      "     ------------------------ ------------- 20.2/31.6 MB 960.0 kB/s eta 0:00:12\n",
      "     ------------------------ ------------- 20.2/31.6 MB 958.6 kB/s eta 0:00:12\n",
      "     ------------------------ ------------- 20.3/31.6 MB 958.6 kB/s eta 0:00:12\n",
      "     ------------------------ ------------- 20.3/31.6 MB 960.0 kB/s eta 0:00:12\n",
      "     ------------------------ ------------- 20.3/31.6 MB 960.0 kB/s eta 0:00:12\n",
      "     ------------------------ ------------- 20.4/31.6 MB 960.0 kB/s eta 0:00:12\n",
      "     ------------------------ ------------- 20.4/31.6 MB 958.6 kB/s eta 0:00:12\n",
      "     ------------------------ ------------- 20.5/31.6 MB 958.6 kB/s eta 0:00:12\n",
      "     ------------------------ ------------- 20.5/31.6 MB 957.2 kB/s eta 0:00:12\n",
      "     ------------------------ ------------- 20.6/31.6 MB 957.1 kB/s eta 0:00:12\n",
      "     ------------------------ ------------- 20.6/31.6 MB 958.6 kB/s eta 0:00:12\n",
      "     ------------------------ ------------- 20.6/31.6 MB 957.2 kB/s eta 0:00:12\n",
      "     ------------------------ ------------- 20.7/31.6 MB 958.6 kB/s eta 0:00:12\n",
      "     ------------------------ ------------- 20.7/31.6 MB 957.2 kB/s eta 0:00:12\n",
      "     ------------------------ ------------- 20.8/31.6 MB 957.1 kB/s eta 0:00:12\n",
      "     ------------------------- ------------ 20.8/31.6 MB 957.1 kB/s eta 0:00:12\n",
      "     ------------------------- ------------ 20.9/31.6 MB 957.2 kB/s eta 0:00:12\n",
      "     ------------------------- ------------ 20.9/31.6 MB 961.4 kB/s eta 0:00:12\n",
      "     ------------------------- ------------ 21.0/31.6 MB 957.2 kB/s eta 0:00:12\n",
      "     ------------------------- ------------ 21.0/31.6 MB 958.6 kB/s eta 0:00:12\n",
      "     ------------------------- ------------ 21.1/31.6 MB 958.6 kB/s eta 0:00:12\n",
      "     ------------------------- ------------ 21.1/31.6 MB 958.6 kB/s eta 0:00:11\n",
      "     ------------------------- ------------ 21.1/31.6 MB 958.6 kB/s eta 0:00:11\n",
      "     ------------------------- ------------ 21.2/31.6 MB 958.6 kB/s eta 0:00:11\n",
      "     ------------------------- ------------ 21.2/31.6 MB 958.6 kB/s eta 0:00:11\n",
      "     ------------------------- ------------ 21.3/31.6 MB 958.6 kB/s eta 0:00:11\n",
      "     ------------------------- ------------ 21.3/31.6 MB 957.2 kB/s eta 0:00:11\n",
      "     ------------------------- ------------ 21.4/31.6 MB 957.2 kB/s eta 0:00:11\n",
      "     ------------------------- ------------ 21.4/31.6 MB 958.6 kB/s eta 0:00:11\n",
      "     ------------------------- ------------ 21.4/31.6 MB 958.6 kB/s eta 0:00:11\n",
      "     ------------------------- ------------ 21.5/31.6 MB 957.1 kB/s eta 0:00:11\n",
      "     ------------------------- ------------ 21.5/31.6 MB 960.0 kB/s eta 0:00:11\n",
      "     ------------------------- ------------ 21.6/31.6 MB 958.6 kB/s eta 0:00:11\n",
      "     ------------------------- ------------ 21.6/31.6 MB 957.2 kB/s eta 0:00:11\n",
      "     -------------------------- ----------- 21.7/31.6 MB 958.6 kB/s eta 0:00:11\n",
      "     -------------------------- ----------- 21.7/31.6 MB 958.6 kB/s eta 0:00:11\n",
      "     -------------------------- ----------- 21.8/31.6 MB 958.6 kB/s eta 0:00:11\n",
      "     -------------------------- ----------- 21.8/31.6 MB 958.6 kB/s eta 0:00:11\n",
      "     -------------------------- ----------- 21.9/31.6 MB 958.6 kB/s eta 0:00:11\n",
      "     -------------------------- ----------- 21.9/31.6 MB 958.6 kB/s eta 0:00:11\n",
      "     -------------------------- ----------- 21.9/31.6 MB 958.6 kB/s eta 0:00:11\n",
      "     -------------------------- ----------- 22.0/31.6 MB 958.6 kB/s eta 0:00:11\n",
      "     -------------------------- ----------- 22.0/31.6 MB 958.6 kB/s eta 0:00:11\n",
      "     -------------------------- ----------- 22.1/31.6 MB 958.6 kB/s eta 0:00:10\n",
      "     -------------------------- ----------- 22.1/31.6 MB 958.6 kB/s eta 0:00:10\n",
      "     -------------------------- ----------- 22.1/31.6 MB 957.2 kB/s eta 0:00:10\n",
      "     -------------------------- ----------- 22.2/31.6 MB 957.2 kB/s eta 0:00:10\n",
      "     -------------------------- ----------- 22.3/31.6 MB 957.1 kB/s eta 0:00:10\n",
      "     -------------------------- ----------- 22.3/31.6 MB 958.6 kB/s eta 0:00:10\n",
      "     -------------------------- ----------- 22.3/31.6 MB 955.8 kB/s eta 0:00:10\n",
      "     -------------------------- ----------- 22.4/31.6 MB 958.6 kB/s eta 0:00:10\n",
      "     -------------------------- ----------- 22.4/31.6 MB 957.1 kB/s eta 0:00:10\n",
      "     -------------------------- ----------- 22.5/31.6 MB 957.1 kB/s eta 0:00:10\n",
      "     --------------------------- ---------- 22.5/31.6 MB 957.2 kB/s eta 0:00:10\n",
      "     --------------------------- ---------- 22.5/31.6 MB 957.2 kB/s eta 0:00:10\n",
      "     --------------------------- ---------- 22.6/31.6 MB 957.2 kB/s eta 0:00:10\n",
      "     --------------------------- ---------- 22.6/31.6 MB 957.2 kB/s eta 0:00:10\n",
      "     --------------------------- ---------- 22.7/31.6 MB 958.6 kB/s eta 0:00:10\n",
      "     --------------------------- ---------- 22.7/31.6 MB 958.6 kB/s eta 0:00:10\n",
      "     --------------------------- ---------- 22.8/31.6 MB 957.1 kB/s eta 0:00:10\n",
      "     --------------------------- ---------- 22.8/31.6 MB 957.1 kB/s eta 0:00:10\n",
      "     --------------------------- ---------- 22.8/31.6 MB 957.1 kB/s eta 0:00:10\n",
      "     --------------------------- ---------- 22.9/31.6 MB 957.1 kB/s eta 0:00:10\n",
      "     --------------------------- ---------- 22.9/31.6 MB 957.1 kB/s eta 0:00:10\n",
      "     --------------------------- ---------- 23.0/31.6 MB 955.8 kB/s eta 0:00:10\n",
      "     --------------------------- ---------- 23.0/31.6 MB 955.8 kB/s eta 0:00:09\n",
      "     --------------------------- ---------- 23.1/31.6 MB 955.8 kB/s eta 0:00:09\n",
      "     --------------------------- ---------- 23.1/31.6 MB 957.2 kB/s eta 0:00:09\n",
      "     --------------------------- ---------- 23.2/31.6 MB 955.8 kB/s eta 0:00:09\n",
      "     --------------------------- ---------- 23.2/31.6 MB 957.1 kB/s eta 0:00:09\n",
      "     --------------------------- ---------- 23.2/31.6 MB 955.8 kB/s eta 0:00:09\n",
      "     --------------------------- ---------- 23.3/31.6 MB 955.8 kB/s eta 0:00:09\n",
      "     ---------------------------- --------- 23.3/31.6 MB 954.4 kB/s eta 0:00:09\n",
      "     ---------------------------- --------- 23.4/31.6 MB 955.8 kB/s eta 0:00:09\n",
      "     ---------------------------- --------- 23.4/31.6 MB 957.2 kB/s eta 0:00:09\n",
      "     ---------------------------- --------- 23.5/31.6 MB 957.2 kB/s eta 0:00:09\n",
      "     ---------------------------- --------- 23.5/31.6 MB 954.4 kB/s eta 0:00:09\n",
      "     ---------------------------- --------- 23.6/31.6 MB 955.8 kB/s eta 0:00:09\n",
      "     ---------------------------- --------- 23.6/31.6 MB 957.1 kB/s eta 0:00:09\n",
      "     ---------------------------- --------- 23.6/31.6 MB 957.1 kB/s eta 0:00:09\n",
      "     ---------------------------- --------- 23.7/31.6 MB 955.7 kB/s eta 0:00:09\n",
      "     ---------------------------- --------- 23.7/31.6 MB 958.6 kB/s eta 0:00:09\n",
      "     ---------------------------- --------- 23.8/31.6 MB 955.8 kB/s eta 0:00:09\n",
      "     ---------------------------- --------- 23.8/31.6 MB 955.8 kB/s eta 0:00:09\n",
      "     ---------------------------- --------- 23.9/31.6 MB 955.8 kB/s eta 0:00:09\n",
      "     ---------------------------- --------- 23.9/31.6 MB 957.1 kB/s eta 0:00:09\n",
      "     ---------------------------- --------- 24.0/31.6 MB 955.8 kB/s eta 0:00:09\n",
      "     ---------------------------- --------- 24.0/31.6 MB 957.1 kB/s eta 0:00:08\n",
      "     ---------------------------- --------- 24.0/31.6 MB 955.8 kB/s eta 0:00:08\n",
      "     ---------------------------- --------- 24.1/31.6 MB 957.1 kB/s eta 0:00:08\n",
      "     ----------------------------- -------- 24.1/31.6 MB 957.2 kB/s eta 0:00:08\n",
      "     ----------------------------- -------- 24.2/31.6 MB 957.1 kB/s eta 0:00:08\n",
      "     ----------------------------- -------- 24.2/31.6 MB 957.2 kB/s eta 0:00:08\n",
      "     ----------------------------- -------- 24.3/31.6 MB 955.8 kB/s eta 0:00:08\n",
      "     ----------------------------- -------- 24.3/31.6 MB 957.2 kB/s eta 0:00:08\n",
      "     ----------------------------- -------- 24.3/31.6 MB 955.8 kB/s eta 0:00:08\n",
      "     ----------------------------- -------- 24.4/31.6 MB 955.8 kB/s eta 0:00:08\n",
      "     ----------------------------- -------- 24.4/31.6 MB 954.4 kB/s eta 0:00:08\n",
      "     ----------------------------- -------- 24.5/31.6 MB 955.8 kB/s eta 0:00:08\n",
      "     ----------------------------- -------- 24.5/31.6 MB 955.7 kB/s eta 0:00:08\n",
      "     ----------------------------- -------- 24.6/31.6 MB 957.2 kB/s eta 0:00:08\n",
      "     ----------------------------- -------- 24.6/31.6 MB 955.8 kB/s eta 0:00:08\n",
      "     ----------------------------- -------- 24.7/31.6 MB 955.8 kB/s eta 0:00:08\n",
      "     ----------------------------- -------- 24.7/31.6 MB 955.8 kB/s eta 0:00:08\n",
      "     ----------------------------- -------- 24.7/31.6 MB 957.2 kB/s eta 0:00:08\n",
      "     ----------------------------- -------- 24.8/31.6 MB 955.8 kB/s eta 0:00:08\n",
      "     ----------------------------- -------- 24.8/31.6 MB 957.1 kB/s eta 0:00:08\n",
      "     ----------------------------- -------- 24.9/31.6 MB 957.1 kB/s eta 0:00:08\n",
      "     ----------------------------- -------- 24.9/31.6 MB 955.8 kB/s eta 0:00:08\n",
      "     ----------------------------- -------- 25.0/31.6 MB 955.8 kB/s eta 0:00:07\n",
      "     ------------------------------ ------- 25.0/31.6 MB 955.7 kB/s eta 0:00:07\n",
      "     ------------------------------ ------- 25.1/31.6 MB 954.4 kB/s eta 0:00:07\n",
      "     ------------------------------ ------- 25.1/31.6 MB 954.4 kB/s eta 0:00:07\n",
      "     ------------------------------ ------- 25.1/31.6 MB 955.8 kB/s eta 0:00:07\n",
      "     ------------------------------ ------- 25.2/31.6 MB 957.2 kB/s eta 0:00:07\n",
      "     ------------------------------ ------- 25.2/31.6 MB 955.7 kB/s eta 0:00:07\n",
      "     ------------------------------ ------- 25.3/31.6 MB 955.8 kB/s eta 0:00:07\n",
      "     ------------------------------ ------- 25.3/31.6 MB 957.1 kB/s eta 0:00:07\n",
      "     ------------------------------ ------- 25.4/31.6 MB 955.8 kB/s eta 0:00:07\n",
      "     ------------------------------ ------- 25.4/31.6 MB 955.8 kB/s eta 0:00:07\n",
      "     ------------------------------ ------- 25.5/31.6 MB 957.2 kB/s eta 0:00:07\n",
      "     ------------------------------ ------- 25.5/31.6 MB 957.2 kB/s eta 0:00:07\n",
      "     ------------------------------ ------- 25.5/31.6 MB 955.8 kB/s eta 0:00:07\n",
      "     ------------------------------ ------- 25.6/31.6 MB 955.8 kB/s eta 0:00:07\n",
      "     ------------------------------ ------- 25.6/31.6 MB 957.1 kB/s eta 0:00:07\n",
      "     ------------------------------ ------- 25.7/31.6 MB 957.2 kB/s eta 0:00:07\n",
      "     ------------------------------ ------- 25.7/31.6 MB 957.1 kB/s eta 0:00:07\n",
      "     ------------------------------ ------- 25.8/31.6 MB 955.8 kB/s eta 0:00:07\n",
      "     ------------------------------- ------ 25.8/31.6 MB 955.8 kB/s eta 0:00:07\n",
      "     ------------------------------- ------ 25.9/31.6 MB 955.8 kB/s eta 0:00:07\n",
      "     ------------------------------- ------ 25.9/31.6 MB 957.2 kB/s eta 0:00:06\n",
      "     ------------------------------- ------ 25.9/31.6 MB 957.2 kB/s eta 0:00:06\n",
      "     ------------------------------- ------ 26.0/31.6 MB 955.8 kB/s eta 0:00:06\n",
      "     ------------------------------- ------ 26.0/31.6 MB 955.8 kB/s eta 0:00:06\n",
      "     ------------------------------- ------ 26.1/31.6 MB 957.1 kB/s eta 0:00:06\n",
      "     ------------------------------- ------ 26.1/31.6 MB 957.1 kB/s eta 0:00:06\n",
      "     ------------------------------- ------ 26.2/31.6 MB 955.8 kB/s eta 0:00:06\n",
      "     ------------------------------- ------ 26.2/31.6 MB 957.2 kB/s eta 0:00:06\n",
      "     ------------------------------- ------ 26.2/31.6 MB 957.2 kB/s eta 0:00:06\n",
      "     ------------------------------- ------ 26.3/31.6 MB 957.2 kB/s eta 0:00:06\n",
      "     ------------------------------- ------ 26.3/31.6 MB 955.8 kB/s eta 0:00:06\n",
      "     ------------------------------- ------ 26.4/31.6 MB 955.8 kB/s eta 0:00:06\n",
      "     ------------------------------- ------ 26.4/31.6 MB 955.8 kB/s eta 0:00:06\n",
      "     ------------------------------- ------ 26.5/31.6 MB 957.1 kB/s eta 0:00:06\n",
      "     ------------------------------- ------ 26.5/31.6 MB 957.2 kB/s eta 0:00:06\n",
      "     ------------------------------- ------ 26.6/31.6 MB 957.2 kB/s eta 0:00:06\n",
      "     ------------------------------- ------ 26.6/31.6 MB 957.2 kB/s eta 0:00:06\n",
      "     -------------------------------- ----- 26.7/31.6 MB 955.8 kB/s eta 0:00:06\n",
      "     -------------------------------- ----- 26.7/31.6 MB 955.8 kB/s eta 0:00:06\n",
      "     -------------------------------- ----- 26.7/31.6 MB 955.8 kB/s eta 0:00:06\n",
      "     -------------------------------- ----- 26.8/31.6 MB 957.2 kB/s eta 0:00:06\n",
      "     -------------------------------- ----- 26.8/31.6 MB 955.8 kB/s eta 0:00:06\n",
      "     -------------------------------- ----- 26.9/31.6 MB 955.8 kB/s eta 0:00:05\n",
      "     -------------------------------- ----- 26.9/31.6 MB 955.7 kB/s eta 0:00:05\n",
      "     -------------------------------- ----- 27.0/31.6 MB 955.8 kB/s eta 0:00:05\n",
      "     -------------------------------- ----- 27.0/31.6 MB 955.8 kB/s eta 0:00:05\n",
      "     -------------------------------- ----- 27.0/31.6 MB 954.4 kB/s eta 0:00:05\n",
      "     -------------------------------- ----- 27.1/31.6 MB 954.4 kB/s eta 0:00:05\n",
      "     -------------------------------- ----- 27.1/31.6 MB 955.8 kB/s eta 0:00:05\n",
      "     -------------------------------- ----- 27.2/31.6 MB 954.4 kB/s eta 0:00:05\n",
      "     -------------------------------- ----- 27.2/31.6 MB 954.4 kB/s eta 0:00:05\n",
      "     -------------------------------- ----- 27.3/31.6 MB 955.8 kB/s eta 0:00:05\n",
      "     -------------------------------- ----- 27.3/31.6 MB 955.8 kB/s eta 0:00:05\n",
      "     -------------------------------- ----- 27.3/31.6 MB 954.4 kB/s eta 0:00:05\n",
      "     -------------------------------- ----- 27.4/31.6 MB 955.7 kB/s eta 0:00:05\n",
      "     -------------------------------- ----- 27.4/31.6 MB 957.2 kB/s eta 0:00:05\n",
      "     --------------------------------- ---- 27.5/31.6 MB 955.8 kB/s eta 0:00:05\n",
      "     --------------------------------- ---- 27.5/31.6 MB 954.4 kB/s eta 0:00:05\n",
      "     --------------------------------- ---- 27.6/31.6 MB 954.4 kB/s eta 0:00:05\n",
      "     --------------------------------- ---- 27.6/31.6 MB 955.8 kB/s eta 0:00:05\n",
      "     --------------------------------- ---- 27.7/31.6 MB 954.4 kB/s eta 0:00:05\n",
      "     --------------------------------- ---- 27.7/31.6 MB 954.4 kB/s eta 0:00:05\n",
      "     --------------------------------- ---- 27.7/31.6 MB 954.4 kB/s eta 0:00:05\n",
      "     --------------------------------- ---- 27.8/31.6 MB 955.8 kB/s eta 0:00:05\n",
      "     --------------------------------- ---- 27.8/31.6 MB 954.4 kB/s eta 0:00:04\n",
      "     --------------------------------- ---- 27.9/31.6 MB 954.4 kB/s eta 0:00:04\n",
      "     --------------------------------- ---- 27.9/31.6 MB 954.4 kB/s eta 0:00:04\n",
      "     --------------------------------- ---- 28.0/31.6 MB 955.8 kB/s eta 0:00:04\n",
      "     --------------------------------- ---- 28.0/31.6 MB 954.4 kB/s eta 0:00:04\n",
      "     --------------------------------- ---- 28.1/31.6 MB 955.8 kB/s eta 0:00:04\n",
      "     --------------------------------- ---- 28.1/31.6 MB 954.4 kB/s eta 0:00:04\n",
      "     --------------------------------- ---- 28.1/31.6 MB 954.4 kB/s eta 0:00:04\n",
      "     --------------------------------- ---- 28.2/31.6 MB 954.4 kB/s eta 0:00:04\n",
      "     --------------------------------- ---- 28.2/31.6 MB 955.7 kB/s eta 0:00:04\n",
      "     --------------------------------- ---- 28.3/31.6 MB 954.4 kB/s eta 0:00:04\n",
      "     ---------------------------------- --- 28.3/31.6 MB 954.4 kB/s eta 0:00:04\n",
      "     ---------------------------------- --- 28.4/31.6 MB 954.4 kB/s eta 0:00:04\n",
      "     ---------------------------------- --- 28.4/31.6 MB 954.4 kB/s eta 0:00:04\n",
      "     ---------------------------------- --- 28.5/31.6 MB 954.4 kB/s eta 0:00:04\n",
      "     ---------------------------------- --- 28.5/31.6 MB 954.4 kB/s eta 0:00:04\n",
      "     ---------------------------------- --- 28.5/31.6 MB 954.4 kB/s eta 0:00:04\n",
      "     ---------------------------------- --- 28.6/31.6 MB 954.4 kB/s eta 0:00:04\n",
      "     ---------------------------------- --- 28.6/31.6 MB 954.4 kB/s eta 0:00:04\n",
      "     ---------------------------------- --- 28.7/31.6 MB 954.4 kB/s eta 0:00:04\n",
      "     ---------------------------------- --- 28.7/31.6 MB 954.4 kB/s eta 0:00:04\n",
      "     ---------------------------------- --- 28.8/31.6 MB 955.8 kB/s eta 0:00:04\n",
      "     ---------------------------------- --- 28.8/31.6 MB 954.4 kB/s eta 0:00:03\n",
      "     ---------------------------------- --- 28.9/31.6 MB 954.4 kB/s eta 0:00:03\n",
      "     ---------------------------------- --- 28.9/31.6 MB 954.4 kB/s eta 0:00:03\n",
      "     ---------------------------------- --- 28.9/31.6 MB 954.4 kB/s eta 0:00:03\n",
      "     ---------------------------------- --- 29.0/31.6 MB 954.4 kB/s eta 0:00:03\n",
      "     ---------------------------------- --- 29.0/31.6 MB 954.4 kB/s eta 0:00:03\n",
      "     ---------------------------------- --- 29.1/31.6 MB 953.0 kB/s eta 0:00:03\n",
      "     ---------------------------------- --- 29.1/31.6 MB 954.4 kB/s eta 0:00:03\n",
      "     ----------------------------------- -- 29.2/31.6 MB 954.4 kB/s eta 0:00:03\n",
      "     ----------------------------------- -- 29.2/31.6 MB 954.4 kB/s eta 0:00:03\n",
      "     ----------------------------------- -- 29.2/31.6 MB 955.8 kB/s eta 0:00:03\n",
      "     ----------------------------------- -- 29.3/31.6 MB 954.4 kB/s eta 0:00:03\n",
      "     ----------------------------------- -- 29.3/31.6 MB 954.4 kB/s eta 0:00:03\n",
      "     ----------------------------------- -- 29.4/31.6 MB 954.4 kB/s eta 0:00:03\n",
      "     ----------------------------------- -- 29.4/31.6 MB 955.7 kB/s eta 0:00:03\n",
      "     ----------------------------------- -- 29.5/31.6 MB 954.4 kB/s eta 0:00:03\n",
      "     ----------------------------------- -- 29.5/31.6 MB 954.4 kB/s eta 0:00:03\n",
      "     ----------------------------------- -- 29.6/31.6 MB 954.4 kB/s eta 0:00:03\n",
      "     ----------------------------------- -- 29.6/31.6 MB 952.9 kB/s eta 0:00:03\n",
      "     ----------------------------------- -- 29.6/31.6 MB 953.0 kB/s eta 0:00:03\n",
      "     ----------------------------------- -- 29.7/31.6 MB 954.4 kB/s eta 0:00:03\n",
      "     ----------------------------------- -- 29.7/31.6 MB 954.4 kB/s eta 0:00:02\n",
      "     ----------------------------------- -- 29.8/31.6 MB 953.0 kB/s eta 0:00:02\n",
      "     ----------------------------------- -- 29.8/31.6 MB 953.0 kB/s eta 0:00:02\n",
      "     ----------------------------------- -- 29.9/31.6 MB 954.4 kB/s eta 0:00:02\n",
      "     ----------------------------------- -- 29.9/31.6 MB 954.4 kB/s eta 0:00:02\n",
      "     ------------------------------------ - 30.0/31.6 MB 952.9 kB/s eta 0:00:02\n",
      "     ------------------------------------ - 30.0/31.6 MB 953.0 kB/s eta 0:00:02\n",
      "     ------------------------------------ - 30.0/31.6 MB 954.4 kB/s eta 0:00:02\n",
      "     ------------------------------------ - 30.1/31.6 MB 954.4 kB/s eta 0:00:02\n",
      "     ------------------------------------ - 30.1/31.6 MB 954.4 kB/s eta 0:00:02\n",
      "     ------------------------------------ - 30.2/31.6 MB 954.4 kB/s eta 0:00:02\n",
      "     ------------------------------------ - 30.2/31.6 MB 955.8 kB/s eta 0:00:02\n",
      "     ------------------------------------ - 30.3/31.6 MB 955.7 kB/s eta 0:00:02\n",
      "     ------------------------------------ - 30.3/31.6 MB 954.4 kB/s eta 0:00:02\n",
      "     ------------------------------------ - 30.3/31.6 MB 955.8 kB/s eta 0:00:02\n",
      "     ------------------------------------ - 30.4/31.6 MB 952.9 kB/s eta 0:00:02\n",
      "     ------------------------------------ - 30.4/31.6 MB 955.8 kB/s eta 0:00:02\n",
      "     ------------------------------------ - 30.5/31.6 MB 952.9 kB/s eta 0:00:02\n",
      "     ------------------------------------ - 30.5/31.6 MB 953.0 kB/s eta 0:00:02\n",
      "     ------------------------------------ - 30.6/31.6 MB 955.8 kB/s eta 0:00:02\n",
      "     ------------------------------------ - 30.6/31.6 MB 954.4 kB/s eta 0:00:02\n",
      "     ------------------------------------ - 30.6/31.6 MB 954.4 kB/s eta 0:00:02\n",
      "     ------------------------------------ - 30.7/31.6 MB 955.8 kB/s eta 0:00:01\n",
      "     ------------------------------------ - 30.8/31.6 MB 955.8 kB/s eta 0:00:01\n",
      "     -------------------------------------  30.8/31.6 MB 955.8 kB/s eta 0:00:01\n",
      "     -------------------------------------  30.8/31.6 MB 955.8 kB/s eta 0:00:01\n",
      "     -------------------------------------  30.9/31.6 MB 955.8 kB/s eta 0:00:01\n",
      "     -------------------------------------  30.9/31.6 MB 954.4 kB/s eta 0:00:01\n",
      "     -------------------------------------  31.0/31.6 MB 955.7 kB/s eta 0:00:01\n",
      "     -------------------------------------  31.0/31.6 MB 928.7 kB/s eta 0:00:01\n",
      "     -------------------------------------  31.4/31.6 MB 946.1 kB/s eta 0:00:01\n",
      "     -------------------------------------  31.4/31.6 MB 944.8 kB/s eta 0:00:01\n",
      "     -------------------------------------  31.5/31.6 MB 944.8 kB/s eta 0:00:01\n",
      "     -------------------------------------  31.5/31.6 MB 947.5 kB/s eta 0:00:01\n",
      "     -------------------------------------  31.6/31.6 MB 944.8 kB/s eta 0:00:01\n",
      "     -------------------------------------  31.6/31.6 MB 943.4 kB/s eta 0:00:01\n",
      "     -------------------------------------  31.6/31.6 MB 944.8 kB/s eta 0:00:01\n",
      "     -------------------------------------  31.6/31.6 MB 944.8 kB/s eta 0:00:01\n",
      "     -------------------------------------- 31.6/31.6 MB 936.1 kB/s eta 0:00:00\n",
      "  Preparing metadata (setup.py): started\n",
      "  Preparing metadata (setup.py): finished with status 'done'\n",
      "Requirement already satisfied: tqdm in c:\\users\\adnan\\anaconda3\\envs\\nlu-labs-venv\\lib\\site-packages (from nltk->pywsd) (4.65.0)\n",
      "Requirement already satisfied: regex>=2021.8.3 in c:\\users\\adnan\\anaconda3\\envs\\nlu-labs-venv\\lib\\site-packages (from nltk->pywsd) (2022.10.31)\n",
      "Requirement already satisfied: click in c:\\users\\adnan\\anaconda3\\envs\\nlu-labs-venv\\lib\\site-packages (from nltk->pywsd) (8.1.3)\n",
      "Requirement already satisfied: joblib in c:\\users\\adnan\\anaconda3\\envs\\nlu-labs-venv\\lib\\site-packages (from nltk->pywsd) (1.2.0)\n",
      "Requirement already satisfied: pytz>=2020.1 in c:\\users\\adnan\\anaconda3\\envs\\nlu-labs-venv\\lib\\site-packages (from pandas->pywsd) (2022.7.1)\n",
      "Requirement already satisfied: python-dateutil>=2.8.1 in c:\\users\\adnan\\anaconda3\\envs\\nlu-labs-venv\\lib\\site-packages (from pandas->pywsd) (2.8.2)\n",
      "Requirement already satisfied: colorama in c:\\users\\adnan\\anaconda3\\envs\\nlu-labs-venv\\lib\\site-packages (from click->nltk->pywsd) (0.4.6)\n",
      "Building wheels for collected packages: wn\n",
      "  Building wheel for wn (setup.py): started\n",
      "  Building wheel for wn (setup.py): finished with status 'done'\n",
      "  Created wheel for wn: filename=wn-0.0.23-py3-none-any.whl size=31792916 sha256=95bc5cc8d2c16ac77d5f3cc6d3265bb5e1c341fe66e92c4025510ce50029c576\n",
      "  Stored in directory: c:\\users\\adnan\\appdata\\local\\pip\\cache\\wheels\\cd\\8b\\7d\\c44f094ca392bd08edcd90adf241a3484b75e2b8e205fab50a\n",
      "Successfully built wn\n",
      "Installing collected packages: wn, pywsd\n",
      "Successfully installed pywsd-1.2.5 wn-0.0.23\n"
     ]
    }
   ],
   "source": [
    "# !pip install pywsd\n",
    "!pip install pywsd"
   ],
   "metadata": {
    "collapsed": false,
    "ExecuteTime": {
     "end_time": "2023-06-07T01:36:34.364812700Z",
     "start_time": "2023-06-07T01:35:09.946145500Z"
    }
   }
  },
  {
   "cell_type": "code",
   "execution_count": 18,
   "outputs": [
    {
     "name": "stderr",
     "output_type": "stream",
     "text": [
      "Warming up PyWSD (takes ~10 secs)... took 5.025984048843384 secs.\n"
     ]
    }
   ],
   "source": [
    "import pywsd"
   ],
   "metadata": {
    "collapsed": false,
    "ExecuteTime": {
     "end_time": "2023-06-07T01:36:45.229831300Z",
     "start_time": "2023-06-07T01:36:34.360811600Z"
    }
   }
  },
  {
   "cell_type": "code",
   "execution_count": 19,
   "outputs": [],
   "source": [
    "from pywsd.lesk import simple_lesk, original_lesk, cosine_lesk, adapted_lesk"
   ],
   "metadata": {
    "collapsed": false,
    "ExecuteTime": {
     "end_time": "2023-06-07T01:36:45.257829400Z",
     "start_time": "2023-06-07T01:36:45.231829800Z"
    }
   }
  },
  {
   "cell_type": "code",
   "execution_count": 24,
   "outputs": [
    {
     "name": "stdout",
     "output_type": "stream",
     "text": [
      "Synset('bank.n.01')\n",
      "sloping land (especially the slope beside a body of water)\n",
      "['they pulled the canoe up on the bank', 'he sat on the bank of the river and watched the currents']\n",
      "[Synset('slope.n.01')]\n",
      "[Synset('riverbank.n.01'), Synset('waterside.n.01')]\n",
      "[Synset('entity.n.01')]\n",
      "5\n",
      "5\n"
     ]
    }
   ],
   "source": [
    "# simple lesk\n",
    "synset_ = simple_lesk('Jane sat on the sloping bank of a river beside the water', 'bank')\n",
    "print(synset_)\n",
    "print(synset_.definition())\n",
    "print(synset_.examples())\n",
    "print(synset_.hypernyms())\n",
    "print(synset_.hyponyms())\n",
    "print(synset_.root_hypernyms())\n",
    "print(synset_.min_depth())\n",
    "print(synset_.max_depth())"
   ],
   "metadata": {
    "collapsed": false,
    "ExecuteTime": {
     "end_time": "2023-06-07T01:40:07.662026600Z",
     "start_time": "2023-06-07T01:40:07.609018900Z"
    }
   }
  },
  {
   "cell_type": "code",
   "execution_count": 25,
   "outputs": [
    {
     "name": "stdout",
     "output_type": "stream",
     "text": [
      "Synset('bank.n.01')\n",
      "sloping land (especially the slope beside a body of water)\n",
      "['they pulled the canoe up on the bank', 'he sat on the bank of the river and watched the currents']\n",
      "[Synset('slope.n.01')]\n",
      "[Synset('riverbank.n.01'), Synset('waterside.n.01')]\n",
      "[Synset('entity.n.01')]\n",
      "5\n",
      "5\n"
     ]
    }
   ],
   "source": [
    "# original lesk\n",
    "synset_ = original_lesk('Jane sat on the sloping bank of a river beside the water', 'bank')\n",
    "print(synset_)\n",
    "print(synset_.definition())\n",
    "print(synset_.examples())\n",
    "print(synset_.hypernyms())\n",
    "print(synset_.hyponyms())\n",
    "print(synset_.root_hypernyms())\n",
    "print(synset_.min_depth())\n",
    "print(synset_.max_depth())"
   ],
   "metadata": {
    "collapsed": false,
    "ExecuteTime": {
     "end_time": "2023-06-07T01:40:37.047077800Z",
     "start_time": "2023-06-07T01:40:37.029078500Z"
    }
   }
  },
  {
   "cell_type": "code",
   "execution_count": 26,
   "outputs": [
    {
     "name": "stdout",
     "output_type": "stream",
     "text": [
      "Synset('bank.n.01')\n",
      "sloping land (especially the slope beside a body of water)\n",
      "['they pulled the canoe up on the bank', 'he sat on the bank of the river and watched the currents']\n",
      "[Synset('slope.n.01')]\n",
      "[Synset('riverbank.n.01'), Synset('waterside.n.01')]\n",
      "[Synset('entity.n.01')]\n",
      "5\n",
      "5\n"
     ]
    }
   ],
   "source": [
    "# cosine lesk\n",
    "synset_ = cosine_lesk('Jane sat on the sloping bank of a river beside the water', 'bank')\n",
    "print(synset_)\n",
    "print(synset_.definition())\n",
    "print(synset_.examples())\n",
    "print(synset_.hypernyms())\n",
    "print(synset_.hyponyms())\n",
    "print(synset_.root_hypernyms())\n",
    "print(synset_.min_depth())\n",
    "print(synset_.max_depth())"
   ],
   "metadata": {
    "collapsed": false,
    "ExecuteTime": {
     "end_time": "2023-06-07T01:41:02.316230600Z",
     "start_time": "2023-06-07T01:41:02.249785700Z"
    }
   }
  },
  {
   "cell_type": "code",
   "execution_count": 27,
   "outputs": [
    {
     "name": "stdout",
     "output_type": "stream",
     "text": [
      "Synset('bank.n.01')\n",
      "sloping land (especially the slope beside a body of water)\n",
      "['they pulled the canoe up on the bank', 'he sat on the bank of the river and watched the currents']\n",
      "[Synset('slope.n.01')]\n",
      "[Synset('riverbank.n.01'), Synset('waterside.n.01')]\n",
      "[Synset('entity.n.01')]\n",
      "5\n",
      "5\n"
     ]
    }
   ],
   "source": [
    "# adapted lesk\n",
    "synset_ = adapted_lesk('Jane sat on the sloping bank of a river beside the water', 'bank')\n",
    "print(synset_)\n",
    "print(synset_.definition())\n",
    "print(synset_.examples())\n",
    "print(synset_.hypernyms())\n",
    "print(synset_.hyponyms())\n",
    "print(synset_.root_hypernyms())\n",
    "print(synset_.min_depth())\n",
    "print(synset_.max_depth())"
   ],
   "metadata": {
    "collapsed": false,
    "ExecuteTime": {
     "end_time": "2023-06-07T01:41:09.680213200Z",
     "start_time": "2023-06-07T01:41:09.613139700Z"
    }
   }
  },
  {
   "cell_type": "code",
   "execution_count": 27,
   "outputs": [],
   "source": [],
   "metadata": {
    "collapsed": false,
    "ExecuteTime": {
     "end_time": "2023-06-07T01:41:29.721124700Z",
     "start_time": "2023-06-07T01:41:29.697893300Z"
    }
   }
  },
  {
   "cell_type": "markdown",
   "metadata": {
    "slideshow": {
     "slide_type": "slide"
    }
   },
   "source": [
    "### Exercises\n",
    "Even though NLTK states that it implements Original Lesk Algorithm, in fact it is a Simplified Lesk Algorithm, that doesn't consider examples, and computes overlaps like the original. \n",
    "\n",
    "In the original algorithm context is computed differently. <mark style=\"background-color: rgba(0, 255, 0, 0.2)\">Instead of comparing a target word's signature with the context words, the target signature is compared with the signatures of each of the context words. </mark>\n",
    "\n",
    "Implement the Original Lesk Algorithm (modifying NLTK's, see pseudocode above)\n",
    "Todo list:\n",
    "- Complete lesk simplified\n",
    "- Preprocessing:\n",
    "    - compute pos-tag with `nltk.pos_tag`\n",
    "    - remove stopwords\n",
    "        - `from nltk.corpus import stopwords`\n",
    "        - `stopwords.words('english')`\n",
    "\n",
    "- take the majority decision (the sense predicted most frequently)\n",
    "\n",
    "POS tags reminder:\n",
    "| POS | in Synset Name |\n",
    "|:----|:---------------|\n",
    "| `wn.NOUN`    | `n`\n",
    "| `wn.VERB`    | `v`\n",
    "| `wn.ADV`     | `r`\n",
    "| `wn.ADJ`     | `a`\n",
    "| `wn.ADJ_SAT` | `s` (satelite adjective, ignore)"
   ]
  },
  {
   "cell_type": "markdown",
   "source": [
    "### 3 Implement the Original Lesk Algorithm (modifying NLTK's)"
   ],
   "metadata": {
    "collapsed": false
   }
  },
  {
   "cell_type": "code",
   "execution_count": 28,
   "metadata": {
    "ExecuteTime": {
     "end_time": "2023-06-07T01:43:17.990811300Z",
     "start_time": "2023-06-07T01:43:17.968807400Z"
    }
   },
   "outputs": [],
   "source": [
    "from nltk.corpus import stopwords\n",
    "from nltk.stem import WordNetLemmatizer\n",
    "\n",
    "# A bit of preprocessing \n",
    "def preprocess(text):\n",
    "    mapping = {\"NOUN\": wordnet.NOUN, \"VERB\": wordnet.VERB, \"ADJ\": wordnet.ADJ, \"ADV\": wordnet.ADV}\n",
    "\n",
    "    # Add the stopword list here\n",
    "    sw_list = stopwords.words('english')\n",
    "    \n",
    "    lem = WordNetLemmatizer()\n",
    "\n",
    "    # tokenize, if input is text\n",
    "    tokens = nltk.word_tokenize(text) if type(text) is str else text\n",
    "\n",
    "    # compute pos-tag\n",
    "    tagged = nltk.pos_tag(tokens, tagset=\"universal\")\n",
    "\n",
    "    # lowercase\n",
    "    tagged = [(w.lower(), p) for w, p in tagged]\n",
    "\n",
    "    # optional: remove all words that are not NOUN, VERB, ADJ, or ADV (i.e. no sense in WordNet)\n",
    "    tagged = [(w, p) for w, p in tagged if p in mapping]\n",
    "\n",
    "    # re-map tags to WordNet (return orignal if not in-mapping, if above is not used)\n",
    "    tagged = [(w, mapping.get(p, p)) for w, p in tagged]\n",
    "\n",
    "    # remove stopwords\n",
    "    tagged = [(w, p) for w, p in tagged if w not in sw_list]\n",
    "\n",
    "    # lemmatize\n",
    "    tagged = [(w, lem.lemmatize(w, pos=p), p) for w, p in tagged]\n",
    "\n",
    "    # unique the list\n",
    "    tagged = list(set(tagged))\n",
    "    \n",
    "    return tagged"
   ]
  },
  {
   "cell_type": "code",
   "execution_count": 29,
   "metadata": {
    "ExecuteTime": {
     "end_time": "2023-06-07T01:44:44.696077300Z",
     "start_time": "2023-06-07T01:44:44.650805100Z"
    }
   },
   "outputs": [],
   "source": [
    "def get_sense_definitions(context):\n",
    "    # input is text or list of strings\n",
    "    lemma_tags = preprocess(context)\n",
    "    \n",
    "    # let's get senses for each\n",
    "    senses = [(w, wordnet.synsets(l, p)) for w, l, p in lemma_tags]\n",
    "\n",
    "    # let's get their definitions\n",
    "    definitions = []\n",
    "    for raw_word, sense_list in senses:\n",
    "        if len(sense_list) > 0:\n",
    "            # let's tokenize, lowercase & remove stop words \n",
    "            def_list = []\n",
    "\n",
    "            for s in sense_list:\n",
    "                defn = s.definition()\n",
    "\n",
    "                # let's use the same preprocessing\n",
    "                tags = preprocess(defn)\n",
    "\n",
    "                toks = [l for w, l, p in tags]\n",
    "\n",
    "                def_list.append((s, toks))\n",
    "\n",
    "            definitions.append((raw_word, def_list))\n",
    "\n",
    "    return definitions"
   ]
  },
  {
   "cell_type": "code",
   "execution_count": 30,
   "metadata": {
    "ExecuteTime": {
     "end_time": "2023-06-07T01:44:56.983038100Z",
     "start_time": "2023-06-07T01:44:56.963031700Z"
    }
   },
   "outputs": [],
   "source": [
    "def get_top_sense(words, sense_list):\n",
    "    # get top sense from the list of sense-definition tuples\n",
    "    # assumes that words and definitions are preprocessed identically\n",
    "    val, sense = max((len(set(words).intersection(set(defn))), ss) for ss, defn in sense_list)\n",
    "\n",
    "    return val, sense"
   ]
  },
  {
   "cell_type": "code",
   "execution_count": 32,
   "metadata": {
    "ExecuteTime": {
     "end_time": "2023-06-07T01:46:40.833288200Z",
     "start_time": "2023-06-07T01:46:40.815286900Z"
    }
   },
   "outputs": [],
   "source": [
    "from collections import Counter\n",
    "\n",
    "def lesk_simplified(context_sentence, ambiguous_word, pos=None, synsets=None):\n",
    "    context = set(context_sentence)\n",
    "\n",
    "    if synsets is None:\n",
    "        synsets = wordnet.synsets(ambiguous_word)\n",
    "\n",
    "    if pos:\n",
    "        synsets = [ss for ss in synsets if str(ss.pos()) == pos]\n",
    "\n",
    "    if not synsets:\n",
    "        return None\n",
    "\n",
    "    # Measure the overlap between context and definitions\n",
    "    _, sense = max(\n",
    "        (len(context.intersection(ss.definition().split())), ss) for ss in synsets\n",
    "    )\n",
    "\n",
    "    return sense\n",
    "\n",
    "def original_lesk(context_sentence, ambiguous_word, pos=None, synsets=None, majority=False):\n",
    "    context_senses = get_sense_definitions(set(context_sentence)-set([ambiguous_word]))\n",
    "\n",
    "    if synsets is None:\n",
    "        synsets = get_sense_definitions(ambiguous_word)[0][1]\n",
    "\n",
    "    if pos:\n",
    "        synsets = [ss for ss in synsets if str(ss[0].pos()) == pos]\n",
    "\n",
    "    if not synsets:\n",
    "        return None\n",
    "\n",
    "    scores = []\n",
    "    # print(synsets)\n",
    "    for senses in context_senses:\n",
    "        for sense in senses[1]:\n",
    "            scores.append(get_top_sense(sense[1], synsets))\n",
    "\n",
    "    if len(scores) == 0:\n",
    "        return synsets[0][0]\n",
    "\n",
    "    if majority:\n",
    "        filtered_scores = [x[1] for x in scores if x[0] != 0]\n",
    "        if len(filtered_scores) > 0:\n",
    "            best_sense = Counter(filtered_scores).most_common(1)[0][0]\n",
    "        else:\n",
    "            # Almost random selection\n",
    "            best_sense = Counter([x[1] for x in scores]).most_common(1)[0][0]\n",
    "    else:\n",
    "        _, best_sense = max(scores)\n",
    "\n",
    "    return best_sense"
   ]
  },
  {
   "cell_type": "code",
   "execution_count": 33,
   "metadata": {
    "ExecuteTime": {
     "end_time": "2023-06-07T01:46:50.258888500Z",
     "start_time": "2023-06-07T01:46:50.186890Z"
    }
   },
   "outputs": [
    {
     "name": "stdout",
     "output_type": "stream",
     "text": [
      "Sense from lesk original Synset('bank.n.01')\n",
      "Sense from lesk simplified Synset('bank.n.01')\n",
      "Sense from lesk NLTK Synset('bank.n.01')\n"
     ]
    }
   ],
   "source": [
    "text = \"Jane sat on the sloping bank of a river beside the water\".split()\n",
    "word = \"bank\"\n",
    "\n",
    "print(\"Sense from lesk original\", original_lesk(text, word, majority=True))\n",
    "print(\"Sense from lesk simplified\", lesk_simplified(text, word))\n",
    "print(\"Sense from lesk NLTK\", lesk(text, word))"
   ]
  },
  {
   "cell_type": "markdown",
   "metadata": {
    "slideshow": {
     "slide_type": "slide"
    }
   },
   "source": [
    "## 4. Graph-based Methods on WordNet for WSD"
   ]
  },
  {
   "cell_type": "markdown",
   "metadata": {
    "slideshow": {
     "slide_type": "slide"
    }
   },
   "source": [
    "### 4.1. Maximum Relatedness Disambiguation\n",
    "\n",
    "Pedersen et al. (2003) [Maximizing Semantic Relatedness to Perform Word Sense Disambiguation](https://www.d.umn.edu/~tpederse/Pubs/max-sem-relate.pdf)\n",
    "\n",
    "\n",
    "```\n",
    "w = words\n",
    "\n",
    "foreach sense s[t][i] of target word w[t]$\n",
    "    set score[i] = 0\n",
    "    foreach word w[j] in window of context\n",
    "        skip to next word if j == t\n",
    "\n",
    "        foreach sense s[j][k] of w[j]\n",
    "            temp_score[j] = relatedness(s[t][i], s[j][k])\n",
    "\n",
    "        winning_score = highest score in array temp_score[]\n",
    "\n",
    "        if (winning_score > threshold)\n",
    "            set score[i] = score[i] + winning_score\n",
    "            \n",
    "return i, such that score[i] >= score[j] , for all j, 1 <= j <= n, n = number of words in sentence\n",
    "```"
   ]
  },
  {
   "cell_type": "markdown",
   "metadata": {
    "slideshow": {
     "slide_type": "slide"
    }
   },
   "source": [
    "#### 4.1.1. How do we define relatedness?\n",
    "\n",
    "- Similar words are near-synonyms: e.g. *car*, *motorcycle*\n",
    "- Related words can be related any way: e.g. *car*, *fuel*"
   ]
  },
  {
   "cell_type": "markdown",
   "metadata": {
    "slideshow": {
     "slide_type": "fragment"
    }
   },
   "source": [
    "- Thesaurus-based similarity\n",
    "    - words have similar definitions (Lesk)\n",
    "    - words are close to each other in hypernym hierarchy (graph-based)\n",
    "- Distributional similarity\n",
    "    - do words apprear in similar distributional contexts\n",
    "    - __distributional (vector) semantics__"
   ]
  },
  {
   "cell_type": "markdown",
   "metadata": {},
   "source": [
    "Compute the similarity between *dime* and *nickel* and between *nickel* and *credit card*: \n",
    "\n",
    "![](https://i.postimg.cc/tJn0NMgm/Screenshot-2023-01-03-at-10-26-20.png)\n",
    "\n",
    "[*Original source (Resnik, 1995)*](https://arxiv.org/pdf/cmp-lg/9511007)"
   ]
  },
  {
   "cell_type": "markdown",
   "metadata": {
    "slideshow": {
     "slide_type": "slide"
    }
   },
   "source": [
    "#### 4.1.2. Path-based Similarity\n",
    "\n",
    "Two concepts (senses/synsets) are similar if they are near each other in the thesaurus hierarchy\n",
    "- have a __short path__ between them (1 + number of edges between nodes)\n",
    "- path to themselves has distance `1`"
   ]
  },
  {
   "cell_type": "markdown",
   "metadata": {
    "slideshow": {
     "slide_type": "fragment"
    }
   },
   "source": [
    "##### NLTK Path Based Metrics\n",
    "\n",
    "- `synset1.path_similarity(synset2)`: Return a score denoting how similar two word senses are, based on the __shortest path__ that connects the senses in the is-a (hypernym/hypnoym) taxonomy. The score is in the range 0 to 1, computed as `1/path_length`\n",
    "- `synset1.lch_similarity(synset2)`: __Leacock-Chodorow Similarity__: Return a score denoting how similar two word senses are, based on the shortest path that connects the senses and the maximum depth of the taxonomy in which the senses occur. The relationship is given as `-log(p/2d)` where `p` is the shortest path length and `d` the taxonomy depth.\n",
    "- `synset1.wup_similarity(synset2)`: __Wu-Palmer Similarity__: Return a score denoting how similar two word senses are, based on the depth of the two senses in the taxonomy and that of their __Least Common Subsumer__ (most specific ancestor node)."
   ]
  },
  {
   "cell_type": "code",
   "execution_count": 35,
   "metadata": {
    "slideshow": {
     "slide_type": "slide"
    },
    "ExecuteTime": {
     "end_time": "2023-06-07T01:59:57.995583200Z",
     "start_time": "2023-06-07T01:59:57.984060800Z"
    }
   },
   "outputs": [
    {
     "name": "stdout",
     "output_type": "stream",
     "text": [
      "a large natural stream of water (larger than a creek)\n",
      "sloping land (especially the slope beside a body of water)\n",
      "a financial institution that accepts deposits and channels the money into lending activities\n",
      "an educational institution\n",
      "0.1111111111111111\n",
      "0.07692307692307693\n",
      "0.2\n"
     ]
    }
   ],
   "source": [
    "bank_r = wordnet.synsets('bank')[0]\n",
    "bank_f = wordnet.synsets('bank')[1]\n",
    "river = wordnet.synsets('river')[0]\n",
    "school = wordnet.synsets('school')[0]\n",
    "\n",
    "print(river.definition())\n",
    "print(bank_r.definition())\n",
    "print(bank_f.definition())\n",
    "print(school.definition())\n",
    "\n",
    "print(bank_r.path_similarity(river))\n",
    "print(bank_f.path_similarity(river))\n",
    "\n",
    "print(bank_f.path_similarity(school))"
   ]
  },
  {
   "cell_type": "code",
   "execution_count": 36,
   "metadata": {
    "slideshow": {
     "slide_type": "slide"
    },
    "ExecuteTime": {
     "end_time": "2023-06-07T02:00:07.147263500Z",
     "start_time": "2023-06-07T01:59:58.726643800Z"
    }
   },
   "outputs": [
    {
     "name": "stdout",
     "output_type": "stream",
     "text": [
      "1.4403615823901665\n",
      "1.072636802264849\n",
      "2.0281482472922856\n",
      "0.3333333333333333\n",
      "0.14285714285714285\n",
      "0.75\n"
     ]
    }
   ],
   "source": [
    "print(bank_r.lch_similarity(river))\n",
    "print(bank_f.lch_similarity(river))\n",
    "print(bank_f.lch_similarity(school))\n",
    "\n",
    "print(bank_r.wup_similarity(river))\n",
    "print(bank_f.wup_similarity(river))\n",
    "print(bank_f.wup_similarity(school))"
   ]
  },
  {
   "cell_type": "markdown",
   "metadata": {
    "slideshow": {
     "slide_type": "slide"
    }
   },
   "source": [
    "#### 4.1.3. Information Content Similarity\n",
    "\n",
    "- Path-based similarity issues\n",
    "    - each edge is has equal distance; however nodes high in hierarchy are more abstract\n",
    "- Better metric\n",
    "    - each edge has independent cost\n",
    "    - nodes connected through higher-level (abstract) nodes are less similar"
   ]
  },
  {
   "cell_type": "markdown",
   "metadata": {
    "slideshow": {
     "slide_type": "slide"
    }
   },
   "source": [
    "##### Information Content\n",
    "- Trained on a corpus\n",
    "- `P(c)` the probability of a concept `c` in a corpus\n",
    "    $$ P(c) = \\frac{\\sum_{w \\in \\text{words}(c)}\\text{count}(c)}{N}$$\n",
    "    where $\\text{words}(c)$ is set of all words that are children of concept $c$. $N$ is the total number of nouns observed. \n",
    "- All words are members of the root node (e.g. `Entity`); thus, `P(root) = 1`\n",
    "    - In NLTK it is the opposite P(root) = 0\n",
    "- The lower a node in hierarchy, the lower its probability\n",
    "\n",
    "- Information Content $$IC(c) = -log(P(c))$$\n",
    "- Most Informative Subsumer (Lowest Common Subsumer) $LCS(c_1, c_2)$ is the lowest node in the hierarchy subsuming both $c_1$ and $c_2$\n",
    "\n",
    "If you are further interested in this you should read the paper of [Resnik](https://arxiv.org/pdf/cmp-lg/9511007)"
   ]
  },
  {
   "cell_type": "markdown",
   "metadata": {
    "slideshow": {
     "slide_type": "slide"
    }
   },
   "source": [
    "##### NLTK Information Content Based Metrics\n",
    "(In NLTK the higher the better)\n",
    "- `res_similarity(other, ic)`: __Resnik Similarity__: Return a score denoting how similar two word senses are, based on the Information Content (IC) of the Least Common Subsumer (most specific ancestor node). Computed as `IC(lcs) = -log(P(lcs))`.\n",
    "- `lin_similarity(other, ic)`: __Lin Similarity__: Return a score denoting how similar two word senses are, based on the Information Content (IC) of the Least Common Subsumer (most specific ancestor node) and that of the two input Synsets. The relationship is given by the equation `2 * IC(lcs) / (IC(s1) + IC(s2))`.\n",
    "- `jcn_similarity(other, ic)`: __Jiang-Conrath Similarity__: Return a score denoting how similar two word senses are, based on the Information Content (IC) of the Least Common Subsumer (most specific ancestor node) and that of the two input Synsets. The relationship is given by the equation `1 / (IC(s1) + IC(s2) - 2 * IC(lcs))`."
   ]
  },
  {
   "cell_type": "code",
   "execution_count": 37,
   "metadata": {
    "slideshow": {
     "slide_type": "slide"
    },
    "ExecuteTime": {
     "end_time": "2023-06-07T02:00:07.428602200Z",
     "start_time": "2023-06-07T02:00:07.150261900Z"
    }
   },
   "outputs": [
    {
     "name": "stderr",
     "output_type": "stream",
     "text": [
      "[nltk_data] Downloading package wordnet_ic to\n",
      "[nltk_data]     C:\\Users\\adnan\\AppData\\Roaming\\nltk_data...\n",
      "[nltk_data]   Package wordnet_ic is already up-to-date!\n"
     ]
    }
   ],
   "source": [
    "# getting pre-computed ic of the semcor corpus (large sense tagged corpus)\n",
    "from nltk.corpus import wordnet_ic\n",
    "nltk.download('wordnet_ic')\n",
    "semcor_ic = wordnet_ic.ic('ic-semcor.dat')"
   ]
  },
  {
   "cell_type": "code",
   "execution_count": 38,
   "metadata": {
    "slideshow": {
     "slide_type": "fragment"
    },
    "ExecuteTime": {
     "end_time": "2023-06-07T02:00:07.440250Z",
     "start_time": "2023-06-07T02:00:07.416167300Z"
    }
   },
   "outputs": [
    {
     "name": "stdout",
     "output_type": "stream",
     "text": [
      "0.6143639493869085\n",
      "-0.0\n",
      "5.615157080198295\n"
     ]
    }
   ],
   "source": [
    "print(bank_r.res_similarity(river, semcor_ic))\n",
    "print(bank_f.res_similarity(river, semcor_ic))\n",
    "print(bank_f.res_similarity(school, semcor_ic))"
   ]
  },
  {
   "cell_type": "code",
   "execution_count": 39,
   "metadata": {
    "slideshow": {
     "slide_type": "fragment"
    },
    "ExecuteTime": {
     "end_time": "2023-06-07T02:00:07.450251100Z",
     "start_time": "2023-06-07T02:00:07.432250300Z"
    }
   },
   "outputs": [
    {
     "name": "stdout",
     "output_type": "stream",
     "text": [
      "1.0\n",
      "-0.0\n",
      "0.7396184443246285\n"
     ]
    }
   ],
   "source": [
    "print(bank_r.lin_similarity(bank_r, semcor_ic))\n",
    "print(bank_f.lin_similarity(river, semcor_ic))\n",
    "print(bank_f.lin_similarity(school, semcor_ic))"
   ]
  },
  {
   "cell_type": "code",
   "execution_count": 40,
   "metadata": {
    "slideshow": {
     "slide_type": "fragment"
    },
    "ExecuteTime": {
     "end_time": "2023-06-07T02:00:07.506250500Z",
     "start_time": "2023-06-07T02:00:07.449249900Z"
    }
   },
   "outputs": [
    {
     "name": "stdout",
     "output_type": "stream",
     "text": [
      "1e+300\n",
      "0.06248754962684728\n",
      "0.25293306686500316\n"
     ]
    }
   ],
   "source": [
    "print(bank_r.jcn_similarity(bank_r, semcor_ic))\n",
    "print(bank_f.jcn_similarity(river, semcor_ic))\n",
    "print(bank_f.jcn_similarity(school, semcor_ic))"
   ]
  },
  {
   "cell_type": "markdown",
   "metadata": {
    "slideshow": {
     "slide_type": "slide"
    }
   },
   "source": [
    "### Exercise\n",
    "Extend Lesk algorithm (function) to use similarity metrics instead of just overlaps\n",
    "- make it a keyword argument to allow different metrics"
   ]
  },
  {
   "cell_type": "markdown",
   "source": [
    "## Implementation of Previous Lesk algorithm (function) to use similarity metrics instead of just overlaps"
   ],
   "metadata": {
    "collapsed": false
   }
  },
  {
   "cell_type": "code",
   "execution_count": 41,
   "metadata": {
    "ExecuteTime": {
     "end_time": "2023-06-07T02:00:10.658318300Z",
     "start_time": "2023-06-07T02:00:10.406307Z"
    }
   },
   "outputs": [],
   "source": [
    "semcor_ic = wordnet_ic.ic('ic-semcor.dat')\n",
    "def get_top_sense_sim(context_sense, sense_list, similarity):\n",
    "    # get top sense from the list of sense-definition tuples\n",
    "    # assumes that words and definitions are preprocessed identically\n",
    "    scores = []\n",
    "    for sense in sense_list:\n",
    "        ss = sense[0]\n",
    "        if similarity == \"path\":\n",
    "            try:\n",
    "                scores.append((context_sense.path_similarity(ss), ss))\n",
    "            except:\n",
    "                scores.append((0, ss))\n",
    "        elif similarity == \"lch\":\n",
    "            try:\n",
    "                scores.append((context_sense.lch_similarity(ss), ss))\n",
    "            except:\n",
    "                scores.append((0, ss))\n",
    "        elif similarity == \"wup\":\n",
    "            try:\n",
    "                scores.append((context_sense.wup_similarity(ss), ss))\n",
    "            except:\n",
    "                scores.append((0, ss))\n",
    "        elif similarity == \"resnik\":\n",
    "            try:\n",
    "                scores.append((context_sense.res_similarity(ss, semcor_ic), ss))\n",
    "            except:\n",
    "                scores.append((0, ss))\n",
    "        elif similarity == \"lin\":\n",
    "            try:\n",
    "                scores.append((context_sense.lin_similarity(ss, semcor_ic), ss))\n",
    "            except:\n",
    "                scores.append((0, ss))\n",
    "        elif similarity == \"jiang\":\n",
    "            try:\n",
    "                scores.append((context_sense.jcn_similarity(ss, semcor_ic), ss))\n",
    "            except:\n",
    "                scores.append((0, ss))\n",
    "        else:\n",
    "            print(\"Similarity metric not found\")\n",
    "            return None\n",
    "    val, sense = max(scores)\n",
    "    return val, sense\n",
    "\n",
    "def lesk_similarity(context_sentence, ambiguous_word, similarity=\"resnik\", pos=None,\n",
    "                    synsets=None, majority=True):\n",
    "    context_senses = get_sense_definitions(set(context_sentence) - set([ambiguous_word]))\n",
    "\n",
    "    if synsets is None:\n",
    "        synsets = get_sense_definitions(ambiguous_word)[0][1]\n",
    "\n",
    "    if pos:\n",
    "        synsets = [ss for ss in synsets if str(ss[0].pos()) == pos]\n",
    "\n",
    "    if not synsets:\n",
    "        return None\n",
    "\n",
    "    scores = []\n",
    "\n",
    "    # Here you may have some room for improvement\n",
    "    # For instance instead of using all the definitions from the context\n",
    "    # you pick the most common one of each word (i.e. the first)\n",
    "    for senses in context_senses:\n",
    "        for sense in senses[1]:\n",
    "            scores.append(get_top_sense_sim(sense[0], synsets, similarity))\n",
    "\n",
    "    if len(scores) == 0:\n",
    "        return synsets[0][0]\n",
    "\n",
    "    if majority:\n",
    "        filtered_scores = [x[1] for x in scores if x[0] != 0]\n",
    "        if len(filtered_scores) > 0:\n",
    "            best_sense = Counter(filtered_scores).most_common(1)[0][0]\n",
    "        else:\n",
    "            # Almost random selection\n",
    "            best_sense = Counter([x[1] for x in scores]).most_common(1)[0][0]\n",
    "    else:\n",
    "        _, best_sense = max(scores)\n",
    "\n",
    "    return best_sense\n",
    "\n",
    "def pedersen(context_sentence, ambiguous_word, similarity=\"resnik\", pos=None,\n",
    "                    synsets=None, threshold=0.1):\n",
    "\n",
    "    context_senses = get_sense_definitions(set(context_sentence) - set([ambiguous_word]))\n",
    "\n",
    "    if synsets is None:\n",
    "        synsets = get_sense_definitions(ambiguous_word)[0][1]\n",
    "\n",
    "    if pos:\n",
    "        synsets = [ss for ss in synsets if str(ss[0].pos()) == pos]\n",
    "\n",
    "    if not synsets:\n",
    "        return None\n",
    "\n",
    "    synsets_scores = {}\n",
    "    for ss_tup in synsets:\n",
    "        ss = ss_tup[0]\n",
    "        if ss not in synsets_scores:\n",
    "            synsets_scores[ss] = 0\n",
    "        for senses in context_senses:\n",
    "            scores = []\n",
    "            for sense in senses[1]:\n",
    "                if similarity == \"path\":\n",
    "                    try:\n",
    "                        scores.append((sense[0].path_similarity(ss), ss))\n",
    "                    except:\n",
    "                        scores.append((0, ss))\n",
    "                elif similarity == \"lch\":\n",
    "                    try:\n",
    "                        scores.append((sense[0].lch_similarity(ss), ss))\n",
    "                    except:\n",
    "                        scores.append((0, ss))\n",
    "                elif similarity == \"wup\":\n",
    "                    try:\n",
    "                        scores.append((sense[0].wup_similarity(ss), ss))\n",
    "                    except:\n",
    "                        scores.append((0, ss))\n",
    "                elif similarity == \"resnik\":\n",
    "                    try:\n",
    "                        scores.append((sense[0].res_similarity(ss, semcor_ic), ss))\n",
    "                    except:\n",
    "                        scores.append((0, ss))\n",
    "                elif similarity == \"lin\":\n",
    "                    try:\n",
    "                        scores.append((sense[0].lin_similarity(ss, semcor_ic), ss))\n",
    "                    except:\n",
    "                        scores.append((0, ss))\n",
    "                elif similarity == \"jiang\":\n",
    "                    try:\n",
    "                        scores.append((sense[0].jcn_similarity(ss, semcor_ic), ss))\n",
    "                    except:\n",
    "                        scores.append((0, ss))\n",
    "                else:\n",
    "                    print(\"Similarity metric not found\")\n",
    "                    return None\n",
    "            value, sense = max(scores)\n",
    "            if value > threshold:\n",
    "                synsets_scores[sense] = synsets_scores[sense] + value\n",
    "\n",
    "    values = list(synsets_scores.values())\n",
    "    if sum(values) == 0:\n",
    "        print('Warning all the scores are 0')\n",
    "    senses = list(synsets_scores.keys())\n",
    "    best_sense_id = values.index(max(values))\n",
    "    return senses[best_sense_id]"
   ]
  },
  {
   "cell_type": "code",
   "execution_count": 42,
   "metadata": {
    "ExecuteTime": {
     "end_time": "2023-06-07T02:00:11.428632200Z",
     "start_time": "2023-06-07T02:00:11.276119400Z"
    }
   },
   "outputs": [
    {
     "name": "stdout",
     "output_type": "stream",
     "text": [
      "Original lesk Synset('bank.n.01') sloping land (especially the slope beside a body of water)\n",
      "Symplified lesk Synset('bank.n.01') sloping land (especially the slope beside a body of water)\n",
      "Graph-based lesk Synset('bank.n.06') the funds held by a gambling house or the dealer in some gambling games\n",
      "Pedersen Synset('bank.n.01') sloping land (especially the slope beside a body of water)\n"
     ]
    }
   ],
   "source": [
    "text = \"Jane sat on the sloping bank of a river beside the water\".split()\n",
    "word = \"bank\"\n",
    "sense = original_lesk(text, word, majority=True)\n",
    "print('Original lesk', sense, sense.definition())\n",
    "sense = lesk(text, word)\n",
    "print('Symplified lesk', sense, sense.definition())\n",
    "sense = lesk_similarity(text, word, \"resnik\")\n",
    "print('Graph-based lesk', sense, sense.definition())\n",
    "sense = pedersen(text, word, similarity=\"path\", threshold=0.1)\n",
    "print(\"Pedersen\", sense, sense.definition())"
   ]
  },
  {
   "cell_type": "markdown",
   "metadata": {
    "slideshow": {
     "slide_type": "slide"
    }
   },
   "source": [
    "## 5. Evaluation on Senseval 2"
   ]
  },
  {
   "cell_type": "markdown",
   "metadata": {
    "slideshow": {
     "slide_type": "slide"
    }
   },
   "source": [
    "### 5.1. Senseval Corpus\n",
    "The Senseval 2 Corpus contains data intended to train word-sense disambiguation classifiers. \n",
    "It contains data for four words: `hard`, `interest`, `line`, and `serve`. Let's use `interest` portion to illustrate evaluation."
   ]
  },
  {
   "cell_type": "code",
   "execution_count": 43,
   "metadata": {
    "slideshow": {
     "slide_type": "fragment"
    },
    "ExecuteTime": {
     "end_time": "2023-06-07T02:00:13.932260700Z",
     "start_time": "2023-06-07T02:00:13.909262700Z"
    }
   },
   "outputs": [
    {
     "name": "stderr",
     "output_type": "stream",
     "text": [
      "[nltk_data] Downloading package senseval to\n",
      "[nltk_data]     C:\\Users\\adnan\\AppData\\Roaming\\nltk_data...\n",
      "[nltk_data]   Package senseval is already up-to-date!\n"
     ]
    },
    {
     "data": {
      "text/plain": "True"
     },
     "execution_count": 43,
     "metadata": {},
     "output_type": "execute_result"
    }
   ],
   "source": [
    "nltk.download('senseval')"
   ]
  },
  {
   "cell_type": "markdown",
   "metadata": {
    "slideshow": {
     "slide_type": "fragment"
    }
   },
   "source": [
    "Corpus instances are stored as:\n",
    "- `context` - POS-tagged context sentence\n",
    "- `position` - index of the target word in a context sentence\n",
    "- `senses` - labels"
   ]
  },
  {
   "cell_type": "code",
   "execution_count": 44,
   "metadata": {
    "slideshow": {
     "slide_type": "slide"
    },
    "ExecuteTime": {
     "end_time": "2023-06-07T02:00:15.765049200Z",
     "start_time": "2023-06-07T02:00:15.668052300Z"
    }
   },
   "outputs": [
    {
     "name": "stdout",
     "output_type": "stream",
     "text": [
      "18 [('yields', 'NNS'), ('on', 'IN'), ('money-market', 'JJ'), ('mutual', 'JJ'), ('funds', 'NNS'), ('continued', 'VBD'), ('to', 'TO'), ('slide', 'VB'), (',', ','), ('amid', 'IN'), ('signs', 'VBZ'), ('that', 'IN'), ('portfolio', 'NN'), ('managers', 'NNS'), ('expect', 'VBP'), ('further', 'JJ'), ('declines', 'NNS'), ('in', 'IN'), ('interest', 'NN'), ('rates', 'NNS'), ('.', '.')] ('interest_6',)\n"
     ]
    }
   ],
   "source": [
    "from nltk.corpus import senseval\n",
    "\n",
    "inst = senseval.instances('interest.pos')[0]\n",
    "\n",
    "print(inst.position, inst.context, inst.senses)"
   ]
  },
  {
   "cell_type": "markdown",
   "metadata": {
    "slideshow": {
     "slide_type": "slide"
    }
   },
   "source": [
    "#### 5.1.1. Mapping Senseval Senses to WordNet\n",
    "\n",
    "Senseval labels are not compatible with WordNet 3.0; thus, let's manually create a mapping.\n",
    "\n",
    "__Senses for *interest* in Longman Dictionary__\n",
    "- Sense 1 =  361 occurrences (15%) - readiness to give attention\n",
    "- Sense 2 =   11 occurrences (01%) - quality of causing attention to be given to\n",
    "- Sense 3 =   66 occurrences (03%) - activity, etc. that one gives attention to\n",
    "- Sense 4 =  178 occurrences (08%) - advantage, advancement or favor\n",
    "- Sense 5 =  500 occurrences (21%) - a share in a company or business\n",
    "- Sense 6 = 1252 occurrences (53%) - money paid for the use of money"
   ]
  },
  {
   "cell_type": "code",
   "execution_count": 45,
   "metadata": {
    "scrolled": true,
    "slideshow": {
     "slide_type": "slide"
    },
    "ExecuteTime": {
     "end_time": "2023-06-07T02:00:17.782037900Z",
     "start_time": "2023-06-07T02:00:17.709039200Z"
    }
   },
   "outputs": [
    {
     "name": "stdout",
     "output_type": "stream",
     "text": [
      "Synset('interest.n.01') a sense of concern with and curiosity about someone or something\n",
      "Synset('sake.n.01') a reason for wanting something done\n",
      "Synset('interest.n.03') the power of attracting or holding one's attention (because it is unusual or exciting etc.)\n",
      "Synset('interest.n.04') a fixed charge for borrowing money; usually a percentage of the amount borrowed\n",
      "Synset('interest.n.05') (law) a right or legal share of something; a financial involvement with something\n",
      "Synset('interest.n.06') (usually plural) a social group whose members control some field of activity and who have common aims\n",
      "Synset('pastime.n.01') a diversion that occupies one's time and thoughts (usually pleasantly)\n"
     ]
    }
   ],
   "source": [
    "# definitions of \"interest\"'s synsets in WordNet\n",
    "iss = wordnet.synsets('interest', pos='n')\n",
    "for ss in iss:\n",
    "    print(ss, ss.definition())\n",
    "    "
   ]
  },
  {
   "cell_type": "code",
   "execution_count": 46,
   "metadata": {
    "slideshow": {
     "slide_type": "fragment"
    },
    "ExecuteTime": {
     "end_time": "2023-06-07T02:00:18.557712500Z",
     "start_time": "2023-06-07T02:00:18.528715900Z"
    }
   },
   "outputs": [],
   "source": [
    "# Let's create mapping from convenience\n",
    "mapping = {\n",
    "    'interest_1': 'interest.n.01',\n",
    "    'interest_2': 'interest.n.03',\n",
    "    'interest_3': 'pastime.n.01',\n",
    "    'interest_4': 'sake.n.01',\n",
    "    'interest_5': 'interest.n.05',\n",
    "    'interest_6': 'interest.n.04',\n",
    "}"
   ]
  },
  {
   "cell_type": "markdown",
   "metadata": {
    "slideshow": {
     "slide_type": "slide"
    }
   },
   "source": [
    "#### 5.1.2. Evaluation\n",
    "\n",
    "- Let's use accuracy for simplicity\n",
    "- Also demonstrating per-class precision, recall, and f-measure"
   ]
  },
  {
   "cell_type": "code",
   "execution_count": 47,
   "metadata": {
    "scrolled": true,
    "slideshow": {
     "slide_type": "slide"
    },
    "ExecuteTime": {
     "end_time": "2023-06-07T02:00:23.402517800Z",
     "start_time": "2023-06-07T02:00:20.280052100Z"
    }
   },
   "outputs": [
    {
     "name": "stdout",
     "output_type": "stream",
     "text": [
      "Acc: 0.257\n",
      "interest.n.01  : p=0.137; r=0.083; f=0.137; s=361\n",
      "interest.n.03  : p=0.003; r=0.091; f=0.003; s=11\n",
      "pastime.n.01   : p=0.028; r=0.242; f=0.028; s=66\n",
      "sake.n.01      : p=0.059; r=0.062; f=0.059; s=178\n",
      "interest.n.05  : p=0.286; r=0.104; f=0.286; s=500\n",
      "interest.n.04  : p=0.547; r=0.399; f=0.547; s=1252\n"
     ]
    }
   ],
   "source": [
    "from nltk.metrics.scores import precision, recall, f_measure, accuracy\n",
    "\n",
    "refs = {k: set() for k in mapping.values()}\n",
    "hyps = {k: set() for k in mapping.values()}\n",
    "refs_list = []\n",
    "hyps_list = []\n",
    "\n",
    "# since WordNet defines more senses, let's restrict predictions\n",
    "synsets = [ss for ss in wordnet.synsets('interest', pos='n') if ss.name() in mapping.values()]\n",
    "\n",
    "for i, inst in enumerate(senseval.instances('interest.pos')):\n",
    "    txt = [t[0] for t in inst.context]\n",
    "    raw_ref = inst.senses[0] # let's get first sense\n",
    "    hyp = lesk(txt, txt[inst.position], synsets=synsets).name()\n",
    "    \n",
    "    ref = mapping.get(raw_ref)\n",
    "    \n",
    "    # for precision, recall, f-measure        \n",
    "    refs[ref].add(i)\n",
    "    hyps[hyp].add(i)\n",
    "    \n",
    "    # for accuracy\n",
    "    refs_list.append(ref)\n",
    "    hyps_list.append(hyp)\n",
    "\n",
    "print(\"Acc:\", round(accuracy(refs_list, hyps_list), 3))\n",
    "\n",
    "for cls in hyps.keys():\n",
    "    p = precision(refs[cls], hyps[cls])\n",
    "    r = recall(refs[cls], hyps[cls])\n",
    "    f = f_measure(refs[cls], hyps[cls], alpha=1)\n",
    "    \n",
    "    print(\"{:15s}: p={:.3f}; r={:.3f}; f={:.3f}; s={}\".format(cls, p, r, f, len(refs[cls])))"
   ]
  },
  {
   "cell_type": "markdown",
   "metadata": {
    "slideshow": {
     "slide_type": "slide"
    }
   },
   "source": [
    "### Exercise\n",
    "- Evaluate Original Lesk (your implementation on Senseval's `interest`)\n",
    "- You can also easily evalutate Lesk similarity that we have seen before"
   ]
  },
  {
   "cell_type": "code",
   "execution_count": 48,
   "metadata": {
    "slideshow": {
     "slide_type": "skip"
    },
    "ExecuteTime": {
     "end_time": "2023-06-07T02:04:14.119074700Z",
     "start_time": "2023-06-07T02:00:26.059803700Z"
    }
   },
   "outputs": [
    {
     "name": "stdout",
     "output_type": "stream",
     "text": [
      "Acc: 0.288\n",
      "interest.n.01  : p=0.203; r=0.072; f=0.203; s=361\n",
      "interest.n.03  : p=0.000; r=0.000; f=0.000; s=11\n",
      "pastime.n.01   : p=0.018; r=0.152; f=0.018; s=66\n",
      "sake.n.01      : p=0.106; r=0.517; f=0.106; s=178\n",
      "interest.n.05  : p=0.292; r=0.066; f=0.292; s=500\n",
      "interest.n.04  : p=0.877; r=0.415; f=0.877; s=1252\n"
     ]
    }
   ],
   "source": [
    "from nltk.metrics.scores import precision, recall, f_measure, accuracy\n",
    "\n",
    "refs = {k: set() for k in mapping.values()}\n",
    "hyps = {k: set() for k in mapping.values()}\n",
    "refs_list = []\n",
    "hyps_list = []\n",
    "\n",
    "# since WordNet defines more senses, let's restrict predictions\n",
    "\n",
    "synsets = []\n",
    "for ss in wordnet.synsets('interest', pos='n'):\n",
    "    if ss.name() in mapping.values():\n",
    "        defn = ss.definition()\n",
    "        tags = preprocess(defn)\n",
    "        toks = [l for w, l, p in tags]\n",
    "        synsets.append((ss,toks))\n",
    "\n",
    "for i, inst in enumerate(senseval.instances('interest.pos')):\n",
    "    txt = [t[0] for t in inst.context]\n",
    "    raw_ref = inst.senses[0] # let's get first sense\n",
    "    hyp = original_lesk(txt, txt[inst.position], synsets=synsets, majority=True).name()\n",
    "    ref = mapping.get(raw_ref)\n",
    "    \n",
    "    # for precision, recall, f-measure        \n",
    "    refs[ref].add(i)\n",
    "    hyps[hyp].add(i)\n",
    "    \n",
    "    # for accuracy\n",
    "    refs_list.append(ref)\n",
    "    hyps_list.append(hyp)\n",
    "\n",
    "print(\"Acc:\", round(accuracy(refs_list, hyps_list), 3))\n",
    "\n",
    "for cls in hyps.keys():\n",
    "    p = precision(refs[cls], hyps[cls])\n",
    "    r = recall(refs[cls], hyps[cls])\n",
    "    f = f_measure(refs[cls], hyps[cls], alpha=1)\n",
    "    \n",
    "    print(\"{:15s}: p={:.3f}; r={:.3f}; f={:.3f}; s={}\".format(cls, p, r, f, len(refs[cls])))"
   ]
  },
  {
   "cell_type": "markdown",
   "metadata": {
    "slideshow": {
     "slide_type": "slide"
    }
   },
   "source": [
    "## 6. Supervised Learning for WSD"
   ]
  },
  {
   "cell_type": "markdown",
   "metadata": {
    "slideshow": {
     "slide_type": "slide"
    }
   },
   "source": [
    "### 6.1. Features for WSD\n",
    "- Bag-of-Words (already covered)\n",
    "- Collocational features"
   ]
  },
  {
   "cell_type": "markdown",
   "metadata": {
    "slideshow": {
     "slide_type": "slide"
    }
   },
   "source": [
    "#### 6.1.1. Bag-of-Words (BOW) Classification (recap)"
   ]
  },
  {
   "cell_type": "code",
   "execution_count": 49,
   "metadata": {
    "slideshow": {
     "slide_type": "fragment"
    },
    "ExecuteTime": {
     "end_time": "2023-06-07T02:04:16.027171300Z",
     "start_time": "2023-06-07T02:04:14.121062400Z"
    }
   },
   "outputs": [
    {
     "name": "stdout",
     "output_type": "stream",
     "text": [
      "yields on money-market mutual funds continued to slide , amid signs that portfolio managers expect further declines in interest rates .\n",
      "interest_6\n"
     ]
    }
   ],
   "source": [
    "from sklearn.naive_bayes import MultinomialNB\n",
    "from sklearn.feature_extraction.text import CountVectorizer\n",
    "from sklearn.preprocessing import LabelEncoder\n",
    "from sklearn.model_selection import cross_validate\n",
    "from sklearn.metrics import classification_report\n",
    "from sklearn.model_selection import StratifiedKFold\n",
    "\n",
    "data = [\" \".join([t[0] for t in inst.context]) for inst in senseval.instances('interest.pos')]\n",
    "lbls = [inst.senses[0] for inst in senseval.instances('interest.pos')]\n",
    "\n",
    "print(data[0])\n",
    "print(lbls[0])\n"
   ]
  },
  {
   "cell_type": "code",
   "execution_count": 50,
   "metadata": {
    "slideshow": {
     "slide_type": "slide"
    },
    "ExecuteTime": {
     "end_time": "2023-06-07T02:04:16.163673100Z",
     "start_time": "2023-06-07T02:04:16.034156700Z"
    }
   },
   "outputs": [
    {
     "name": "stdout",
     "output_type": "stream",
     "text": [
      "0.8184217803587837\n"
     ]
    }
   ],
   "source": [
    "vectorizer = CountVectorizer()\n",
    "classifier = MultinomialNB()\n",
    "lblencoder = LabelEncoder()\n",
    "\n",
    "stratified_split = StratifiedKFold(n_splits=5, shuffle=True)\n",
    "\n",
    "vectors = vectorizer.fit_transform(data)\n",
    "\n",
    "# encoding labels for multi-calss\n",
    "lblencoder.fit(lbls)\n",
    "labels = lblencoder.transform(lbls)\n",
    "\n",
    "scores = cross_validate(classifier, vectors, labels, cv=stratified_split, scoring=['f1_micro'])\n",
    "\n",
    "print(sum(scores['test_f1_micro'])/len(scores['test_f1_micro']))"
   ]
  },
  {
   "cell_type": "markdown",
   "metadata": {
    "slideshow": {
     "slide_type": "slide"
    }
   },
   "source": [
    "#### 6.1.2. Collocational Features\n",
    "- Assume +/-n words window from target\n",
    "\n",
    "e.g. n=2\n",
    "\n",
    "`... managers expect further [declines in] [interest] [rates .]`\n",
    "\n",
    "- $w_{-1}$ : `declines`\n",
    "- $w_{-2}$ : `in`\n",
    "- $w_0$ __target__ : `interest`\n",
    "- $w_{+1}$ : `rates`\n",
    "- $w_{+2}$ : `.`\n",
    "\n",
    "- POS-tags of these words\n",
    "- word ngrams in window +/-3 are common\n",
    "    - ngram(-3): declines in interest\n",
    "    - ngram(-2): in interest\n",
    "    - ngram(1): interest\n",
    "    - ngram(2): interest rates\n",
    "    - ngram(3): interest rates .\n"
   ]
  },
  {
   "cell_type": "markdown",
   "metadata": {
    "slideshow": {
     "slide_type": "fragment"
    }
   },
   "source": [
    "##### Using Collocational Features in scikit-learn\n",
    "- represent features as dict\n",
    "- use `DictVectorizer`"
   ]
  },
  {
   "cell_type": "code",
   "execution_count": 51,
   "metadata": {
    "slideshow": {
     "slide_type": "slide"
    },
    "ExecuteTime": {
     "end_time": "2023-06-07T02:04:16.206671200Z",
     "start_time": "2023-06-07T02:04:16.166674100Z"
    }
   },
   "outputs": [],
   "source": [
    "def collocational_features(inst):\n",
    "    p = inst.position\n",
    "    return {\n",
    "        \"w-2_word\": 'NULL' if p < 2 else inst.context[p-2][0],\n",
    "        \"w-1_word\": 'NULL' if p < 1 else inst.context[p-1][0],\n",
    "        \"w+1_word\": 'NULL' if len(inst.context) - 1 < p+1 else inst.context[p+1][0],\n",
    "        \"w+2_word\": 'NULL' if len(inst.context) - 1 < p+2 else inst.context[p+2][0]\n",
    "    }"
   ]
  },
  {
   "cell_type": "code",
   "execution_count": 52,
   "metadata": {
    "slideshow": {
     "slide_type": "fragment"
    },
    "ExecuteTime": {
     "end_time": "2023-06-07T02:04:17.152509500Z",
     "start_time": "2023-06-07T02:04:16.181675400Z"
    }
   },
   "outputs": [
    {
     "name": "stdout",
     "output_type": "stream",
     "text": [
      "{'w-2_word': 'declines', 'w-1_word': 'in', 'w+1_word': 'rates', 'w+2_word': '.'}\n"
     ]
    }
   ],
   "source": [
    "data_col = [collocational_features(inst) for inst in senseval.instances('interest.pos')]\n",
    "print(data_col[0])"
   ]
  },
  {
   "cell_type": "code",
   "execution_count": 53,
   "metadata": {
    "slideshow": {
     "slide_type": "slide"
    },
    "ExecuteTime": {
     "end_time": "2023-06-07T02:04:17.391035400Z",
     "start_time": "2023-06-07T02:04:17.154512200Z"
    }
   },
   "outputs": [
    {
     "name": "stdout",
     "output_type": "stream",
     "text": [
      "0.8652795247143201\n"
     ]
    }
   ],
   "source": [
    "from sklearn.feature_extraction import DictVectorizer\n",
    "dvectorizer = DictVectorizer(sparse=False)\n",
    "dvectors = dvectorizer.fit_transform(data_col)\n",
    "\n",
    "scores = cross_validate(classifier, dvectors, labels, cv=stratified_split, scoring=['f1_micro'])\n",
    "\n",
    "print(sum(scores['test_f1_micro'])/len(scores['test_f1_micro']))"
   ]
  },
  {
   "cell_type": "markdown",
   "metadata": {
    "slideshow": {
     "slide_type": "slide"
    }
   },
   "source": [
    "#### 6.1.3. Concatenating Feature Vectors"
   ]
  },
  {
   "cell_type": "code",
   "execution_count": 54,
   "metadata": {
    "slideshow": {
     "slide_type": "fragment"
    },
    "ExecuteTime": {
     "end_time": "2023-06-07T02:04:17.590546800Z",
     "start_time": "2023-06-07T02:04:17.393030300Z"
    }
   },
   "outputs": [
    {
     "name": "stdout",
     "output_type": "stream",
     "text": [
      "(2368, 7033) <class 'scipy.sparse._csr.csr_matrix'>\n",
      "(2368, 2007) <class 'numpy.ndarray'>\n",
      "(2368, 9040) <class 'numpy.ndarray'>\n"
     ]
    }
   ],
   "source": [
    "import numpy as np\n",
    "\n",
    "# let's check shape's for sanity & types (for illustration)\n",
    "print(vectors.shape, type(vectors))\n",
    "print(dvectors.shape, type(dvectors))\n",
    "\n",
    "# types of CountVectorizer and DictVectorizer outputs are different \n",
    "# we need to convert them to the same format\n",
    "uvectors = np.concatenate((vectors.toarray(), dvectors), axis=1)\n",
    "\n",
    "print(uvectors.shape, type(uvectors))"
   ]
  },
  {
   "cell_type": "code",
   "execution_count": 55,
   "metadata": {
    "slideshow": {
     "slide_type": "slide"
    },
    "ExecuteTime": {
     "end_time": "2023-06-07T02:04:18.278165400Z",
     "start_time": "2023-06-07T02:04:17.591545100Z"
    }
   },
   "outputs": [
    {
     "name": "stdout",
     "output_type": "stream",
     "text": [
      "0.89821857075316\n"
     ]
    }
   ],
   "source": [
    "# cross-validating classifier the usual way\n",
    "scores = cross_validate(classifier, uvectors, labels, cv=stratified_split, scoring=['f1_micro'])\n",
    "\n",
    "print(sum(scores['test_f1_micro'])/len(scores['test_f1_micro']))"
   ]
  },
  {
   "cell_type": "markdown",
   "metadata": {
    "slideshow": {
     "slide_type": "slide"
    }
   },
   "source": [
    "## Lab Exercise\n",
    "**Same test set for all the experiments, you can use K-fold validation**\n",
    "\n",
    "- Extend collocational features with\n",
    "    - POS-tags\n",
    "    - Ngrams within window\n",
    "- Concatenate BOW and new collocational feature vectors & evaluate\n",
    "- Evaluate Lesk Original and Graph-based (Lesk Similarity or Pedersen) metrics on the same test split and compare"
   ]
  },
  {
   "cell_type": "markdown",
   "source": [
    "## Solution"
   ],
   "metadata": {
    "collapsed": false
   }
  },
  {
   "cell_type": "markdown",
   "source": [
    "### Import the libraries"
   ],
   "metadata": {
    "collapsed": false
   }
  },
  {
   "cell_type": "code",
   "execution_count": 53,
   "outputs": [],
   "source": [
    "from sklearn.naive_bayes import MultinomialNB\n",
    "from sklearn.feature_extraction.text import CountVectorizer\n",
    "from sklearn.preprocessing import LabelEncoder\n",
    "from sklearn.model_selection import cross_validate\n",
    "from sklearn.model_selection import StratifiedKFold\n",
    "import nltk\n",
    "from nltk.util import ngrams\n",
    "from nltk.corpus import senseval\n",
    "from sklearn.feature_extraction import DictVectorizer\n",
    "import numpy as np\n",
    "from nltk.corpus import stopwords\n",
    "from nltk.stem import WordNetLemmatizer\n",
    "from collections import Counter\n",
    "from nltk.corpus import wordnet_ic\n",
    "from sklearn.model_selection import KFold\n",
    "from sklearn.metrics import accuracy_score\n",
    "from sklearn.metrics import f1_score\n",
    "from sklearn.metrics import precision_score\n",
    "from sklearn.metrics import recall_score\n",
    "from nltk.corpus import wordnet"
   ],
   "metadata": {
    "collapsed": false,
    "ExecuteTime": {
     "end_time": "2023-06-09T01:20:19.445116700Z",
     "start_time": "2023-06-09T01:20:19.408081800Z"
    }
   }
  },
  {
   "cell_type": "code",
   "execution_count": 54,
   "outputs": [
    {
     "name": "stderr",
     "output_type": "stream",
     "text": [
      "[nltk_data] Downloading package senseval to\n",
      "[nltk_data]     C:\\Users\\adnan\\AppData\\Roaming\\nltk_data...\n",
      "[nltk_data]   Package senseval is already up-to-date!\n",
      "[nltk_data] Downloading package wordnet_ic to\n",
      "[nltk_data]     C:\\Users\\adnan\\AppData\\Roaming\\nltk_data...\n",
      "[nltk_data]   Package wordnet_ic is already up-to-date!\n"
     ]
    }
   ],
   "source": [
    "nltk.download('senseval')\n",
    "# getting pre-computed ic of the semcor corpus (large sense tagged corpus)\n",
    "nltk.download('wordnet_ic')\n",
    "semcor_ic = wordnet_ic.ic('ic-semcor.dat')"
   ],
   "metadata": {
    "collapsed": false,
    "ExecuteTime": {
     "end_time": "2023-06-09T01:20:20.381210800Z",
     "start_time": "2023-06-09T01:20:20.017844100Z"
    }
   }
  },
  {
   "cell_type": "markdown",
   "source": [
    "## Load data"
   ],
   "metadata": {
    "collapsed": false
   }
  },
  {
   "cell_type": "code",
   "execution_count": 55,
   "outputs": [
    {
     "name": "stdout",
     "output_type": "stream",
     "text": [
      "18 [('yields', 'NNS'), ('on', 'IN'), ('money-market', 'JJ'), ('mutual', 'JJ'), ('funds', 'NNS'), ('continued', 'VBD'), ('to', 'TO'), ('slide', 'VB'), (',', ','), ('amid', 'IN'), ('signs', 'VBZ'), ('that', 'IN'), ('portfolio', 'NN'), ('managers', 'NNS'), ('expect', 'VBP'), ('further', 'JJ'), ('declines', 'NNS'), ('in', 'IN'), ('interest', 'NN'), ('rates', 'NNS'), ('.', '.')] ('interest_6',)\n"
     ]
    }
   ],
   "source": [
    "inst = senseval.instances('interest.pos')[0]\n",
    "\n",
    "print(inst.position, inst.context, inst.senses)"
   ],
   "metadata": {
    "collapsed": false,
    "ExecuteTime": {
     "end_time": "2023-06-09T01:20:21.166209700Z",
     "start_time": "2023-06-09T01:20:21.148209500Z"
    }
   }
  },
  {
   "cell_type": "code",
   "execution_count": 56,
   "outputs": [
    {
     "name": "stdout",
     "output_type": "stream",
     "text": [
      "yields on money-market mutual funds continued to slide , amid signs that portfolio managers expect further declines in interest rates .\n",
      "interest_6\n"
     ]
    }
   ],
   "source": [
    "data = [\" \".join([t[0] for t in inst.context]) for inst in senseval.instances('interest.pos')]\n",
    "lbls = [inst.senses[0] for inst in senseval.instances('interest.pos')]\n",
    "\n",
    "print(data[0])\n",
    "print(lbls[0])"
   ],
   "metadata": {
    "collapsed": false,
    "ExecuteTime": {
     "end_time": "2023-06-09T01:20:24.488209Z",
     "start_time": "2023-06-09T01:20:21.727210200Z"
    }
   }
  },
  {
   "cell_type": "markdown",
   "source": [
    "## 1. Extend collocational features"
   ],
   "metadata": {
    "collapsed": false
   }
  },
  {
   "cell_type": "markdown",
   "source": [
    "### 1.1 Collocational Features\n",
    "   - Context Words\n",
    "   - POS-tags of these words\n",
    "   - word ngrams in window +/-3 are common"
   ],
   "metadata": {
    "collapsed": false
   }
  },
  {
   "cell_type": "code",
   "execution_count": 57,
   "outputs": [],
   "source": [
    "def extended_collocational_features(inst, ngram_range=3):\n",
    "    p = inst.position\n",
    "    features = {\n",
    "        \"w-2_word\": 'NULL' if p < 2 else inst.context[p-2][0],\n",
    "        \"w-1_word\": 'NULL' if p < 1 else inst.context[p-1][0],\n",
    "        \"w+1_word\": 'NULL' if len(inst.context) - 1 < p+1 else inst.context[p+1][0],\n",
    "        \"w+2_word\": 'NULL' if len(inst.context) - 1 < p+2 else inst.context[p+2][0],\n",
    "        \"w-2_tag\": 'NULL' if p < 2 else inst.context[p-2][1],\n",
    "        \"w-1_tag\": 'NULL' if p < 1 else inst.context[p-1][1],\n",
    "        \"w+1_tag\": 'NULL' if len(inst.context) - 1 < p+1 else inst.context[p+1][1],\n",
    "        \"w+2_tag\": 'NULL' if len(inst.context) - 1 < p+2 else inst.context[p+2][1],\n",
    "    }\n",
    "\n",
    "    # Adding ngrams\n",
    "    start, end = max(0, p - ngram_range + 1), min(len(inst.context), p + ngram_range)\n",
    "    ngram_list = list(ngrams([t[0] for t in inst.context[start:end]], ngram_range))\n",
    "    for i, ngram in enumerate(ngram_list):\n",
    "        features[f\"ngram_{i}\"] = \" \".join(ngram)\n",
    "\n",
    "    return features"
   ],
   "metadata": {
    "collapsed": false,
    "ExecuteTime": {
     "end_time": "2023-06-09T01:20:24.534275100Z",
     "start_time": "2023-06-09T01:20:24.494208800Z"
    }
   }
  },
  {
   "cell_type": "code",
   "execution_count": 58,
   "outputs": [
    {
     "data": {
      "text/plain": "{'w-2_word': 'declines',\n 'w-1_word': 'in',\n 'w+1_word': 'rates',\n 'w+2_word': '.',\n 'w-2_tag': 'NNS',\n 'w-1_tag': 'IN',\n 'w+1_tag': 'NNS',\n 'w+2_tag': '.',\n 'ngram_0': 'declines in interest',\n 'ngram_1': 'in interest rates',\n 'ngram_2': 'interest rates .'}"
     },
     "execution_count": 58,
     "metadata": {},
     "output_type": "execute_result"
    }
   ],
   "source": [
    "data_col_extended = [extended_collocational_features(inst) for inst in senseval.instances('interest.pos')]\n",
    "data_col_extended[0]"
   ],
   "metadata": {
    "collapsed": false,
    "ExecuteTime": {
     "end_time": "2023-06-09T01:20:25.981245700Z",
     "start_time": "2023-06-09T01:20:24.507245200Z"
    }
   }
  },
  {
   "cell_type": "code",
   "execution_count": 59,
   "outputs": [
    {
     "name": "stdout",
     "output_type": "stream",
     "text": [
      "0.8635962212647523\n"
     ]
    }
   ],
   "source": [
    "dvectorizer = DictVectorizer(sparse=False)\n",
    "dvectors = dvectorizer.fit_transform(data_col_extended)\n",
    "\n",
    "scores = cross_validate(classifier, dvectors, labels, cv=stratified_split, scoring=['f1_micro'])\n",
    "\n",
    "print(sum(scores['test_f1_micro'])/len(scores['test_f1_micro']))"
   ],
   "metadata": {
    "collapsed": false,
    "ExecuteTime": {
     "end_time": "2023-06-09T01:20:26.511244900Z",
     "start_time": "2023-06-09T01:20:25.995246200Z"
    }
   }
  },
  {
   "cell_type": "markdown",
   "source": [
    "### 1.2 Bag of Words Classification"
   ],
   "metadata": {
    "collapsed": false
   }
  },
  {
   "cell_type": "code",
   "execution_count": 60,
   "outputs": [
    {
     "name": "stdout",
     "output_type": "stream",
     "text": [
      "0.8133433243236011\n"
     ]
    }
   ],
   "source": [
    "vectorizer = CountVectorizer()\n",
    "classifier = MultinomialNB()\n",
    "lblencoder = LabelEncoder()\n",
    "\n",
    "stratified_split = StratifiedKFold(n_splits=5, shuffle=True)\n",
    "\n",
    "vectors = vectorizer.fit_transform(data)\n",
    "\n",
    "# encoding labels for multi-calss\n",
    "lblencoder.fit(lbls)\n",
    "labels = lblencoder.transform(lbls)\n",
    "\n",
    "scores = cross_validate(classifier, vectors, labels, cv=stratified_split, scoring=['f1_micro'])\n",
    "\n",
    "print(sum(scores['test_f1_micro'])/len(scores['test_f1_micro']))"
   ],
   "metadata": {
    "collapsed": false,
    "ExecuteTime": {
     "end_time": "2023-06-09T01:20:26.635242900Z",
     "start_time": "2023-06-09T01:20:26.550245400Z"
    }
   }
  },
  {
   "cell_type": "markdown",
   "source": [
    "## 2. Concatenating Feature Vectors (BOW + New Collocational)"
   ],
   "metadata": {
    "collapsed": false
   }
  },
  {
   "cell_type": "code",
   "execution_count": 61,
   "outputs": [
    {
     "name": "stdout",
     "output_type": "stream",
     "text": [
      "(2368, 7033) <class 'scipy.sparse._csr.csr_matrix'>\n",
      "(2368, 5880) <class 'numpy.ndarray'>\n",
      "(2368, 12913) <class 'numpy.ndarray'>\n"
     ]
    }
   ],
   "source": [
    "# let's check shape's for sanity & types (for illustration)\n",
    "print(vectors.shape, type(vectors))\n",
    "print(dvectors.shape, type(dvectors))\n",
    "\n",
    "# types of CountVectorizer and DictVectorizer outputs are different\n",
    "# we need to convert them to the same format\n",
    "uvectors = np.concatenate((vectors.toarray(), dvectors), axis=1)\n",
    "\n",
    "print(uvectors.shape, type(uvectors))"
   ],
   "metadata": {
    "collapsed": false,
    "ExecuteTime": {
     "end_time": "2023-06-09T01:20:28.238085700Z",
     "start_time": "2023-06-09T01:20:28.061085900Z"
    }
   }
  },
  {
   "cell_type": "code",
   "execution_count": 62,
   "outputs": [
    {
     "name": "stdout",
     "output_type": "stream",
     "text": [
      "0.9113031997930439\n"
     ]
    }
   ],
   "source": [
    "# cross-validating classifier the usual way\n",
    "scores = cross_validate(classifier, uvectors, labels, cv=stratified_split, scoring=['f1_micro'])\n",
    "\n",
    "print(sum(scores['test_f1_micro'])/len(scores['test_f1_micro']))"
   ],
   "metadata": {
    "collapsed": false,
    "ExecuteTime": {
     "end_time": "2023-06-09T01:20:30.974106600Z",
     "start_time": "2023-06-09T01:20:29.533107700Z"
    }
   }
  },
  {
   "cell_type": "markdown",
   "source": [
    "## 3. Evaluate Lesk Original and Graph-based (Lesk Similarity or Pedersen) metrics on the same test split and compare"
   ],
   "metadata": {
    "collapsed": false
   }
  },
  {
   "cell_type": "markdown",
   "source": [
    "### 3.1 Lesk Original (Baseline) (Modified NTLK's Original Lesk)"
   ],
   "metadata": {
    "collapsed": false
   }
  },
  {
   "cell_type": "code",
   "execution_count": 63,
   "outputs": [],
   "source": [
    "def preprocess(sentence):\n",
    "    mapping = {\"NOUN\": wordnet.NOUN, \"VERB\": wordnet.VERB, \"ADJ\": wordnet.ADJ, \"ADV\": wordnet.ADV}\n",
    "\n",
    "    sw_list = stopwords.words('english')\n",
    "\n",
    "    lemmatizer = WordNetLemmatizer()\n",
    "\n",
    "    tokens = nltk.word_tokenize(sentence) if isinstance(sentence, str) else sentence\n",
    "\n",
    "    tagged = nltk.pos_tag(tokens, tagset=\"universal\")\n",
    "\n",
    "    # lowercase\n",
    "    tagged = [(w.lower(), p) for w, p in tagged]\n",
    "    # optional: remove all words that are not NOUN, VERB, ADJ, or ADV (i.e. no sense in WordNet)\n",
    "    tagged = [(w, p) for w, p in tagged if p in mapping]\n",
    "    # re-map tags to WordNet (return orignal if not in-mapping, if above is not used)\n",
    "    tagged = [(w, mapping.get(p, p)) for w, p in tagged]\n",
    "    # remove stopwords\n",
    "    tagged = [(w, p) for w, p in tagged if w not in sw_list]\n",
    "    # lemmatize\n",
    "    tagged = [(w, lemmatizer.lemmatize(w, pos=p), p) for w, p in tagged]\n",
    "    # unique the list\n",
    "    tagged = list(set(tagged))\n",
    "\n",
    "    return tagged"
   ],
   "metadata": {
    "collapsed": false,
    "ExecuteTime": {
     "end_time": "2023-06-09T01:20:33.204150500Z",
     "start_time": "2023-06-09T01:20:33.179148600Z"
    }
   }
  },
  {
   "cell_type": "code",
   "execution_count": 73,
   "outputs": [],
   "source": [
    "def get_sense_definitions(context):\n",
    "    # input is text or list of strings\n",
    "    lemma_tags = preprocess(context)\n",
    "\n",
    "    # get all possible senses for each word in context\n",
    "    senses_ = []\n",
    "    for lemma_, _, tag in lemma_tags:\n",
    "        senses_.append((lemma_, wordnet.synsets(lemma_, pos=tag)))\n",
    "\n",
    "    # get all possible sense definitions for each word in context\n",
    "    sense_defs = []\n",
    "    for w_, senses_list_ in senses_:\n",
    "        if len(senses_list_) > 0:\n",
    "            defs_list_ = []\n",
    "            for sense_ in senses_list_:\n",
    "                defs_ = sense_.definition()\n",
    "\n",
    "                tags_ = preprocess(defs_)\n",
    "\n",
    "                # get tokens from tags\n",
    "                tokens_ = [w for w, _, _ in tags_]\n",
    "\n",
    "                defs_list_.append((sense_, tokens_))\n",
    "\n",
    "            sense_defs.append((w_, defs_list_))\n",
    "\n",
    "    return sense_defs"
   ],
   "metadata": {
    "collapsed": false,
    "ExecuteTime": {
     "end_time": "2023-06-09T01:25:05.888968700Z",
     "start_time": "2023-06-09T01:25:05.869970800Z"
    }
   }
  },
  {
   "cell_type": "code",
   "execution_count": 65,
   "outputs": [],
   "source": [
    "def get_top_sense(words, sense_list):\n",
    "    val, sense_ = max((len(set(words).intersection(set(defn))), ss) for ss, defn in sense_list)\n",
    "    return val, sense_"
   ],
   "metadata": {
    "collapsed": false,
    "ExecuteTime": {
     "end_time": "2023-06-09T01:20:34.709615200Z",
     "start_time": "2023-06-09T01:20:34.671618400Z"
    }
   }
  },
  {
   "cell_type": "code",
   "execution_count": 76,
   "outputs": [],
   "source": [
    "def original_lesk(context_sentence, ambiguous_word, pos=None, synsets=None, majority=False):\n",
    "\n",
    "    context_senses = get_sense_definitions(set(context_sentence) - set([ambiguous_word]))\n",
    "    if synsets is None:\n",
    "        try:\n",
    "            synsets = get_sense_definitions(ambiguous_word)[0][1]\n",
    "        except:\n",
    "            return None\n",
    "\n",
    "    if pos:\n",
    "        synsets = [ss for ss in synsets if str(ss[0].pos()) == pos]\n",
    "\n",
    "    if not synsets:\n",
    "        return None\n",
    "\n",
    "    scores = []\n",
    "    # print(synsets)\n",
    "    for senses in context_senses:\n",
    "        for sense in senses[1]:\n",
    "            scores.append(get_top_sense(sense[1], synsets))\n",
    "\n",
    "    if len(scores) == 0:\n",
    "        return synsets[0][0]\n",
    "\n",
    "    if majority:\n",
    "        filtered_scores = [x[1] for x in scores if x[0] != 0]\n",
    "        if len(filtered_scores) > 0:\n",
    "            best_sense = Counter(filtered_scores).most_common(1)[0][0]\n",
    "        else:\n",
    "            # Almost random selection\n",
    "            best_sense = Counter([x[1] for x in scores]).most_common(1)[0][0]\n",
    "    else:\n",
    "        _, best_sense = max(scores)\n",
    "    return best_sense"
   ],
   "metadata": {
    "collapsed": false,
    "ExecuteTime": {
     "end_time": "2023-06-09T01:26:23.125879500Z",
     "start_time": "2023-06-09T01:26:23.056827600Z"
    }
   }
  },
  {
   "cell_type": "markdown",
   "source": [
    "### 3.2 Graph-based Lesk (Lesk Similarity)"
   ],
   "metadata": {
    "collapsed": false
   }
  },
  {
   "cell_type": "code",
   "execution_count": 77,
   "outputs": [],
   "source": [
    "def get_top_sense_sim(context_sense, sense_list, similarity):\n",
    "    # get top sense from the list of sense-definition tuples\n",
    "    # assumes that words and definitions are preprocessed identically\n",
    "    scores = []\n",
    "    for sense in sense_list:\n",
    "        ss = sense[0]\n",
    "        if similarity == \"path\":\n",
    "            try:\n",
    "                # Append path similarity between ambiguous word and senses from the context\n",
    "                # calculate path similarity between two senses\n",
    "                path_similarity_score = context_sense.path_similarity(ss)\n",
    "                scores.append((path_similarity_score, ss))\n",
    "            except:\n",
    "                scores.append((0, ss))\n",
    "        elif similarity == \"lch\":\n",
    "            try:\n",
    "                # Append LCH similarity between ambiguous word and senses from the context\n",
    "                lch_similarity_score = context_sense.lch_similarity(ss)\n",
    "                scores.append((lch_similarity_score, ss))\n",
    "            except:\n",
    "                scores.append((0, ss))\n",
    "        elif similarity == \"wup\":\n",
    "            try:\n",
    "                # Append WUP similarity between ambiguous word and senses from the context\n",
    "                wup_similarity_score = context_sense.wup_similarity(ss)\n",
    "                scores.append((wup_similarity_score, ss))\n",
    "            except:\n",
    "                scores.append((0, ss))\n",
    "\n",
    "        elif similarity == \"resnik\":\n",
    "            try:\n",
    "                # Append Resnik similarity  between ambiguous word and senses from the context\n",
    "                # Don't forget semcor_ic\n",
    "                resnik_similarity_score = context_sense.res_similarity(ss, semcor_ic)\n",
    "                scores.append((resnik_similarity_score, ss))\n",
    "            except:\n",
    "                scores.append((0, ss))\n",
    "        elif similarity == \"lin\":\n",
    "            try:\n",
    "                # Append lin similarity between ambiguous word and senses from the context\n",
    "                # Don't forget semcor_ic\n",
    "                lin_similarity_score = context_sense.lin_similarity(ss, semcor_ic)\n",
    "                scores.append((lin_similarity_score, ss))\n",
    "            except:\n",
    "                scores.append((0, ss))\n",
    "\n",
    "        elif similarity == \"jiang\":\n",
    "            try:\n",
    "                # Append Jiang similarity between ambiguous word and senses from the context\n",
    "                # Don't forget semcor_ic\n",
    "                ji_similarity_score = context_sense.ji_similarity(ss, semcor_ic)\n",
    "                scores.append((ji_similarity_score, ss))\n",
    "            except:\n",
    "                scores.append((0, ss))\n",
    "        else:\n",
    "            print(\"Similarity metric not found\")\n",
    "            return None\n",
    "\n",
    "    val, sense_ = max(scores)\n",
    "    return val, sense_\n",
    "\n",
    "def lesk_similarity(context_sentence, ambiguous_word, similarity=\"resnik\", pos=None, synsets=None, majority=True):\n",
    "    context_senses = get_sense_definitions(set(context_sentence) - set([ambiguous_word]))\n",
    "\n",
    "    if synsets is None:\n",
    "        try:\n",
    "            synsets = get_sense_definitions(ambiguous_word)[0][1]\n",
    "        except:\n",
    "            # If no synsets are found, return None\n",
    "            return None\n",
    "\n",
    "    if pos:\n",
    "        synsets = [ss for ss in synsets if str(ss[0].pos()) == pos]\n",
    "\n",
    "    if not synsets:\n",
    "        return None\n",
    "\n",
    "    scores = []\n",
    "\n",
    "    for senses in context_senses:\n",
    "        for sense in senses[1]:\n",
    "            scores.append(get_top_sense_sim(sense[0], synsets, similarity))\n",
    "\n",
    "    if len(scores) == 0:\n",
    "        return synsets[0][0]\n",
    "\n",
    "    # Majority voting as before\n",
    "    if majority:\n",
    "        # We remove 0 scores, senses without overlapping\n",
    "        filtered_scores = [x[1] for x in scores if x[0] != 0]\n",
    "        if len(filtered_scores) > 0:\n",
    "            # Select the most common syn.\n",
    "            best_sense = Counter(filtered_scores).most_common(1)[0][0]\n",
    "        else:\n",
    "            # Almost random selection\n",
    "            best_sense = Counter([score[1] for score in scores]).most_common(1)[0][0]\n",
    "    else:\n",
    "        _, best_sense = max(scores)\n",
    "\n",
    "    return best_sense"
   ],
   "metadata": {
    "collapsed": false,
    "ExecuteTime": {
     "end_time": "2023-06-09T01:26:27.664753100Z",
     "start_time": "2023-06-09T01:26:27.617450600Z"
    }
   }
  },
  {
   "cell_type": "code",
   "execution_count": 140,
   "outputs": [],
   "source": [
    "# # Evaluation of Original Lesk and Graph-based (Lesk Similarity) metrics on the same test split and compare\n",
    "# # k-fold cross validation\n",
    "data = senseval.instances('interest.pos')"
   ],
   "metadata": {
    "collapsed": false,
    "ExecuteTime": {
     "end_time": "2023-06-09T04:16:37.746119400Z",
     "start_time": "2023-06-09T04:16:37.727121300Z"
    }
   }
  },
  {
   "cell_type": "code",
   "execution_count": 143,
   "outputs": [],
   "source": [
    "# mapping for convenience\n",
    "# mapping = {\n",
    "#     'interest.n.01' : 'interest_1',\n",
    "#     'interest.n.02' : 'interest_2',\n",
    "#     'interest.n.03' : 'interest_3',\n",
    "#     'interest.n.04' : 'interest_4',\n",
    "#     'interest.n.05': 'interest_5',\n",
    "#     'interest.n.06': 'interest_6',\n",
    "#     'pastime.n.01': 'interest_3',\n",
    "#     'sake.n.01': 'interest_4',\n",
    "# }\n",
    "\n",
    "mapping = {\n",
    "    'interest.n.01' : 'interest_1',\n",
    "    'interest.n.03' : 'interest_2',\n",
    "    'pastime.n.01': 'interest_3',\n",
    "    'sake.n.01': 'interest_4',\n",
    "    'interest.n.05': 'interest_5',\n",
    "    'interest.n.04': 'interest_6',\n",
    "\n",
    "\n",
    "}\n",
    "\n",
    "# since WordNet defines more senses, let's restrict predictions\n",
    "synsets = []\n",
    "for ss in wordnet.synsets('interest', pos='n'):\n",
    "    if ss.name() in mapping.values():\n",
    "        defn = ss.definition()\n",
    "        tags = preprocess(defn)\n",
    "        toks = [l for w, l, p in tags]\n",
    "        synsets.append((ss,toks))"
   ],
   "metadata": {
    "collapsed": false,
    "ExecuteTime": {
     "end_time": "2023-06-09T04:30:56.129401900Z",
     "start_time": "2023-06-09T04:30:56.115403400Z"
    }
   }
  },
  {
   "cell_type": "code",
   "execution_count": 146,
   "outputs": [
    {
     "name": "stdout",
     "output_type": "stream",
     "text": [
      "Original Lesk Algorithm Results:\n",
      "\t ==> Accuracy:  0.21369520131588357\n",
      "\t ==> Precision:  0.22944579389694017\n",
      "\t ==> Recall:  0.1071108136753384\n",
      "\t ==> F1:  0.12354668290327649\n",
      "\n",
      "Lesk Similarity Algorithm Results:\n",
      "\t ==> Accuracy:  0.04771865837087892\n",
      "\t ==> Precision:  0.1333370388370676\n",
      "\t ==> Recall:  0.11057444936244691\n",
      "\t ==> F1:  0.038007071871846425\n"
     ]
    }
   ],
   "source": [
    "kf = KFold(n_splits=10, shuffle=True)\n",
    "kf.get_n_splits(data)\n",
    "\n",
    "original_lesk_accuracy = []\n",
    "original_lesk_precision = []\n",
    "original_lesk_recall = []\n",
    "original_lesk_f1 = []\n",
    "\n",
    "lesk_similarity_accuracy = []\n",
    "lesk_similarity_precision = []\n",
    "lesk_similarity_recall = []\n",
    "lesk_similarity_f1 = []\n",
    "\n",
    "for train_index, test_index in kf.split(data):\n",
    "    train_data = [data[i] for i in train_index]\n",
    "    test_data = [data[i] for i in test_index]\n",
    "\n",
    "    original_lesk_predictions = []\n",
    "    lesk_similarity_predictions = []\n",
    "\n",
    "    original_lesk_true = []\n",
    "    lesk_similarity_true = []\n",
    "\n",
    "    for instance in test_data:\n",
    "        sentence_ = \" \".join([t[0] for t in instance.context])\n",
    "        word_ = str(instance.word).split('-')[0]\n",
    "        pred = original_lesk(sentence_.split(), word_)\n",
    "        if pred is not None:\n",
    "            pred = pred.name()\n",
    "            if pred in mapping:\n",
    "                pred = mapping[pred]\n",
    "            original_lesk_predictions.append(pred)\n",
    "\n",
    "        pred = lesk_similarity(sentence_.split(), word_, similarity=\"resnik\", pos='n', majority=True)\n",
    "        if pred is not None:\n",
    "            pred = pred.name()\n",
    "            if pred in mapping:\n",
    "                pred = mapping[pred]\n",
    "\n",
    "            lesk_similarity_predictions.append(pred)\n",
    "\n",
    "        original_lesk_true.append(instance.senses[0])\n",
    "        lesk_similarity_true.append(instance.senses[0])\n",
    "\n",
    "    try:\n",
    "        original_lesk_accuracy.append(\n",
    "            accuracy_score(original_lesk_true, original_lesk_predictions))\n",
    "    except:\n",
    "        original_lesk_accuracy.append(0)\n",
    "    try:\n",
    "        original_lesk_precision.append(\n",
    "            precision_score(original_lesk_true, original_lesk_predictions, average='macro', zero_division=0))\n",
    "    except:\n",
    "        original_lesk_precision.append(0)\n",
    "    try:\n",
    "        original_lesk_recall.append(\n",
    "            recall_score(original_lesk_true, original_lesk_predictions, average='macro', zero_division=0))\n",
    "    except:\n",
    "        original_lesk_recall.append(0)\n",
    "    try:\n",
    "        original_lesk_f1.append(\n",
    "            f1_score(original_lesk_true, original_lesk_predictions, average='macro', zero_division=0))\n",
    "    except:\n",
    "        original_lesk_f1.append(0)\n",
    "\n",
    "    try:\n",
    "        lesk_similarity_accuracy.append(\n",
    "            accuracy_score(lesk_similarity_true, lesk_similarity_predictions))\n",
    "    except:\n",
    "        lesk_similarity_accuracy.append(0)\n",
    "    try:\n",
    "        lesk_similarity_precision.append(\n",
    "            precision_score(lesk_similarity_true, lesk_similarity_predictions, average='macro', zero_division=0))\n",
    "    except:\n",
    "        lesk_similarity_precision.append(0)\n",
    "    try:\n",
    "        lesk_similarity_recall.append(\n",
    "            recall_score(lesk_similarity_true, lesk_similarity_predictions, average='macro', zero_division=0))\n",
    "    except:\n",
    "        lesk_similarity_recall.append(0)\n",
    "    try:\n",
    "        lesk_similarity_f1.append(\n",
    "            f1_score(lesk_similarity_true, lesk_similarity_predictions, average='macro', zero_division=0  ))\n",
    "    except:\n",
    "        lesk_similarity_f1.append(0)\n",
    "\n",
    "\n",
    "print(\"Original Lesk Algorithm Results:\")\n",
    "print(\"\\t ==> Accuracy: \", np.mean(original_lesk_accuracy))\n",
    "print(\"\\t ==> Precision: \", np.mean(original_lesk_precision))\n",
    "print(\"\\t ==> Recall: \", np.mean(original_lesk_recall))\n",
    "print(\"\\t ==> F1: \", np.mean(original_lesk_f1))\n",
    "\n",
    "print(\"\\nLesk Similarity Algorithm Results:\")\n",
    "print(\"\\t ==> Accuracy: \", np.mean(lesk_similarity_accuracy))\n",
    "print(\"\\t ==> Precision: \", np.mean(lesk_similarity_precision))\n",
    "print(\"\\t ==> Recall: \", np.mean(lesk_similarity_recall))\n",
    "print(\"\\t ==> F1: \", np.mean(lesk_similarity_f1))"
   ],
   "metadata": {
    "collapsed": false,
    "ExecuteTime": {
     "end_time": "2023-06-09T05:00:55.965010100Z",
     "start_time": "2023-06-09T04:50:07.822202600Z"
    }
   }
  },
  {
   "cell_type": "code",
   "execution_count": null,
   "outputs": [],
   "source": [],
   "metadata": {
    "collapsed": false
   }
  }
 ],
 "metadata": {
  "kernelspec": {
   "display_name": "Python 3 (ipykernel)",
   "language": "python",
   "name": "python3"
  },
  "language_info": {
   "codemirror_mode": {
    "name": "ipython",
    "version": 3
   },
   "file_extension": ".py",
   "mimetype": "text/x-python",
   "name": "python",
   "nbconvert_exporter": "python",
   "pygments_lexer": "ipython3",
   "version": "3.8.16"
  }
 },
 "nbformat": 4,
 "nbformat_minor": 4
}
