{
 "cells": [
  {
   "cell_type": "code",
   "execution_count": null,
   "outputs": [],
   "source": [],
   "metadata": {
    "collapsed": false
   }
  },
  {
   "cell_type": "markdown",
   "metadata": {
    "slideshow": {
     "slide_type": "slide"
    }
   },
   "source": [
    "# Experimental Methodology in Natural Language Processing\n"
   ]
  },
  {
   "cell_type": "markdown",
   "metadata": {
    "slideshow": {
     "slide_type": "slide"
    }
   },
   "source": [
    "## Objectives\n",
    "\n",
    "- Understanding \n",
    "    - the role and types of evaluation in NLP/ML\n",
    "    - the lower and upper bounds of performance\n",
    "    - correct usage of data for experimentation\n",
    "    - evaluation metrics\n",
    "    \n",
    "- Learning how to use `scikit-learn` to perform a text classification experiment\n",
    "    - provided baselines\n",
    "    - text vectorization\n",
    "    - evaluation methods"
   ]
  },
  {
   "cell_type": "markdown",
   "metadata": {
    "slideshow": {
     "slide_type": "slide"
    }
   },
   "source": [
    "### Requirements\n",
    "- [scikit-learn](https://scikit-learn.org/)\n",
    "    - run `pip install scikit-learn`"
   ]
  },
  {
   "cell_type": "markdown",
   "metadata": {
    "slideshow": {
     "slide_type": "slide"
    }
   },
   "source": [
    "## 1. Basic Concepts of Experimental Method"
   ]
  },
  {
   "cell_type": "markdown",
   "source": [],
   "metadata": {
    "collapsed": false
   }
  },
  {
   "cell_type": "markdown",
   "metadata": {
    "slideshow": {
     "slide_type": "slide"
    }
   },
   "source": [
    "### 1.1. Lower & Upper Bounds of the Performance\n",
    "\n",
    "#### Lower Bound: Baseline\n",
    "Trivial solution to the problem: \n",
    "\n",
    "- _random_: random decision\n",
    "- _chance_: random decision w.r.t. the distribution of categories in the training data\n",
    "- _majority_: assign everything to the largest category etc.\n",
    "- or the *state-of-the-art* model that you want to beat\n",
    "\n",
    "#### Upper Bound: Inter-rater agreement\n",
    "Usually human performance.\n",
    "\n",
    "A system is expected to perform within the lower and upper bounds.\n",
    "            "
   ]
  },
  {
   "cell_type": "markdown",
   "metadata": {
    "slideshow": {
     "slide_type": "slide"
    }
   },
   "source": [
    "### 1.2. Data Split"
   ]
  },
  {
   "cell_type": "markdown",
   "metadata": {},
   "source": [
    "#### 1.2.1. Training-Testing Split\n",
    "\n",
    "Often Data Set is split into the following parts:\n",
    "\n",
    "- _Training_: for training / extracting rules / etc.\n",
    "- _Development_ (Validation, or simply Dev): for optimization / intermediate evaluation\n",
    "- _Testing_: for the final evaluation "
   ]
  },
  {
   "cell_type": "markdown",
   "metadata": {
    "slideshow": {
     "slide_type": "slide"
    }
   },
   "source": [
    "#### 1.2.1. [K-Fold Cross-Validation](https://en.wikipedia.org/wiki/Cross-validation_(statistics))\n",
    "In k-fold cross-validation, the original sample is randomly partitioned into $k$ equal sized subsamples. Of the $k$ subsamples, a single subsample is retained as the validation data for testing the model, and the remaining $k − 1$ subsamples are used as training data. The cross-validation process is then repeated $k$ times, with each of the $k$ subsamples used exactly once as the validation data. The $k$ results can then be averaged to produce a single estimation.\n",
    "\n",
    "\\*\n",
    "<img src=\"https://scikit-learn.org/stable/_images/grid_search_cross_validation.png \" alt=\"kfold\" width=\"500\"/>\n",
    "\n",
    "\\*Image from https://scikit-learn.org/stable/modules/cross_validation.html\n",
    "\n",
    "- Random K-Fold Cross-Validation splits data into $K$ equal folds\n",
    "- Stratified K-Fold Cross-Validation additionally makes sure that the distribution of target labels is similar across different folds"
   ]
  },
  {
   "cell_type": "markdown",
   "metadata": {
    "slideshow": {
     "slide_type": "fragment"
    }
   },
   "source": [
    "The general procedure is as follows:\n",
    "\n",
    "- Shuffle the dataset randomly\n",
    "- Split the dataset into $k$ folds\n",
    "- For each unique group:\n",
    "    - Take the group as a hold out or test data set\n",
    "    - Take the remaining groups as a training data set\n",
    "    - Fit a model on the training set and evaluate it on the test set\n",
    "    - Retain the evaluation score and discard the model\n",
    "- Summarize the model performance averaging the evaluation scores"
   ]
  },
  {
   "cell_type": "markdown",
   "metadata": {
    "slideshow": {
     "slide_type": "slide"
    }
   },
   "source": [
    "## 2. Evaluation Metrics"
   ]
  },
  {
   "cell_type": "markdown",
   "metadata": {
    "slideshow": {
     "slide_type": "slide"
    }
   },
   "source": [
    "### 2.1. Contingency Table\n",
    "\n",
    "A [contingency table](https://en.wikipedia.org/wiki/Contingency_table) (also known as a _cross tabulation_ or _crosstab_) is a type of table in a matrix format that displays the (multivariate) frequency distribution of the variables. For the binary classification into positive (_POS_) and negative (_NEG_) classes, the predictions of a model (_HYP_, for hypotheses) with respect to the true labels (_REF_, for referencens) can be represented as the  matrix.\n",
    "\n",
    "|     |         | REF     |         |\n",
    "|-----|---------|:-------:|:-------:|\n",
    "|     |         | __POS__ | __NEG__ |\n",
    "| HYP | __POS__ | TP      | FP      |\n",
    "|     | __NEG__ | FN      | TN      |\n",
    "\n",
    "\n",
    "Where:\n",
    "- __TP__: True Positives (usually denoted as $a$)\n",
    "- __FP__: False Positivea ($b$)\n",
    "- __FN__: False Negatives ($c$)\n",
    "- __TN__: True Negativea ($d$)"
   ]
  },
  {
   "cell_type": "markdown",
   "metadata": {
    "slideshow": {
     "slide_type": "slide"
    }
   },
   "source": [
    "### 2.1. The Simplest Case: Accuracy\n",
    "\n",
    "$$ \\text{Accuracy} = \\frac{\\text{Num. of Correct Decisions}}{\\text{Total Num. of Instances}} $$\n",
    "\n",
    "- Known number of instances\n",
    "- Single decision for each instance \n",
    "- Single correct answer for each instance \n",
    "- All errors are equal"
   ]
  },
  {
   "cell_type": "markdown",
   "metadata": {
    "slideshow": {
     "slide_type": "fragment"
    }
   },
   "source": [
    "$$\\text{Accuracy} = \\frac{\\text{TP} + \\text{TN}}{\\text{TP} + \\text{FP} + \\text{FN} + \\text{TN}}$$"
   ]
  },
  {
   "cell_type": "markdown",
   "metadata": {
    "slideshow": {
     "slide_type": "fragment"
    }
   },
   "source": [
    "__What if TN is infinite or unknown?__\n",
    "\n",
    "e.g.: Number of irrelevant queries to a search engine"
   ]
  },
  {
   "cell_type": "markdown",
   "metadata": {
    "slideshow": {
     "slide_type": "slide"
    }
   },
   "source": [
    "### 2.2. Precision & Recall\n",
    "\n",
    "|     |         | REF     |         |             |\n",
    "|-----|---------|:-------:|:-------:|-------------|\n",
    "|     |         | __POS__ | __NEG__ |             |\n",
    "| HYP | __POS__ | TP      | FP      | _Precision_ |\n",
    "|     | __NEG__ | FN      | TN      |             |\n",
    "|     |         | _Recall_ |        |             |\n",
    "\n",
    "\n",
    "$$ \\text{Precison} = \\frac{\\text{TP}}{\\text{TP}+\\text{FP}}$$\n",
    "\n",
    "$$ \\text{Recall} = \\frac{\\text{TP}}{\\text{TP}+\\text{FN}}$$\n",
    "\n",
    "<img src=\"https://miro.medium.com/max/878/1*Ub0nZTXYT8MxLzrz0P7jPA.png\" width=\"800\"/>\n",
    "\n",
    "\n",
    "__2 Values__: \n",
    "\n",
    "Precision-Recall Trade-Off"
   ]
  },
  {
   "cell_type": "markdown",
   "metadata": {
    "slideshow": {
     "slide_type": "slide"
    }
   },
   "source": [
    "### 2.3. F-Measure\n",
    "\n",
    "- Harmonic Mean of Precision & Recall \n",
    "- Usually evenly weighted\n",
    "\n",
    "\n",
    "$$F_{\\beta} = \\frac{(1 + \\beta^2) ∗ \\text{Precision} ∗ \\text{Recall}}{\\beta^2 ∗ \\text{Precision} + \\text{Recall}}$$\n",
    "\n",
    "Most common value of $\\beta = 1$\n",
    "\n",
    "$ F_1 = \\frac{2 ∗ \\text{Precision} ∗ \\text{Recall}}{\\text{Precision} + \\text{Recall}}$"
   ]
  },
  {
   "cell_type": "markdown",
   "metadata": {
    "slideshow": {
     "slide_type": "slide"
    }
   },
   "source": [
    "### 2.4. Micro, Macro and (Macro-) Weighted Averaging\n",
    "\n",
    "In a Multi-Class setting per-class scores are averaged to produce a single score.\n",
    "There are several ways the scores could be averaged. \n",
    "\n",
    "__Micro Averaging__\n",
    "\n",
    "We compute scores summing over True Positive, True Negative, False Positive and False Negatives.\n",
    "\n",
    "__Macro Averaging__\n",
    "\n",
    "We first compute scores per class, then average the scores ignoring their distribution in the test set.\n",
    "\n",
    "__(Macro-) Weighted Averaging__\n",
    "\n",
    "Similar to Macro Averaging, but we additionally weight the scores by the class-frequency."
   ]
  },
  {
   "cell_type": "markdown",
   "metadata": {
    "slideshow": {
     "slide_type": "slide"
    }
   },
   "source": [
    "#### Precision Example\n",
    "\n",
    "Let's assume we have 3 classes. The precision formula from above is:\n",
    "\n",
    "$$ \\text{Precision} = \\frac{\\text{TP}}{\\text{TP}+\\text{FP}}$$\n",
    "\n",
    "$$\\text{Micro Precision} = \\frac{\\text{TP}_1 + \\text{TP}_2 +\\text{TP}_3}{(\\text{TP}_1 + \\text{TP}_2 +\\text{TP}_3)+(\\text{FP}_1 + \\text{FP}_2 +\\text{FP}_3)}$$\n",
    "\n",
    "$$\\text{Macro Precision} = \\frac{P_1 + P_2 + P_3}{3} = P_1 * \\frac{1}{3} + P_2 * \\frac{1}{3} + P_3 * \\frac{1}{3}$$\n",
    "\n",
    "$$\\text{Weighted Precision} = P_1 * \\frac{S_1}{N} + P_2 * \\frac{S_2}{N} + P_3 * \\frac{S_3}{N}$$\n",
    "\n",
    "Where:\n",
    "- $S$ is the support for the class (i.e. number of observations with that labels)\n",
    "- $N$ is the total number of observations"
   ]
  },
  {
   "cell_type": "markdown",
   "metadata": {
    "slideshow": {
     "slide_type": "slide"
    }
   },
   "source": [
    "## 3. Classification with Scikit-Learn\n",
    "\n",
    "- Loading Data\n",
    "- Baselines\n",
    "- Training Classifier\n",
    "- Evaluation\n"
   ]
  },
  {
   "cell_type": "markdown",
   "metadata": {
    "slideshow": {
     "slide_type": "slide"
    }
   },
   "source": [
    "### 3.1. Loading and Inspecting a Dataset\n",
    "\n",
    "`scikit-learn` comes with several toy datasets.\n",
    "Let's use one of those (iris) to perform a simple classification experiment.\n",
    "\n",
    "Iris dataset: https://archive.ics.uci.edu/ml/datasets/iris \n",
    " - 3 lineraly and not-linearly separable classes\n",
    "    \n",
    "The iris dataset is a classic and very easy multi-class classification dataset.\n",
    "\n",
    "| Property          | Value |\n",
    "|-------------------|-------|\n",
    "| Classes           |   3 |\n",
    "| Samples per class |  50 |\n",
    "| Samples total     | 150 |\n",
    "| Dimensionality    |   4 | \n",
    "| Features          | real, positive | "
   ]
  },
  {
   "cell_type": "code",
   "execution_count": 3,
   "metadata": {
    "slideshow": {
     "slide_type": "slide"
    },
    "ExecuteTime": {
     "end_time": "2023-07-21T08:29:09.593377200Z",
     "start_time": "2023-07-21T08:29:09.502377200Z"
    }
   },
   "outputs": [],
   "source": [
    "from sklearn.datasets import load_iris\n",
    "from collections import Counter\n",
    "data = load_iris()"
   ]
  },
  {
   "cell_type": "code",
   "execution_count": 4,
   "outputs": [
    {
     "ename": "AttributeError",
     "evalue": "tar",
     "output_type": "error",
     "traceback": [
      "\u001B[1;31m---------------------------------------------------------------------------\u001B[0m",
      "\u001B[1;31mKeyError\u001B[0m                                  Traceback (most recent call last)",
      "File \u001B[1;32m~\\anaconda3\\envs\\NLU-LABs-venv\\lib\\site-packages\\sklearn\\utils\\_bunch.py:35\u001B[0m, in \u001B[0;36mBunch.__getattr__\u001B[1;34m(self, key)\u001B[0m\n\u001B[0;32m     34\u001B[0m \u001B[38;5;28;01mtry\u001B[39;00m:\n\u001B[1;32m---> 35\u001B[0m     \u001B[38;5;28;01mreturn\u001B[39;00m \u001B[38;5;28;43mself\u001B[39;49m\u001B[43m[\u001B[49m\u001B[43mkey\u001B[49m\u001B[43m]\u001B[49m\n\u001B[0;32m     36\u001B[0m \u001B[38;5;28;01mexcept\u001B[39;00m \u001B[38;5;167;01mKeyError\u001B[39;00m:\n",
      "\u001B[1;31mKeyError\u001B[0m: 'tar'",
      "\nDuring handling of the above exception, another exception occurred:\n",
      "\u001B[1;31mAttributeError\u001B[0m                            Traceback (most recent call last)",
      "Cell \u001B[1;32mIn[4], line 1\u001B[0m\n\u001B[1;32m----> 1\u001B[0m \u001B[43mdata\u001B[49m\u001B[38;5;241;43m.\u001B[39;49m\u001B[43mtar\u001B[49m\n",
      "File \u001B[1;32m~\\anaconda3\\envs\\NLU-LABs-venv\\lib\\site-packages\\sklearn\\utils\\_bunch.py:37\u001B[0m, in \u001B[0;36mBunch.__getattr__\u001B[1;34m(self, key)\u001B[0m\n\u001B[0;32m     35\u001B[0m     \u001B[38;5;28;01mreturn\u001B[39;00m \u001B[38;5;28mself\u001B[39m[key]\n\u001B[0;32m     36\u001B[0m \u001B[38;5;28;01mexcept\u001B[39;00m \u001B[38;5;167;01mKeyError\u001B[39;00m:\n\u001B[1;32m---> 37\u001B[0m     \u001B[38;5;28;01mraise\u001B[39;00m \u001B[38;5;167;01mAttributeError\u001B[39;00m(key)\n",
      "\u001B[1;31mAttributeError\u001B[0m: tar"
     ]
    }
   ],
   "source": [
    "data.tar"
   ],
   "metadata": {
    "collapsed": false,
    "ExecuteTime": {
     "end_time": "2023-07-21T08:29:13.734606800Z",
     "start_time": "2023-07-21T08:29:13.636609200Z"
    }
   }
  },
  {
   "cell_type": "code",
   "execution_count": 132,
   "metadata": {},
   "outputs": [
    {
     "name": "stdout",
     "output_type": "stream",
     "text": [
      "Classes: 3\n",
      "Samples: 150\n",
      "Dimensionality: 4\n",
      "Samples per Class: {0: 50, 1: 50, 2: 50}\n"
     ]
    }
   ],
   "source": [
    "print(\"Classes: {}\".format(len(list(data.target_names))))\n",
    "print(\"Samples: {}\".format(len(data.data)))\n",
    "print(\"Dimensionality: {}\".format(len(list(data.feature_names))))\n",
    "print(\"Samples per Class: {}\".format(dict(Counter(list(data.target)))))"
   ]
  },
  {
   "cell_type": "code",
   "execution_count": 133,
   "metadata": {},
   "outputs": [
    {
     "name": "stdout",
     "output_type": "stream",
     "text": [
      "Features Vectors: [5.1 3.5 1.4 0.2]\n",
      "Data Matrix Shape: (150, 4)\n"
     ]
    }
   ],
   "source": [
    "# prints feature vector for first data point\n",
    "print(\"Features Vectors: {}\".format(data.data[0]))\n",
    "\n",
    "# prints matrix shape for data\n",
    "print(\"Data Matrix Shape: {}\".format(data.data.shape))"
   ]
  },
  {
   "cell_type": "code",
   "execution_count": 134,
   "metadata": {},
   "outputs": [
    {
     "name": "stdout",
     "output_type": "stream",
     "text": [
      "Description: \n",
      ".. _iris_dataset:\n",
      "\n",
      "Iris plants dataset\n",
      "--------------------\n",
      "\n",
      "**Data Set Characteristics:**\n",
      "\n",
      "    :Number of Instances: 150 (50 in each of three classes)\n",
      "    :Number of Attributes: 4 numeric, predictive attributes and the class\n",
      "    :Attribute Information:\n",
      "        - sepal length in cm\n",
      "        - sepal width in cm\n",
      "        - petal length in cm\n",
      "        - petal width in cm\n",
      "        - class:\n",
      "                - Iris-Setosa\n",
      "                - Iris-Versicolour\n",
      "                - Iris-Virginica\n",
      "                \n",
      "    :Summary Statistics:\n",
      "\n",
      "    ============== ==== ==== ======= ===== ====================\n",
      "                    Min  Max   Mean    SD   Class Correlation\n",
      "    ============== ==== ==== ======= ===== ====================\n",
      "    sepal length:   4.3  7.9   5.84   0.83    0.7826\n",
      "    sepal width:    2.0  4.4   3.05   0.43   -0.4194\n",
      "    petal length:   1.0  6.9   3.76   1.76    0.9490  (high!)\n",
      "    petal width:    0.1  2.5   1.20   0.76    0.9565  (high!)\n",
      "    ============== ==== ==== ======= ===== ====================\n",
      "\n",
      "    :Missing Attribute Values: None\n",
      "    :Class Distribution: 33.3% for each of 3 classes.\n",
      "    :Creator: R.A. Fisher\n",
      "    :Donor: Michael Marshall (MARSHALL%PLU@io.arc.nasa.gov)\n",
      "    :Date: July, 1988\n",
      "\n",
      "The famous Iris database, first used by Sir R.A. Fisher. The dataset is taken\n",
      "from Fisher's paper. Note that it's the same as in R, but not as in the UCI\n",
      "Machine Learning Repository, which has two wrong data points.\n",
      "\n",
      "This is perhaps the best known database to be found in the\n",
      "pattern recognition literature.  Fisher's paper is a classic in the field and\n",
      "is referenced frequently to this day.  (See Duda & Hart, for example.)  The\n",
      "data set contains 3 classes of 50 instances each, where each class refers to a\n",
      "type of iris plant.  One class is linearly separable from the other 2; the\n",
      "latter are NOT linearly separable from each other.\n",
      "\n",
      ".. topic:: References\n",
      "\n",
      "   - Fisher, R.A. \"The use of multiple measurements in taxonomic problems\"\n",
      "     Annual Eugenics, 7, Part II, 179-188 (1936); also in \"Contributions to\n",
      "     Mathematical Statistics\" (John Wiley, NY, 1950).\n",
      "   - Duda, R.O., & Hart, P.E. (1973) Pattern Classification and Scene Analysis.\n",
      "     (Q327.D83) John Wiley & Sons.  ISBN 0-471-22361-1.  See page 218.\n",
      "   - Dasarathy, B.V. (1980) \"Nosing Around the Neighborhood: A New System\n",
      "     Structure and Classification Rule for Recognition in Partially Exposed\n",
      "     Environments\".  IEEE Transactions on Pattern Analysis and Machine\n",
      "     Intelligence, Vol. PAMI-2, No. 1, 67-71.\n",
      "   - Gates, G.W. (1972) \"The Reduced Nearest Neighbor Rule\".  IEEE Transactions\n",
      "     on Information Theory, May 1972, 431-433.\n",
      "   - See also: 1988 MLC Proceedings, 54-64.  Cheeseman et al\"s AUTOCLASS II\n",
      "     conceptual clustering system finds 3 classes in the data.\n",
      "   - Many, many more ...\n",
      "\n",
      "Features names: ['sepal length (cm)', 'sepal width (cm)', 'petal length (cm)', 'petal width (cm)']\n"
     ]
    }
   ],
   "source": [
    "# prints full data set description\n",
    "print(\"Description: \\n{}\".format(data.DESCR))\n",
    "\n",
    "print()\n",
    "\n",
    "# prints features names\n",
    "print(\"Features names: {}\".format(data.feature_names))"
   ]
  },
  {
   "cell_type": "markdown",
   "metadata": {
    "slideshow": {
     "slide_type": "slide"
    }
   },
   "source": [
    "### 3.2. Splitting the Dataset\n",
    "\n",
    "- Random K-Fold Split\n",
    "- Stratified K-Fold Split"
   ]
  },
  {
   "cell_type": "code",
   "execution_count": 135,
   "metadata": {
    "scrolled": true,
    "slideshow": {
     "slide_type": "fragment"
    }
   },
   "outputs": [
    {
     "name": "stdout",
     "output_type": "stream",
     "text": [
      "Samples per Class in Training: {0: 39, 1: 41, 2: 40}\n",
      "Samples per Class in Testing: {0: 11, 1: 9, 2: 10}\n",
      "Samples per Class in Training: {0: 42, 1: 39, 2: 39}\n",
      "Samples per Class in Testing: {0: 8, 1: 11, 2: 11}\n",
      "Samples per Class in Training: {0: 38, 1: 40, 2: 42}\n",
      "Samples per Class in Testing: {0: 12, 1: 10, 2: 8}\n",
      "Samples per Class in Training: {0: 44, 1: 39, 2: 37}\n",
      "Samples per Class in Testing: {0: 6, 1: 11, 2: 13}\n",
      "Samples per Class in Training: {0: 37, 1: 41, 2: 42}\n",
      "Samples per Class in Testing: {0: 13, 1: 9, 2: 8}\n"
     ]
    }
   ],
   "source": [
    "from sklearn.model_selection import KFold\n",
    "n_split = 5\n",
    "random_split = KFold(n_splits=n_split, shuffle=True)\n",
    "\n",
    "# Random and Stratified splits return the indexes of the data points (X or Y)\n",
    "# and not the data point itself\n",
    "for train_index, test_index in random_split.split(data.data):\n",
    "    print(\"Samples per Class in Training: {}\".format(dict(Counter(list(data.target[train_index])))))\n",
    "    print(\"Samples per Class in Testing: {}\".format(dict(Counter(list(data.target[test_index])))))"
   ]
  },
  {
   "cell_type": "code",
   "execution_count": 136,
   "metadata": {},
   "outputs": [
    {
     "data": {
      "image/png": "[encoded data removed]",
      "text/plain": [
       "<Figure size 1200x500 with 1 Axes>"
      ]
     },
     "metadata": {},
     "output_type": "display_data"
    },
    {
     "data": {
      "image/png": "[encoded data removed]",
      "text/plain": [
       "<Figure size 1200x500 with 1 Axes>"
      ]
     },
     "metadata": {},
     "output_type": "display_data"
    }
   ],
   "source": [
    "import matplotlib.pyplot as plt\n",
    "import numpy as np\n",
    "\n",
    "def plot_bars(values, labels, width=0.35, title=\"\"):\n",
    "    x = np.arange(len(labels))  # the label locations\n",
    "    fig, ax = plt.subplots(figsize=(12,5))\n",
    "    ax.set_ylabel('Frequency')\n",
    "    ax.set_xlabel('Classes')\n",
    "    ax.set_title(title)\n",
    "    ax.set_xticks(x, labels)\n",
    "    \n",
    "    center = round(len(values)/2)\n",
    "    for id_x, temp in enumerate(values):\n",
    "        new_x = x + width/len(values) * (id_x-center)\n",
    "        lab = 'split'+str(id_x+1)\n",
    "        ax.bar(new_x, temp, width/len(values), label=lab)\n",
    "\n",
    "    ax.legend(loc='lower right')\n",
    "    plt.show()\n",
    "\n",
    "split_train = []\n",
    "split_test = []\n",
    "\n",
    "for train_index, test_index in random_split.split(data.data):    \n",
    "    split_train.append([ v for _, v in sorted(Counter(list(data.target[train_index])).items())])\n",
    "    split_test.append([ v for _, v in sorted(Counter(list(data.target[test_index])).items())])\n",
    "\n",
    "\n",
    "plot_bars(split_train, [0,1,3], title='Random split Train')\n",
    "plot_bars(split_test, [0,1,3], title='Random split Test')"
   ]
  },
  {
   "cell_type": "code",
   "execution_count": 137,
   "metadata": {
    "slideshow": {
     "slide_type": "slide"
    }
   },
   "outputs": [
    {
     "name": "stdout",
     "output_type": "stream",
     "text": [
      "Samples per Class in Training: {0: 40, 1: 40, 2: 40}\n",
      "Samples per Class in Testing: {0: 10, 1: 10, 2: 10}\n",
      "Samples per Class in Training: {0: 40, 1: 40, 2: 40}\n",
      "Samples per Class in Testing: {0: 10, 1: 10, 2: 10}\n",
      "Samples per Class in Training: {0: 40, 1: 40, 2: 40}\n",
      "Samples per Class in Testing: {0: 10, 1: 10, 2: 10}\n",
      "Samples per Class in Training: {0: 40, 1: 40, 2: 40}\n",
      "Samples per Class in Testing: {0: 10, 1: 10, 2: 10}\n",
      "Samples per Class in Training: {0: 40, 1: 40, 2: 40}\n",
      "Samples per Class in Testing: {0: 10, 1: 10, 2: 10}\n"
     ]
    }
   ],
   "source": [
    "from sklearn.model_selection import StratifiedKFold\n",
    "\n",
    "stratified_split = StratifiedKFold(n_splits=5, shuffle=True)\n",
    "\n",
    "for train_index, test_index in stratified_split.split(data.data, data.target):\n",
    "    print(\"Samples per Class in Training: {}\".format(dict(Counter(list(data.target[train_index])))))\n",
    "    print(\"Samples per Class in Testing: {}\".format(dict(Counter(list(data.target[test_index])))))"
   ]
  },
  {
   "cell_type": "code",
   "execution_count": 138,
   "metadata": {},
   "outputs": [
    {
     "data": {
      "image/png": "[encoded data removed]",
      "text/plain": [
       "<Figure size 1200x500 with 1 Axes>"
      ]
     },
     "metadata": {},
     "output_type": "display_data"
    },
    {
     "data": {
      "image/png": "[encoded data removed]",
      "text/plain": [
       "<Figure size 1200x500 with 1 Axes>"
      ]
     },
     "metadata": {},
     "output_type": "display_data"
    }
   ],
   "source": [
    "split_train = []\n",
    "split_test = []\n",
    "for train_index, test_index in stratified_split.split(data.data, data.target):    \n",
    "    split_train.append([ v for _, v in sorted(Counter(list(data.target[train_index])).items())])\n",
    "    split_test.append([ v for _, v in sorted(Counter(list(data.target[test_index])).items())])\n",
    "    \n",
    "plot_bars(split_train, [0,1,3], title='Stratified split Train')\n",
    "plot_bars(split_test, [0,1,3], title='Stratified split Test')"
   ]
  },
  {
   "cell_type": "markdown",
   "metadata": {
    "slideshow": {
     "slide_type": "slide"
    }
   },
   "source": [
    "### 3.3. Training and Testing the Model"
   ]
  },
  {
   "cell_type": "markdown",
   "metadata": {
    "slideshow": {
     "slide_type": "slide"
    }
   },
   "source": [
    "#### 3.3.1. Classification Process\n",
    "\n",
    "- Select the classification algorithm from [Supervised Learning](https://scikit-learn.org/stable/supervised_learning.html)\n",
    "- Train on training data\n",
    "- Predict labels on testing data\n",
    "- Score prediction comparing predicted and reference labels"
   ]
  },
  {
   "cell_type": "code",
   "execution_count": 139,
   "metadata": {
    "slideshow": {
     "slide_type": "fragment"
    }
   },
   "outputs": [
    {
     "name": "stdout",
     "output_type": "stream",
     "text": [
      "Accuracy: 0.933\n",
      "Accuracy: 1.0\n",
      "Accuracy: 0.9\n",
      "Accuracy: 0.967\n",
      "Accuracy: 0.933\n"
     ]
    }
   ],
   "source": [
    "from sklearn.naive_bayes import GaussianNB\n",
    "\n",
    "# choose classification algorithm & initialize it\n",
    "clf = GaussianNB()\n",
    "\n",
    "# for each training/testing fold\n",
    "for train_index, test_index in stratified_split.split(data.data, data.target):\n",
    "    # train (fit) model\n",
    "    clf.fit(data.data[train_index], data.target[train_index])\n",
    "\n",
    "    # predict test labels\n",
    "    clf.predict(data.data[test_index])\n",
    "\n",
    "    # score the model (using average accuracy for now)\n",
    "    accuracy = clf.score(data.data[test_index], data.target[test_index])\n",
    "    print(\"Accuracy: {:.3}\".format(accuracy))"
   ]
  },
  {
   "cell_type": "markdown",
   "metadata": {
    "slideshow": {
     "slide_type": "slide"
    }
   },
   "source": [
    "#### 3.3.2. Baselines\n",
    "\n",
    "Scikit-learn provides baselines via `DummyClassifier` class that takes `strategy` argument. The following baselines can be obtaing:\n",
    "\n",
    "- random baseline: `uniform`\n",
    "- chance baseline: `stratified`\n",
    "- majority baseline: `most_frequent`\n"
   ]
  },
  {
   "cell_type": "code",
   "execution_count": 140,
   "metadata": {
    "slideshow": {
     "slide_type": "fragment"
    }
   },
   "outputs": [
    {
     "name": "stdout",
     "output_type": "stream",
     "text": [
      "Accuracy: 0.367\n",
      "Accuracy: 0.133\n",
      "Accuracy: 0.367\n",
      "Accuracy: 0.367\n",
      "Accuracy: 0.467\n"
     ]
    }
   ],
   "source": [
    "from sklearn.dummy import DummyClassifier\n",
    "\n",
    "random_clf = DummyClassifier(strategy=\"uniform\")\n",
    "\n",
    "for train_index, test_index in stratified_split.split(data.data, data.target):\n",
    "    random_clf.fit(data.data[train_index], data.target[train_index])\n",
    "    random_clf.predict(data.data[test_index])\n",
    "    accuracy = random_clf.score(data.data[test_index], data.target[test_index])\n",
    "    \n",
    "    print(\"Accuracy: {:.3}\".format(accuracy))\n"
   ]
  },
  {
   "cell_type": "markdown",
   "metadata": {
    "slideshow": {
     "slide_type": "slide"
    }
   },
   "source": [
    "#### Exercise\n",
    "\n",
    "Try `stratified` and `most_frequent` strategies and observe performances"
   ]
  },
  {
   "cell_type": "code",
   "execution_count": 141,
   "metadata": {},
   "outputs": [
    {
     "name": "stdout",
     "output_type": "stream",
     "text": [
      "Strategy:\u001B[1m most_frequent \u001B[0m\n",
      "Accuracy: 0.333\n",
      "Accuracy: 0.333\n",
      "Accuracy: 0.333\n",
      "Accuracy: 0.333\n",
      "Accuracy: 0.333\n"
     ]
    }
   ],
   "source": [
    "X = \"most_frequent\"\n",
    "\n",
    "dummy_clf = DummyClassifier(strategy=X)\n",
    "# Random and Stratified splits return the indexes of the data points (X or Y)  \n",
    "# and not the data point itself\n",
    "print('Strategy:\\033[1m', 'most_frequent','\\033[0m')\n",
    "for train_index, test_index in stratified_split.split(data.data, data.target):\n",
    "    dummy_clf.fit(data.data[train_index], data.target[train_index])\n",
    "    dummy_clf.predict(data.data[test_index])\n",
    "    accuracy = dummy_clf.score(data.data[test_index], data.target[test_index])\n",
    "    \n",
    "    print(\"Accuracy: {:.3}\".format(accuracy))"
   ]
  },
  {
   "cell_type": "code",
   "execution_count": 142,
   "metadata": {},
   "outputs": [
    {
     "name": "stdout",
     "output_type": "stream",
     "text": [
      "Strategy:\u001B[1m stratified \u001B[0m\n",
      "Accuracy: 0.367\n",
      "Accuracy: 0.167\n",
      "Accuracy: 0.5\n",
      "Accuracy: 0.2\n",
      "Accuracy: 0.367\n"
     ]
    }
   ],
   "source": [
    "X = \"stratified\"\n",
    "\n",
    "dummy_clf = DummyClassifier(strategy= X)\n",
    "# Random and Stratified splits return the indexes of the data points (X or Y)\n",
    "# and not the data point itself\n",
    "print('Strategy:\\033[1m', 'stratified','\\033[0m')\n",
    "for train_index, test_index in stratified_split.split(data.data, data.target):\n",
    "    dummy_clf.fit(data.data[train_index], data.target[train_index])\n",
    "    dummy_clf.predict(data.data[test_index])\n",
    "    accuracy = dummy_clf.score(data.data[test_index], data.target[test_index])\n",
    "\n",
    "    print(\"Accuracy: {:.3}\".format(accuracy))"
   ]
  },
  {
   "cell_type": "markdown",
   "metadata": {
    "slideshow": {
     "slide_type": "slide"
    }
   },
   "source": [
    "#### 3.3.3. Better Classification Report\n",
    "\n",
    "scikit-learn provides functions to report more informative performance values using [`classification_report`](https://scikit-learn.org/stable/modules/generated/sklearn.metrics.classification_report.html)."
   ]
  },
  {
   "cell_type": "code",
   "execution_count": 143,
   "metadata": {
    "slideshow": {
     "slide_type": "fragment"
    }
   },
   "outputs": [
    {
     "name": "stdout",
     "output_type": "stream",
     "text": [
      "              precision    recall  f1-score   support\n",
      "\n",
      "      setosa       1.00      1.00      1.00        10\n",
      "  versicolor       0.91      1.00      0.95        10\n",
      "   virginica       1.00      0.90      0.95        10\n",
      "\n",
      "    accuracy                           0.97        30\n",
      "   macro avg       0.97      0.97      0.97        30\n",
      "weighted avg       0.97      0.97      0.97        30\n",
      "\n",
      "              precision    recall  f1-score   support\n",
      "\n",
      "      setosa       1.00      1.00      1.00        10\n",
      "  versicolor       1.00      1.00      1.00        10\n",
      "   virginica       1.00      1.00      1.00        10\n",
      "\n",
      "    accuracy                           1.00        30\n",
      "   macro avg       1.00      1.00      1.00        30\n",
      "weighted avg       1.00      1.00      1.00        30\n",
      "\n",
      "              precision    recall  f1-score   support\n",
      "\n",
      "      setosa       1.00      1.00      1.00        10\n",
      "  versicolor       1.00      0.90      0.95        10\n",
      "   virginica       0.91      1.00      0.95        10\n",
      "\n",
      "    accuracy                           0.97        30\n",
      "   macro avg       0.97      0.97      0.97        30\n",
      "weighted avg       0.97      0.97      0.97        30\n",
      "\n",
      "              precision    recall  f1-score   support\n",
      "\n",
      "      setosa       1.00      1.00      1.00        10\n",
      "  versicolor       0.83      1.00      0.91        10\n",
      "   virginica       1.00      0.80      0.89        10\n",
      "\n",
      "    accuracy                           0.93        30\n",
      "   macro avg       0.94      0.93      0.93        30\n",
      "weighted avg       0.94      0.93      0.93        30\n",
      "\n",
      "              precision    recall  f1-score   support\n",
      "\n",
      "      setosa       1.00      1.00      1.00        10\n",
      "  versicolor       0.89      0.80      0.84        10\n",
      "   virginica       0.82      0.90      0.86        10\n",
      "\n",
      "    accuracy                           0.90        30\n",
      "   macro avg       0.90      0.90      0.90        30\n",
      "weighted avg       0.90      0.90      0.90        30\n",
      "\n"
     ]
    }
   ],
   "source": [
    "from sklearn.naive_bayes import GaussianNB\n",
    "from sklearn.metrics import classification_report\n",
    "\n",
    "# choose classification algorithm & initialize it\n",
    "clf = GaussianNB()\n",
    "\n",
    "# for each training/testing fold\n",
    "for train_index, test_index in stratified_split.split(data.data, data.target):\n",
    "    # train (fit) model\n",
    "    clf.fit(data.data[train_index], data.target[train_index])\n",
    "    # predict test labels\n",
    "    hyps = clf.predict(data.data[test_index])\n",
    "    refs = data.target[test_index]\n",
    "    \n",
    "    report = classification_report(refs, hyps, target_names=data.target_names)\n",
    "    \n",
    "    print(report)\n",
    "    "
   ]
  },
  {
   "cell_type": "markdown",
   "metadata": {
    "slideshow": {
     "slide_type": "slide"
    }
   },
   "source": [
    "#### 3.3.4. Cross-Validation Evaluation\n",
    "\n",
    "The cross-validation procedure and function of scikit-learn are described in [the documentation](https://scikit-learn.org/stable/modules/cross_validation.html)."
   ]
  },
  {
   "cell_type": "code",
   "execution_count": 144,
   "metadata": {
    "slideshow": {
     "slide_type": "fragment"
    }
   },
   "outputs": [
    {
     "name": "stdout",
     "output_type": "stream",
     "text": [
      "[0.93333333 0.96666667 0.93333333 0.93333333 1.        ]\n"
     ]
    }
   ],
   "source": [
    "from sklearn.naive_bayes import GaussianNB\n",
    "from sklearn.model_selection import cross_val_score\n",
    "\n",
    "# choose classification algorithm & initialize it\n",
    "clf = GaussianNB()\n",
    "# get scores\n",
    "scores = cross_val_score(clf, data.data, data.target, cv=5)\n",
    "\n",
    "print(scores)\n"
   ]
  },
  {
   "cell_type": "markdown",
   "metadata": {
    "slideshow": {
     "slide_type": "slide"
    }
   },
   "source": [
    "Cross-Validation using custom split and scoring."
   ]
  },
  {
   "cell_type": "code",
   "execution_count": 145,
   "metadata": {
    "slideshow": {
     "slide_type": "fragment"
    }
   },
   "outputs": [
    {
     "name": "stdout",
     "output_type": "stream",
     "text": [
      "0.9532497911445279\n"
     ]
    }
   ],
   "source": [
    "from sklearn.naive_bayes import GaussianNB\n",
    "from sklearn.model_selection import cross_validate\n",
    "\n",
    "# choose classification algorithm & initialize it\n",
    "clf = GaussianNB()\n",
    "# scoring providing our custom split & scoring using \n",
    "scores = cross_validate(clf, data.data, data.target, cv=stratified_split, scoring=['f1_macro'])\n",
    "\n",
    "print(sum(scores['test_f1_macro'])/len(scores['test_f1_macro']))\n"
   ]
  },
  {
   "cell_type": "markdown",
   "metadata": {
    "slideshow": {
     "slide_type": "slide"
    }
   },
   "source": [
    "#### Exercise\n",
    "- Read [documentation](https://scikit-learn.org/stable/modules/model_evaluation.html)\n",
    "- Try different evaluation scores\n",
    "    - For instance, change f1_macro with f1_micro or f1_weighted"
   ]
  },
  {
   "cell_type": "code",
   "execution_count": 146,
   "metadata": {},
   "outputs": [
    {
     "name": "stdout",
     "output_type": "stream",
     "text": [
      "Scoring metric: \u001B[1m f1_macro \u001B[0m\n",
      "0.9599665831244778\n",
      "\n",
      "Scoring metric: \u001B[1m f1_micro \u001B[0m\n",
      "0.9533333333333334\n",
      "\n",
      "Scoring metric: \u001B[1m f1_weighted \u001B[0m\n",
      "0.9530472646262119\n",
      "\n"
     ]
    }
   ],
   "source": [
    "from sklearn.naive_bayes import GaussianNB\n",
    "from sklearn.model_selection import cross_validate\n",
    "\n",
    "\n",
    "clf = GaussianNB()\n",
    "\n",
    "for scoring_metric in ['f1_macro', 'f1_micro', 'f1_weighted']:\n",
    "    scores = cross_validate(clf, data.data, data.target, cv=stratified_split, scoring=[scoring_metric])\n",
    "    print('Scoring metric: \\033[1m', scoring_metric, '\\033[0m')\n",
    "    print(sum(scores['test_'+scoring_metric])/len(scores['test_'+scoring_metric]))\n",
    "    print('')"
   ]
  },
  {
   "cell_type": "markdown",
   "metadata": {
    "slideshow": {
     "slide_type": "slide"
    }
   },
   "source": [
    "### 3.4. Vectorizing Text\n",
    "\n",
    "> The raw data, a sequence of symbols cannot be fed directly to the algorithms themselves as most of them expect numerical feature vectors with a fixed size rather than the raw text documents with variable length.\n",
    "\n",
    "Consequently, the additional step that **text classification** requires is vectorization that converts text into a vector of numerical values. `scikit-learn` provides several vectorization methods in `sklearn.feature_extraction` [module](https://scikit-learn.org/stable/modules/feature_extraction.html#text-feature-extraction). Most commonly used ones are:\n",
    "\n",
    "- Count Vectorization\n",
    "- TF-IDF Vectorization\n",
    "\n",
    "Problem:\n",
    "    - We need to covert the string e.g. 'Hello World' into a matrix in which the rows are the vectors that represent the words. The the word-vector dimensionality, i.e. the number of columns, depends on the encoding method.\n",
    "   \n",
    "Result: \n",
    "```\n",
    "      [\n",
    " Hello [0, 1],\n",
    " World [1, 0],\n",
    "      ]\n",
    "```"
   ]
  },
  {
   "cell_type": "markdown",
   "metadata": {
    "slideshow": {
     "slide_type": "slide"
    }
   },
   "source": [
    "#### 3.4.1. Bag-of-Words Representation\n",
    "\n",
    "[Count Vectorization](https://scikit-learn.org/stable/modules/generated/sklearn.feature_extraction.text.CountVectorizer.html) implements the following vectorization procedure. \n",
    "\n",
    "- *tokenizing* strings and giving an integer id for each possible token, for instance by using white-spaces and punctuation as token separators.\n",
    "\n",
    "- *counting* the occurrences of tokens in each document.\n",
    "\n",
    "- *normalizing* and *weighting* with diminishing importance tokens that occur in the majority of samples / documents.\n",
    "\n",
    "Each token is considered to be a __feature__ and the vector of all the token frequencies for a given document is considered a multivariate __sample__. Consequently, a corpus of documents is represented by a matrix with one row per document and one column per token (e.g. word) occurring in the corpus.\n",
    "\n",
    "> If you do not provide an a-priori dictionary and you do not use an analyzer that does some kind of feature selection then the number of features will be equal to the vocabulary size found by analyzing the data."
   ]
  },
  {
   "cell_type": "markdown",
   "metadata": {
    "slideshow": {
     "slide_type": "slide"
    }
   },
   "source": [
    "The [`CountVectorizer`](https://scikit-learn.org/stable/modules/generated/sklearn.feature_extraction.text.CountVectorizer.html) implements both tokenization and occurrence counting in a single class, and it is possible to provide many parameters. \n",
    "\n",
    "It can take an external preprocessor or perform the following preprocessing steps (read documentation for details):\n",
    "\n",
    "- __strip_accents__: remove accents and perform other character normalization during the preprocessing step.\n",
    "- __lowercase__: convert all characters to lowercase before tokenizing.\n",
    "- __stop_words__: apply a built-in stop word list for English is used. \n",
    "- __token_pattern__: regular expression denoting what constitutes a *token* for tokenization\n",
    "- __ngram_range__: The lower and upper boundary of the range of n-values for different word n-grams or char n-grams to be extracted. (We will see ngrams the next lab)\n",
    "- __max_df__: maximum frequency cut-off: When building the vocabulary ignore terms that have a document frequency strictly higher than the given threshold (corpus-specific stop words). \n",
    "- __min_df__: minimum frequency cut-off: When building the vocabulary ignore terms that have a document frequency strictly lower than the given threshold. \n",
    "- __vocabulary__: externally provided vocabulary\n",
    "- __binary__: If True, all non zero counts are set to 1. This is useful for discrete probabilistic models that model binary events rather than integer counts."
   ]
  },
  {
   "cell_type": "markdown",
   "metadata": {
    "slideshow": {
     "slide_type": "slide"
    }
   },
   "source": [
    "#### 3.4.2. [TF-IDF Vectorization](https://scikit-learn.org/stable/modules/generated/sklearn.feature_extraction.text.TfidfVectorizer.html)  \n",
    "TF-IDF Vectorization = Count Vectorization + TF-IDF Transformation\n",
    "\n",
    "> Transforms a count matrix to a normalized tf or tf-idf representation\n",
    "\n",
    "> __Tf__ means term-frequency while __tf-idf__ means term-frequency times inverse document-frequency. This is a common term weighting scheme in information retrieval, that has also found good use in document classification.\n",
    "\n",
    "> The goal of using tf-idf instead of the raw frequencies of occurrence of a token in a given document is to scale down the impact of tokens that occur very frequently in a given corpus and that are hence empirically less informative than features that occur in a small fraction of the training corpus.\n",
    "\n",
    "(Please refer to the documentation for the transformation formulas)."
   ]
  },
  {
   "cell_type": "markdown",
   "metadata": {
    "slideshow": {
     "slide_type": "slide"
    }
   },
   "source": [
    "#### 3.4.3. Vectorization Example"
   ]
  },
  {
   "cell_type": "code",
   "execution_count": 147,
   "metadata": {
    "slideshow": {
     "slide_type": "slide"
    }
   },
   "outputs": [
    {
     "name": "stdout",
     "output_type": "stream",
     "text": [
      "[[0 0 0 0 0 0 0 0 0 0 0 1 0 1 0 0 0 0 1 1 0 1 0 0 1 0 1 0 1]\n",
      " [0 0 1 0 0 0 0 0 1 0 1 0 0 0 0 0 0 0 0 0 0 0 0 1 0 1 0 0 0]\n",
      " [1 0 0 0 1 0 0 0 0 0 0 0 1 0 1 0 0 0 0 0 0 0 0 0 0 2 0 1 1]\n",
      " [0 1 0 0 0 1 1 0 0 1 0 0 0 0 0 1 1 0 0 0 0 0 1 0 0 3 0 0 0]\n",
      " [0 0 0 1 0 0 0 1 0 0 0 0 0 0 0 0 0 1 0 1 1 0 0 0 0 0 0 0 1]]\n"
     ]
    }
   ],
   "source": [
    "from sklearn.feature_extraction.text import CountVectorizer\n",
    "\n",
    "corpus = [\n",
    "    'who plays luke on star wars new hope',\n",
    "    'show credits for the godfather',\n",
    "    'who was the main actor in the exorcist',\n",
    "    'find the female actress from the movie she \\'s the man',\n",
    "    'who played dory on finding nemo'\n",
    "]\n",
    "\n",
    "vectorizer = CountVectorizer()\n",
    "\n",
    "# use fit_transform to 'learn' the features and vectorize the data\n",
    "vectors = vectorizer.fit_transform(corpus)\n",
    "\n",
    "print(vectors.toarray())  # print numpy vectors\n",
    "\n",
    "# To print the labels of the columns\n",
    "#print(vectorizer.get_feature_names())\n",
    "# or\n",
    "#print(vectorizer.get_feature_names_out())"
   ]
  },
  {
   "cell_type": "code",
   "execution_count": 148,
   "metadata": {
    "slideshow": {
     "slide_type": "fragment"
    }
   },
   "outputs": [
    {
     "name": "stdout",
     "output_type": "stream",
     "text": [
      "[[0 0 0 0 0 1 0 0 0 0 0 0 1 0 0 0 0 0 0 0 0 0 0 0 0 1 0 1 1]\n",
      " [0 0 0 0 0 0 0 0 0 0 0 0 1 0 0 0 0 0 0 0 1 0 0 0 0 0 0 0 1]]\n"
     ]
    }
   ],
   "source": [
    "test_corpus = [\n",
    "    'who was the female lead in resident evil',\n",
    "    'who played guido in life is beautiful'\n",
    "]\n",
    "\n",
    "# 'trained' vectorizer can be later used to transform the test set \n",
    "test_vectors = vectorizer.transform(test_corpus)\n",
    "print(test_vectors.toarray())"
   ]
  },
  {
   "cell_type": "markdown",
   "metadata": {
    "slideshow": {
     "slide_type": "slide"
    }
   },
   "source": [
    "## Lab Exercise: Text Classification\n",
    "\n",
    "- Using Newsgroup dataset from `scikit-learn` train and evaluate Linear SVM (LinearSVC) model\n",
    "- Experiment with different vectorization methods and parameters, experiment_id in parentheses (e.g. CounVector, CutOff, etc.):\n",
    "    - `binary` of Count Vectorization (CountVect)\n",
    "    - TF-IDF Transformation (TF-IDF)\n",
    "    - Using TF-IDF\n",
    "        - min and max cut-offs (CutOff)\n",
    "        - wihtout stop-words (WithoutStopWords)\n",
    "        - without lowercasing (NoLowercase)\n",
    " \n",
    "To print the results:\n",
    "print(experiment_id, the most appropriate score metric to report))\n",
    "\n",
    "**Note**:\n",
    "If the SVM doesn't converge play with the $C$ hyperparameter (starting from a low value).\n"
   ]
  },
  {
   "cell_type": "markdown",
   "metadata": {},
   "source": [
    "# Solution"
   ]
  },
  {
   "cell_type": "markdown",
   "metadata": {},
   "source": [
    "# 1 Using Newsgroup dataset from `scikit-learn` train and evaluate Linear SVM (LinearSVC) model"
   ]
  },
  {
   "cell_type": "code",
   "execution_count": 149,
   "metadata": {},
   "outputs": [],
   "source": [
    "from sklearn.datasets import fetch_20newsgroups  # 20 newsgroups dataset\n",
    "from sklearn.svm import LinearSVC  # Linear SVM model (SVC)"
   ]
  },
  {
   "cell_type": "markdown",
   "metadata": {},
   "source": [
    "## 1.1 Loading and Inspecting a Dataset"
   ]
  },
  {
   "cell_type": "code",
   "execution_count": 150,
   "metadata": {},
   "outputs": [],
   "source": [
    "# Load the dataset\n",
    "data = fetch_20newsgroups(subset='all', shuffle=True)"
   ]
  },
  {
   "cell_type": "code",
   "execution_count": 150,
   "metadata": {},
   "outputs": [],
   "source": []
  },
  {
   "cell_type": "code",
   "execution_count": 151,
   "metadata": {},
   "outputs": [
    {
     "name": "stdout",
     "output_type": "stream",
     "text": [
      "Number of samples:  18846\n",
      "Number of classes:  20\n",
      "Class names:  ['alt.atheism', 'comp.graphics', 'comp.os.ms-windows.misc', 'comp.sys.ibm.pc.hardware', 'comp.sys.mac.hardware', 'comp.windows.x', 'misc.forsale', 'rec.autos', 'rec.motorcycles', 'rec.sport.baseball', 'rec.sport.hockey', 'sci.crypt', 'sci.electronics', 'sci.med', 'sci.space', 'soc.religion.christian', 'talk.politics.guns', 'talk.politics.mideast', 'talk.politics.misc', 'talk.religion.misc']\n"
     ]
    }
   ],
   "source": [
    "# Inspect the dataset\n",
    "# no. of samples\n",
    "print(\"Number of samples: \", len(data.data))\n",
    "\n",
    "# no. of classes\n",
    "print(\"Number of classes: \", len(data.target_names))\n",
    "\n",
    "# class names\n",
    "print(\"Class names: \", data.target_names)"
   ]
  },
  {
   "cell_type": "code",
   "execution_count": 152,
   "metadata": {},
   "outputs": [
    {
     "name": "stdout",
     "output_type": "stream",
     "text": [
      "Samples per class: {10: 999, 3: 982, 17: 940, 4: 963, 12: 984, 19: 628, 11: 991, 13: 990, 0: 799, 8: 996, 7: 990, 5: 988, 1: 973, 14: 987, 16: 910, 6: 975, 9: 994, 18: 775, 2: 985, 15: 997}\n"
     ]
    }
   ],
   "source": [
    "# sample per class distribution\n",
    "print(\"Samples per class: {}\".format(dict(Counter(list(data.target)))))"
   ]
  },
  {
   "cell_type": "code",
   "execution_count": 153,
   "metadata": {},
   "outputs": [
    {
     "name": "stdout",
     "output_type": "stream",
     "text": [
      "First sample features: From: Mamatha Devineni Ratnam <mr47+@andrew.cmu.edu>\n",
      "Subject: Pens fans reactions\n",
      "Organization: Post Office, Carnegie Mellon, Pittsburgh, PA\n",
      "Lines: 12\n",
      "NNTP-Posting-Host: po4.andrew.cmu.edu\n",
      "\n",
      "\n",
      "\n",
      "I am sure some bashers of Pens fans are pretty confused about the lack\n",
      "of any kind of posts about the recent Pens massacre of the Devils. Actually,\n",
      "I am  bit puzzled too and a bit relieved. However, I am going to put an end\n",
      "to non-PIttsburghers' relief with a bit of praise for the Pens. Man, they\n",
      "are killing those Devils worse than I thought. Jagr just showed you why\n",
      "he is much better than his regular season stats. He is also a lot\n",
      "fo fun to watch in the playoffs. Bowman should let JAgr have a lot of\n",
      "fun in the next couple of games since the Pens are going to beat the pulp out of Jersey anyway. I was very disappointed not to see the Islanders lose the final\n",
      "regular season game.          PENS RULE!!!\n",
      "\n",
      "\n"
     ]
    }
   ],
   "source": [
    "# print the first sample features\n",
    "print(\"First sample features: {}\".format(data.data[0]))"
   ]
  },
  {
   "cell_type": "code",
   "execution_count": 154,
   "metadata": {},
   "outputs": [
    {
     "name": "stdout",
     "output_type": "stream",
     "text": [
      "Labels: [10  3 17 ...  3  1  7]\n"
     ]
    }
   ],
   "source": [
    "# print the labels\n",
    "print(\"Labels: {}\".format(data.target))"
   ]
  },
  {
   "cell_type": "code",
   "execution_count": 155,
   "metadata": {},
   "outputs": [
    {
     "name": "stdout",
     "output_type": "stream",
     "text": [
      "First sample label: 10\n"
     ]
    }
   ],
   "source": [
    "# print the first sample label\n",
    "print(\"First sample label: {}\".format(data.target[0]))"
   ]
  },
  {
   "cell_type": "code",
   "execution_count": 156,
   "metadata": {},
   "outputs": [
    {
     "name": "stdout",
     "output_type": "stream",
     "text": [
      "First sample class name: rec.sport.hockey\n"
     ]
    }
   ],
   "source": [
    "# print the first sample class name\n",
    "print(\"First sample class name: {}\".format(data.target_names[data.target[0]]))"
   ]
  },
  {
   "cell_type": "markdown",
   "metadata": {},
   "source": [
    "## 1.2 Splitting the Dataset"
   ]
  },
  {
   "cell_type": "code",
   "execution_count": 157,
   "metadata": {},
   "outputs": [
    {
     "name": "stdout",
     "output_type": "stream",
     "text": [
      "Number of splits:  5\n",
      "Number of Train samples in the first split:  15076\n",
      "Number of Test samples in the first split:  3770\n"
     ]
    }
   ],
   "source": [
    "# Split the dataset using k-fold cross-validation (k=5) and stratified CV\n",
    "from sklearn.model_selection import StratifiedKFold\n",
    "\n",
    "# 5-fold cross-validation\n",
    "stratified_kfold = StratifiedKFold(n_splits=5, shuffle=True, random_state=42)\n",
    "\n",
    "# split the dataset\n",
    "stratified_split = stratified_kfold.split(data.data, data.target)\n",
    "\n",
    "split_train = []\n",
    "split_test = []\n",
    "\n",
    "# get the splits\n",
    "for train_index, test_index in stratified_kfold.split(data.data, data.target):\n",
    "    split_train.append(train_index)\n",
    "    split_test.append(test_index)\n",
    "\n",
    "print(\"Number of splits: \", len(split_train))\n",
    "print(\"Number of Train samples in the first split: \", len(split_train[0]))\n",
    "print(\"Number of Test samples in the first split: \", len(split_test[0]))"
   ]
  },
  {
   "cell_type": "code",
   "execution_count": 158,
   "metadata": {},
   "outputs": [
    {
     "data": {
      "image/png": "[encoded data removed]",
      "text/plain": [
       "<Figure size 1000x500 with 2 Axes>"
      ]
     },
     "metadata": {},
     "output_type": "display_data"
    }
   ],
   "source": [
    "# distribution of the train and test sets\n",
    "import matplotlib.pyplot as plt\n",
    "\n",
    "plt.figure(figsize=(10, 5))\n",
    "\n",
    "plt.subplot(1, 2, 1)\n",
    "plt.hist(data.target[split_train[0]])\n",
    "plt.title(\"Train set\")\n",
    "\n",
    "plt.subplot(1, 2, 2)\n",
    "plt.hist(data.target[split_test[0]])\n",
    "plt.title(\"Test set\")\n",
    "\n",
    "plt.show()"
   ]
  },
  {
   "cell_type": "markdown",
   "metadata": {},
   "source": [
    "## 1.3 Vectorization"
   ]
  },
  {
   "cell_type": "code",
   "execution_count": 159,
   "metadata": {},
   "outputs": [
    {
     "name": "stdout",
     "output_type": "stream",
     "text": [
      "[[0 0 0 ... 0 0 0]\n",
      " [0 0 0 ... 0 0 0]\n",
      " [0 0 0 ... 0 0 0]\n",
      " ...\n",
      " [0 0 0 ... 0 0 0]\n",
      " [0 0 0 ... 0 0 0]\n",
      " [0 0 0 ... 0 0 0]]\n"
     ]
    }
   ],
   "source": [
    "from sklearn.feature_extraction.text import CountVectorizer\n",
    "\n",
    "# Count Vectorization\n",
    "vectorizer = CountVectorizer()\n",
    "\n",
    "# use fit_transform to 'learn' the features and vectorize the data\n",
    "vectors = vectorizer.fit_transform(data.data)\n",
    "\n",
    "print(vectors.toarray())  # print numpy vectors"
   ]
  },
  {
   "cell_type": "markdown",
   "metadata": {},
   "source": [
    "## 1.4 Training and Evaluation"
   ]
  },
  {
   "cell_type": "code",
   "execution_count": 160,
   "metadata": {},
   "outputs": [
    {
     "name": "stderr",
     "output_type": "stream",
     "text": [
      "C:\\Users\\adnan\\anaconda3\\envs\\NLU-LABs-venv\\lib\\site-packages\\sklearn\\svm\\_base.py:1244: ConvergenceWarning: Liblinear failed to converge, increase the number of iterations.\n",
      "  warnings.warn(\n"
     ]
    },
    {
     "name": "stdout",
     "output_type": "stream",
     "text": [
      "\u001B[1m Split :  0 \u001B[0m\n",
      "              precision    recall  f1-score   support\n",
      "\n",
      "           0       0.92      0.88      0.90       160\n",
      "           1       0.81      0.74      0.77       195\n",
      "           2       0.85      0.84      0.84       197\n",
      "           3       0.80      0.78      0.79       197\n",
      "           4       0.82      0.85      0.83       192\n",
      "           5       0.88      0.87      0.87       197\n",
      "           6       0.86      0.86      0.86       195\n",
      "           7       0.88      0.92      0.90       198\n",
      "           8       0.95      0.97      0.96       199\n",
      "           9       0.95      0.94      0.95       199\n",
      "          10       0.98      0.98      0.98       200\n",
      "          11       0.94      0.93      0.93       198\n",
      "          12       0.83      0.85      0.84       197\n",
      "          13       0.91      0.95      0.93       198\n",
      "          14       0.92      0.92      0.92       197\n",
      "          15       0.89      0.96      0.93       200\n",
      "          16       0.93      0.92      0.93       182\n",
      "          17       0.94      0.97      0.96       188\n",
      "          18       0.92      0.86      0.89       155\n",
      "          19       0.85      0.78      0.81       126\n",
      "\n",
      "    accuracy                           0.89      3770\n",
      "   macro avg       0.89      0.89      0.89      3770\n",
      "weighted avg       0.89      0.89      0.89      3770\n",
      "\n",
      "\n"
     ]
    },
    {
     "name": "stderr",
     "output_type": "stream",
     "text": [
      "C:\\Users\\adnan\\anaconda3\\envs\\NLU-LABs-venv\\lib\\site-packages\\sklearn\\svm\\_base.py:1244: ConvergenceWarning: Liblinear failed to converge, increase the number of iterations.\n",
      "  warnings.warn(\n"
     ]
    },
    {
     "name": "stdout",
     "output_type": "stream",
     "text": [
      "\u001B[1m Split :  1 \u001B[0m\n",
      "              precision    recall  f1-score   support\n",
      "\n",
      "           0       0.94      0.91      0.92       159\n",
      "           1       0.83      0.87      0.85       195\n",
      "           2       0.84      0.83      0.84       197\n",
      "           3       0.82      0.81      0.81       196\n",
      "           4       0.87      0.88      0.87       193\n",
      "           5       0.88      0.85      0.87       197\n",
      "           6       0.87      0.87      0.87       195\n",
      "           7       0.91      0.93      0.92       198\n",
      "           8       0.95      0.96      0.96       200\n",
      "           9       0.91      0.97      0.94       199\n",
      "          10       0.96      0.96      0.96       200\n",
      "          11       0.98      0.94      0.96       199\n",
      "          12       0.83      0.87      0.85       197\n",
      "          13       0.90      0.91      0.91       198\n",
      "          14       0.94      0.92      0.93       197\n",
      "          15       0.91      0.91      0.91       199\n",
      "          16       0.92      0.91      0.91       182\n",
      "          17       0.95      0.99      0.97       188\n",
      "          18       0.89      0.83      0.86       155\n",
      "          19       0.88      0.82      0.85       125\n",
      "\n",
      "    accuracy                           0.90      3769\n",
      "   macro avg       0.90      0.90      0.90      3769\n",
      "weighted avg       0.90      0.90      0.90      3769\n",
      "\n",
      "\n"
     ]
    },
    {
     "name": "stderr",
     "output_type": "stream",
     "text": [
      "C:\\Users\\adnan\\anaconda3\\envs\\NLU-LABs-venv\\lib\\site-packages\\sklearn\\svm\\_base.py:1244: ConvergenceWarning: Liblinear failed to converge, increase the number of iterations.\n",
      "  warnings.warn(\n"
     ]
    },
    {
     "name": "stdout",
     "output_type": "stream",
     "text": [
      "\u001B[1m Split :  2 \u001B[0m\n",
      "              precision    recall  f1-score   support\n",
      "\n",
      "           0       0.89      0.91      0.90       160\n",
      "           1       0.83      0.78      0.81       195\n",
      "           2       0.87      0.84      0.86       197\n",
      "           3       0.78      0.79      0.78       196\n",
      "           4       0.86      0.82      0.84       193\n",
      "           5       0.89      0.85      0.87       198\n",
      "           6       0.86      0.86      0.86       195\n",
      "           7       0.91      0.94      0.93       198\n",
      "           8       0.92      0.96      0.94       199\n",
      "           9       0.96      0.94      0.95       199\n",
      "          10       0.97      0.97      0.97       200\n",
      "          11       0.93      0.96      0.95       198\n",
      "          12       0.80      0.85      0.82       197\n",
      "          13       0.90      0.95      0.92       198\n",
      "          14       0.94      0.96      0.95       197\n",
      "          15       0.94      0.92      0.93       199\n",
      "          16       0.90      0.93      0.91       182\n",
      "          17       0.94      0.96      0.95       188\n",
      "          18       0.92      0.85      0.88       155\n",
      "          19       0.87      0.78      0.82       125\n",
      "\n",
      "    accuracy                           0.89      3769\n",
      "   macro avg       0.89      0.89      0.89      3769\n",
      "weighted avg       0.89      0.89      0.89      3769\n",
      "\n",
      "\n"
     ]
    },
    {
     "name": "stderr",
     "output_type": "stream",
     "text": [
      "C:\\Users\\adnan\\anaconda3\\envs\\NLU-LABs-venv\\lib\\site-packages\\sklearn\\svm\\_base.py:1244: ConvergenceWarning: Liblinear failed to converge, increase the number of iterations.\n",
      "  warnings.warn(\n"
     ]
    },
    {
     "name": "stdout",
     "output_type": "stream",
     "text": [
      "\u001B[1m Split :  3 \u001B[0m\n",
      "              precision    recall  f1-score   support\n",
      "\n",
      "           0       0.91      0.89      0.90       160\n",
      "           1       0.76      0.81      0.78       194\n",
      "           2       0.84      0.79      0.81       197\n",
      "           3       0.76      0.78      0.77       196\n",
      "           4       0.90      0.85      0.87       193\n",
      "           5       0.85      0.86      0.86       198\n",
      "           6       0.82      0.84      0.83       195\n",
      "           7       0.90      0.91      0.90       198\n",
      "           8       0.95      0.91      0.93       199\n",
      "           9       0.93      0.95      0.94       199\n",
      "          10       0.98      0.98      0.98       200\n",
      "          11       0.96      0.92      0.94       198\n",
      "          12       0.82      0.82      0.82       196\n",
      "          13       0.91      0.91      0.91       198\n",
      "          14       0.95      0.95      0.95       198\n",
      "          15       0.91      0.93      0.92       199\n",
      "          16       0.92      0.94      0.93       182\n",
      "          17       0.97      0.98      0.98       188\n",
      "          18       0.90      0.92      0.91       155\n",
      "          19       0.86      0.83      0.85       126\n",
      "\n",
      "    accuracy                           0.89      3769\n",
      "   macro avg       0.89      0.89      0.89      3769\n",
      "weighted avg       0.89      0.89      0.89      3769\n",
      "\n",
      "\n",
      "\u001B[1m Split :  4 \u001B[0m\n",
      "              precision    recall  f1-score   support\n",
      "\n",
      "           0       0.90      0.86      0.88       160\n",
      "           1       0.81      0.87      0.84       194\n",
      "           2       0.82      0.79      0.80       197\n",
      "           3       0.77      0.78      0.77       197\n",
      "           4       0.81      0.89      0.85       192\n",
      "           5       0.90      0.85      0.88       198\n",
      "           6       0.85      0.88      0.86       195\n",
      "           7       0.92      0.86      0.89       198\n",
      "           8       0.96      0.94      0.95       199\n",
      "           9       0.96      0.93      0.95       198\n",
      "          10       0.96      0.96      0.96       199\n",
      "          11       0.96      0.95      0.96       198\n",
      "          12       0.84      0.86      0.85       197\n",
      "          13       0.90      0.91      0.90       198\n",
      "          14       0.96      0.93      0.94       198\n",
      "          15       0.88      0.94      0.91       200\n",
      "          16       0.91      0.95      0.93       182\n",
      "          17       0.97      0.97      0.97       188\n",
      "          18       0.92      0.85      0.88       155\n",
      "          19       0.84      0.77      0.80       126\n",
      "\n",
      "    accuracy                           0.89      3769\n",
      "   macro avg       0.89      0.89      0.89      3769\n",
      "weighted avg       0.89      0.89      0.89      3769\n",
      "\n",
      "\n"
     ]
    },
    {
     "name": "stderr",
     "output_type": "stream",
     "text": [
      "C:\\Users\\adnan\\anaconda3\\envs\\NLU-LABs-venv\\lib\\site-packages\\sklearn\\svm\\_base.py:1244: ConvergenceWarning: Liblinear failed to converge, increase the number of iterations.\n",
      "  warnings.warn(\n"
     ]
    }
   ],
   "source": [
    "from sklearn.metrics import classification_report\n",
    "\n",
    "# Linear SVM model\n",
    "model = LinearSVC()\n",
    "\n",
    "# train and evaluate the model\n",
    "for i in range(len(split_train)):\n",
    "    # train the model\n",
    "    model.fit(vectors[split_train[i]], data.target[split_train[i]])\n",
    "\n",
    "    # evaluate the model\n",
    "    y_pred = model.predict(vectors[split_test[i]])\n",
    "\n",
    "    # print the classification report\n",
    "    print('\\033[1m', 'Split : ', i, '\\033[0m')\n",
    "    print(classification_report(data.target[split_test[i]], y_pred))\n",
    "    print()"
   ]
  },
  {
   "cell_type": "code",
   "execution_count": 160,
   "metadata": {},
   "outputs": [],
   "source": []
  },
  {
   "cell_type": "code",
   "execution_count": 161,
   "metadata": {},
   "outputs": [
    {
     "name": "stdout",
     "output_type": "stream",
     "text": [
      "\u001B[1m Split :  0 \u001B[0m\n",
      "              precision    recall  f1-score   support\n",
      "\n",
      "           0       0.85      0.86      0.85       160\n",
      "           1       0.74      0.66      0.70       195\n",
      "           2       0.74      0.80      0.77       197\n",
      "           3       0.74      0.64      0.69       197\n",
      "           4       0.82      0.73      0.77       192\n",
      "           5       0.79      0.85      0.82       197\n",
      "           6       0.54      0.89      0.67       195\n",
      "           7       0.89      0.84      0.87       198\n",
      "           8       0.89      0.93      0.91       199\n",
      "           9       0.89      0.85      0.87       199\n",
      "          10       0.87      0.94      0.90       200\n",
      "          11       0.91      0.91      0.91       198\n",
      "          12       0.86      0.69      0.76       197\n",
      "          13       0.85      0.87      0.86       198\n",
      "          14       0.87      0.92      0.89       197\n",
      "          15       0.84      0.94      0.89       200\n",
      "          16       0.86      0.88      0.87       182\n",
      "          17       0.92      0.91      0.92       188\n",
      "          18       0.92      0.74      0.82       155\n",
      "          19       0.81      0.37      0.50       126\n",
      "\n",
      "    accuracy                           0.82      3770\n",
      "   macro avg       0.83      0.81      0.81      3770\n",
      "weighted avg       0.83      0.82      0.82      3770\n",
      "\n",
      "\n",
      "\u001B[1m Split :  1 \u001B[0m\n",
      "              precision    recall  f1-score   support\n",
      "\n",
      "           0       0.86      0.82      0.84       159\n",
      "           1       0.67      0.72      0.69       195\n",
      "           2       0.80      0.77      0.79       197\n",
      "           3       0.77      0.70      0.74       196\n",
      "           4       0.86      0.81      0.84       193\n",
      "           5       0.77      0.74      0.75       197\n",
      "           6       0.59      0.90      0.72       195\n",
      "           7       0.90      0.88      0.89       198\n",
      "           8       0.86      0.85      0.86       200\n",
      "           9       0.88      0.87      0.88       199\n",
      "          10       0.84      0.94      0.88       200\n",
      "          11       0.89      0.91      0.90       199\n",
      "          12       0.84      0.65      0.73       197\n",
      "          13       0.84      0.79      0.81       198\n",
      "          14       0.85      0.87      0.86       197\n",
      "          15       0.80      0.90      0.84       199\n",
      "          16       0.80      0.88      0.84       182\n",
      "          17       0.89      0.96      0.93       188\n",
      "          18       0.85      0.68      0.76       155\n",
      "          19       0.89      0.46      0.60       125\n",
      "\n",
      "    accuracy                           0.81      3769\n",
      "   macro avg       0.82      0.81      0.81      3769\n",
      "weighted avg       0.82      0.81      0.81      3769\n",
      "\n",
      "\n",
      "\u001B[1m Split :  2 \u001B[0m\n",
      "              precision    recall  f1-score   support\n",
      "\n",
      "           0       0.82      0.88      0.85       160\n",
      "           1       0.73      0.65      0.69       195\n",
      "           2       0.79      0.78      0.78       197\n",
      "           3       0.77      0.68      0.73       196\n",
      "           4       0.83      0.79      0.81       193\n",
      "           5       0.81      0.83      0.82       198\n",
      "           6       0.58      0.89      0.70       195\n",
      "           7       0.88      0.82      0.85       198\n",
      "           8       0.83      0.89      0.86       199\n",
      "           9       0.87      0.85      0.86       199\n",
      "          10       0.88      0.94      0.91       200\n",
      "          11       0.91      0.92      0.92       198\n",
      "          12       0.80      0.70      0.75       197\n",
      "          13       0.87      0.86      0.87       198\n",
      "          14       0.88      0.93      0.90       197\n",
      "          15       0.82      0.90      0.86       199\n",
      "          16       0.86      0.89      0.88       182\n",
      "          17       0.93      0.94      0.93       188\n",
      "          18       0.94      0.76      0.84       155\n",
      "          19       0.88      0.39      0.54       125\n",
      "\n",
      "    accuracy                           0.82      3769\n",
      "   macro avg       0.83      0.82      0.82      3769\n",
      "weighted avg       0.83      0.82      0.82      3769\n",
      "\n",
      "\n",
      "\u001B[1m Split :  3 \u001B[0m\n",
      "              precision    recall  f1-score   support\n",
      "\n",
      "           0       0.82      0.84      0.83       160\n",
      "           1       0.68      0.71      0.70       194\n",
      "           2       0.74      0.70      0.72       197\n",
      "           3       0.70      0.65      0.67       196\n",
      "           4       0.83      0.71      0.77       193\n",
      "           5       0.83      0.80      0.82       198\n",
      "           6       0.51      0.89      0.65       195\n",
      "           7       0.86      0.85      0.86       198\n",
      "           8       0.84      0.87      0.86       199\n",
      "           9       0.87      0.88      0.87       199\n",
      "          10       0.87      0.94      0.90       200\n",
      "          11       0.92      0.89      0.90       198\n",
      "          12       0.84      0.65      0.73       196\n",
      "          13       0.84      0.74      0.79       198\n",
      "          14       0.85      0.91      0.88       198\n",
      "          15       0.88      0.92      0.90       199\n",
      "          16       0.82      0.87      0.85       182\n",
      "          17       0.93      0.93      0.93       188\n",
      "          18       0.88      0.77      0.82       155\n",
      "          19       0.91      0.46      0.61       126\n",
      "\n",
      "    accuracy                           0.80      3769\n",
      "   macro avg       0.82      0.80      0.80      3769\n",
      "weighted avg       0.82      0.80      0.80      3769\n",
      "\n",
      "\n",
      "\u001B[1m Split :  4 \u001B[0m\n",
      "              precision    recall  f1-score   support\n",
      "\n",
      "           0       0.82      0.79      0.81       160\n",
      "           1       0.68      0.69      0.69       194\n",
      "           2       0.77      0.77      0.77       197\n",
      "           3       0.72      0.64      0.68       197\n",
      "           4       0.83      0.79      0.81       192\n",
      "           5       0.79      0.78      0.78       198\n",
      "           6       0.56      0.89      0.69       195\n",
      "           7       0.88      0.80      0.84       198\n",
      "           8       0.82      0.87      0.84       199\n",
      "           9       0.87      0.82      0.84       198\n",
      "          10       0.87      0.93      0.90       199\n",
      "          11       0.90      0.92      0.91       198\n",
      "          12       0.87      0.66      0.75       197\n",
      "          13       0.82      0.85      0.83       198\n",
      "          14       0.84      0.90      0.87       198\n",
      "          15       0.80      0.91      0.85       200\n",
      "          16       0.85      0.90      0.87       182\n",
      "          17       0.91      0.90      0.90       188\n",
      "          18       0.88      0.73      0.80       155\n",
      "          19       0.85      0.40      0.54       126\n",
      "\n",
      "    accuracy                           0.80      3769\n",
      "   macro avg       0.82      0.80      0.80      3769\n",
      "weighted avg       0.81      0.80      0.80      3769\n",
      "\n",
      "\n"
     ]
    }
   ],
   "source": [
    "# Linear SVM model\n",
    "model = LinearSVC(C=0.0001)\n",
    "\n",
    "# train and evaluate the model\n",
    "for i in range(len(split_train)):\n",
    "    # train the model\n",
    "    model.fit(vectors[split_train[i]], data.target[split_train[i]])\n",
    "\n",
    "    # evaluate the model\n",
    "    y_pred = model.predict(vectors[split_test[i]])\n",
    "\n",
    "    # print the classification report\n",
    "    print('\\033[1m', 'Split : ', i, '\\033[0m')\n",
    "    print(classification_report(data.target[split_test[i]], y_pred))\n",
    "    print()"
   ]
  },
  {
   "cell_type": "markdown",
   "metadata": {},
   "source": [
    "## 1.5 Cross-Validation Evaluation"
   ]
  },
  {
   "cell_type": "code",
   "execution_count": 162,
   "metadata": {},
   "outputs": [
    {
     "name": "stdout",
     "output_type": "stream",
     "text": [
      "\u001B[1m F1_MACRO \u001B[0m : 0.81\n",
      "\u001B[1m F1_MICRO \u001B[0m : 0.81\n",
      "\u001B[1m F1_WEIGHTED \u001B[0m : 0.81\n"
     ]
    }
   ],
   "source": [
    "from sklearn.model_selection import cross_validate\n",
    "\n",
    "# Linear SVM model\n",
    "model = LinearSVC(C=0.0001)\n",
    "\n",
    "# cross-validation evaluation\n",
    "for metric_score in ['f1_macro', 'f1_micro', 'f1_weighted']:\n",
    "    scores = cross_validate(model, vectors, data.target, cv=stratified_kfold, scoring=[metric_score])\n",
    "    print('\\033[1m', metric_score.upper(),'\\033[0m', ':',\n",
    "          round(sum(scores['test_' + metric_score])/len(scores['test_' + metric_score]), 2))"
   ]
  },
  {
   "cell_type": "code",
   "execution_count": null,
   "metadata": {},
   "outputs": [],
   "source": []
  },
  {
   "cell_type": "markdown",
   "metadata": {},
   "source": [
    "# 2 Experiment with different vectorization methods and parameters, experiment_id in parentheses (e.g. CounVector, CutOff, etc.):"
   ]
  },
  {
   "cell_type": "markdown",
   "metadata": {},
   "source": [
    "## 2.1 binary of Count Vectorization (CountVect)"
   ]
  },
  {
   "cell_type": "code",
   "execution_count": 163,
   "metadata": {},
   "outputs": [
    {
     "name": "stdout",
     "output_type": "stream",
     "text": [
      "[[0 0 0 ... 0 0 0]\n",
      " [0 0 0 ... 0 0 0]\n",
      " [0 0 0 ... 0 0 0]\n",
      " ...\n",
      " [0 0 0 ... 0 0 0]\n",
      " [0 0 0 ... 0 0 0]\n",
      " [0 0 0 ... 0 0 0]]\n"
     ]
    }
   ],
   "source": [
    "# Count Vectorization\n",
    "vectorizer = CountVectorizer(binary=True)\n",
    "\n",
    "# use fit_transform to 'learn' the features and vectorize the data\n",
    "vectors = vectorizer.fit_transform(data.data)\n",
    "\n",
    "print(vectors.toarray())  # print numpy vectors"
   ]
  },
  {
   "cell_type": "code",
   "execution_count": 164,
   "metadata": {},
   "outputs": [
    {
     "name": "stdout",
     "output_type": "stream",
     "text": [
      "\u001B[1m F1_MACRO \u001B[0m : 0.78\n",
      "\u001B[1m F1_MICRO \u001B[0m : 0.8\n",
      "\u001B[1m F1_WEIGHTED \u001B[0m : 0.79\n"
     ]
    }
   ],
   "source": [
    "# Linear SVM model\n",
    "model = LinearSVC(C=0.0001)\n",
    "\n",
    "# cross-validation evaluation\n",
    "for metric_score in ['f1_macro', 'f1_micro', 'f1_weighted']:\n",
    "    scores = cross_validate(model, vectors, data.target, cv=stratified_kfold, scoring=[metric_score])\n",
    "    print('\\033[1m', metric_score.upper(),'\\033[0m', ':',\n",
    "          round(sum(scores['test_' + metric_score])/len(scores['test_' + metric_score]), 2))"
   ]
  },
  {
   "cell_type": "markdown",
   "metadata": {},
   "source": [
    "## 2.2 TF-IDF Transformation (TF-IDF)"
   ]
  },
  {
   "cell_type": "code",
   "execution_count": 177,
   "metadata": {},
   "outputs": [
    {
     "name": "stdout",
     "output_type": "stream",
     "text": [
      "[[0. 0. 0. ... 0. 0. 0.]\n",
      " [0. 0. 0. ... 0. 0. 0.]\n",
      " [0. 0. 0. ... 0. 0. 0.]\n",
      " ...\n",
      " [0. 0. 0. ... 0. 0. 0.]\n",
      " [0. 0. 0. ... 0. 0. 0.]\n",
      " [0. 0. 0. ... 0. 0. 0.]]\n"
     ]
    }
   ],
   "source": [
    "# TF-IDF Transformation (TF-IDF)\n",
    "from sklearn.feature_extraction.text import TfidfTransformer\n",
    "\n",
    "# TF-IDF Transformation\n",
    "transformer = TfidfTransformer()\n",
    "\n",
    "# use fit_transform to 'learn' the features and vectorize the data\n",
    "vectors = transformer.fit_transform(vectors)\n",
    "\n",
    "print(vectors.toarray())  # print numpy vectors"
   ]
  },
  {
   "cell_type": "code",
   "execution_count": 178,
   "metadata": {},
   "outputs": [
    {
     "name": "stdout",
     "output_type": "stream",
     "text": [
      "\u001B[1m F1_MACRO \u001B[0m : 0.5\n",
      "\u001B[1m F1_MICRO \u001B[0m : 0.55\n",
      "\u001B[1m F1_WEIGHTED \u001B[0m : 0.52\n"
     ]
    }
   ],
   "source": [
    "# Linear SVM model\n",
    "model = LinearSVC(C=0.0001)\n",
    "\n",
    "# cross-validation evaluation\n",
    "for metric_score in ['f1_macro', 'f1_micro', 'f1_weighted']:\n",
    "    scores = cross_validate(model, vectors, data.target, cv=stratified_kfold, scoring=[metric_score])\n",
    "    print('\\033[1m', metric_score.upper(),'\\033[0m', ':',\n",
    "          round(sum(scores['test_' + metric_score])/len(scores['test_' + metric_score]), 2))"
   ]
  },
  {
   "cell_type": "markdown",
   "metadata": {},
   "source": [
    "## 2.3 TF-IDF Vectorization (TFIDF)"
   ]
  },
  {
   "cell_type": "code",
   "execution_count": 179,
   "metadata": {},
   "outputs": [
    {
     "name": "stdout",
     "output_type": "stream",
     "text": [
      "[[0. 0. 0. ... 0. 0. 0.]\n",
      " [0. 0. 0. ... 0. 0. 0.]\n",
      " [0. 0. 0. ... 0. 0. 0.]\n",
      " ...\n",
      " [0. 0. 0. ... 0. 0. 0.]\n",
      " [0. 0. 0. ... 0. 0. 0.]\n",
      " [0. 0. 0. ... 0. 0. 0.]]\n"
     ]
    }
   ],
   "source": [
    "from sklearn.feature_extraction.text import TfidfVectorizer\n",
    "\n",
    "# TF-IDF Vectorization\n",
    "vectorizer = TfidfVectorizer()\n",
    "\n",
    "# use fit_transform to 'learn' the features and vectorize the data\n",
    "vectors = vectorizer.fit_transform(data.data)\n",
    "\n",
    "print(vectors.toarray())  # print numpy vectors"
   ]
  },
  {
   "cell_type": "code",
   "execution_count": 180,
   "metadata": {},
   "outputs": [
    {
     "name": "stdout",
     "output_type": "stream",
     "text": [
      "\u001B[1m F1_MACRO \u001B[0m : 0.53\n",
      "\u001B[1m F1_MICRO \u001B[0m : 0.57\n",
      "\u001B[1m F1_WEIGHTED \u001B[0m : 0.55\n"
     ]
    }
   ],
   "source": [
    "# Linear SVM model\n",
    "model = LinearSVC(C=0.0001)\n",
    "\n",
    "# cross-validation evaluation\n",
    "for metric_score in ['f1_macro', 'f1_micro', 'f1_weighted']:\n",
    "    scores = cross_validate(model, vectors, data.target, cv=stratified_kfold, scoring=[metric_score])\n",
    "    print('\\033[1m', metric_score.upper(),'\\033[0m', ':',\n",
    "          round(sum(scores['test_' + metric_score])/len(scores['test_' + metric_score]), 2))"
   ]
  },
  {
   "cell_type": "markdown",
   "metadata": {},
   "source": [
    "## 2.4 min and max cut-offs (CutOff)"
   ]
  },
  {
   "cell_type": "markdown",
   "metadata": {},
   "source": [
    "### 2.4.1 min and max cut-offs (CutOff) with Count Vectorization (CountVect)"
   ]
  },
  {
   "cell_type": "code",
   "execution_count": 181,
   "metadata": {},
   "outputs": [],
   "source": [
    "# Count Vectorization\n",
    "vectorizer = CountVectorizer(min_df=0.01, max_df=0.99)\n",
    "\n",
    "# use fit_transform to 'learn' the features and vectorize the data\n",
    "vectors = vectorizer.fit_transform(data.data)"
   ]
  },
  {
   "cell_type": "code",
   "execution_count": 182,
   "metadata": {},
   "outputs": [
    {
     "name": "stdout",
     "output_type": "stream",
     "text": [
      "\u001B[1m F1_MACRO \u001B[0m : 0.71\n",
      "\u001B[1m F1_MICRO \u001B[0m : 0.72\n",
      "\u001B[1m F1_WEIGHTED \u001B[0m : 0.71\n"
     ]
    }
   ],
   "source": [
    "# Linear SVM model\n",
    "model = LinearSVC(C=0.0001)\n",
    "\n",
    "# cross-validation evaluation\n",
    "for metric_score in ['f1_macro', 'f1_micro', 'f1_weighted']:\n",
    "    scores = cross_validate(model, vectors, data.target, cv=stratified_kfold, scoring=[metric_score])\n",
    "    print('\\033[1m', metric_score.upper(),'\\033[0m', ':',\n",
    "          round(sum(scores['test_' + metric_score])/len(scores['test_' + metric_score]), 2))"
   ]
  },
  {
   "cell_type": "markdown",
   "metadata": {},
   "source": [
    "### 2.4.2 min and max cut-offs (CutOff) with TF-IDF Transformation (TF-IDF)"
   ]
  },
  {
   "cell_type": "code",
   "execution_count": 183,
   "metadata": {},
   "outputs": [],
   "source": [
    "# TF-IDF Transformation with min and max cut-offs\n",
    "transformer = TfidfTransformer()\n",
    "\n",
    "# use fit_transform to 'learn' the features and vectorize the data\n",
    "vectors = transformer.fit_transform(vectors)"
   ]
  },
  {
   "cell_type": "code",
   "execution_count": 184,
   "metadata": {},
   "outputs": [
    {
     "name": "stdout",
     "output_type": "stream",
     "text": [
      "\u001B[1m F1_MACRO \u001B[0m : 0.5\n",
      "\u001B[1m F1_MICRO \u001B[0m : 0.55\n",
      "\u001B[1m F1_WEIGHTED \u001B[0m : 0.52\n"
     ]
    }
   ],
   "source": [
    "# Linear SVM model\n",
    "model = LinearSVC(C=0.0001)\n",
    "\n",
    "# cross-validation evaluation\n",
    "for metric_score in ['f1_macro', 'f1_micro', 'f1_weighted']:\n",
    "    scores = cross_validate(model, vectors, data.target, cv=stratified_kfold, scoring=[metric_score])\n",
    "    print('\\033[1m', metric_score.upper(),'\\033[0m', ':',\n",
    "          round(sum(scores['test_' + metric_score])/len(scores['test_' + metric_score]), 2))\n"
   ]
  },
  {
   "cell_type": "markdown",
   "metadata": {},
   "source": [
    "### 2.4.3 min and max cut-offs (CutOff) with TF-IDF Vectorization (TFIDF)"
   ]
  },
  {
   "cell_type": "code",
   "execution_count": 185,
   "metadata": {},
   "outputs": [
    {
     "name": "stdout",
     "output_type": "stream",
     "text": [
      "[[0. 0. 0. ... 0. 0. 0.]\n",
      " [0. 0. 0. ... 0. 0. 0.]\n",
      " [0. 0. 0. ... 0. 0. 0.]\n",
      " ...\n",
      " [0. 0. 0. ... 0. 0. 0.]\n",
      " [0. 0. 0. ... 0. 0. 0.]\n",
      " [0. 0. 0. ... 0. 0. 0.]]\n"
     ]
    }
   ],
   "source": [
    "# TF-IDF Vectorization with min and max cut-offs\n",
    "vectorizer = TfidfVectorizer(min_df=0.01, max_df=0.99)\n",
    "\n",
    "# use fit_transform to 'learn' the features and vectorize the data\n",
    "vectors = vectorizer.fit_transform(data.data)\n",
    "\n",
    "print(vectors.toarray())  # print numpy vectors"
   ]
  },
  {
   "cell_type": "code",
   "execution_count": 186,
   "metadata": {},
   "outputs": [
    {
     "name": "stdout",
     "output_type": "stream",
     "text": [
      "\u001B[1m F1_MACRO \u001B[0m : 0.5\n",
      "\u001B[1m F1_MICRO \u001B[0m : 0.55\n",
      "\u001B[1m F1_WEIGHTED \u001B[0m : 0.52\n"
     ]
    }
   ],
   "source": [
    "# Linear SVM model\n",
    "model = LinearSVC(C=0.0001)\n",
    "\n",
    "# cross-validation evaluation\n",
    "for metric_score in ['f1_macro', 'f1_micro', 'f1_weighted']:\n",
    "    scores = cross_validate(model, vectors, data.target, cv=stratified_kfold, scoring=[metric_score])\n",
    "    print('\\033[1m', metric_score.upper(),'\\033[0m', ':',\n",
    "          round(sum(scores['test_' + metric_score])/len(scores['test_' + metric_score]), 2))"
   ]
  },
  {
   "cell_type": "markdown",
   "metadata": {},
   "source": [
    "## 2.5 wihtout stop-words (WithoutStopWords)"
   ]
  },
  {
   "cell_type": "markdown",
   "metadata": {},
   "source": [
    "### 2.5.1 wihtout stop-words (WithoutStopWords) with Count Vectorization (CountVect)"
   ]
  },
  {
   "cell_type": "code",
   "execution_count": 187,
   "metadata": {},
   "outputs": [
    {
     "name": "stdout",
     "output_type": "stream",
     "text": [
      "[[0 0 0 ... 0 0 0]\n",
      " [0 0 0 ... 0 0 0]\n",
      " [0 0 0 ... 0 0 0]\n",
      " ...\n",
      " [0 0 0 ... 0 0 0]\n",
      " [0 0 0 ... 0 0 0]\n",
      " [0 0 0 ... 0 0 0]]\n"
     ]
    }
   ],
   "source": [
    "# Count Vectorization without stop-words\n",
    "vectorizer = CountVectorizer(stop_words='english')\n",
    "\n",
    "# use fit_transform to 'learn' the features and vectorize the data\n",
    "vectors = vectorizer.fit_transform(data.data)\n",
    "\n",
    "print(vectors.toarray())  # print numpy vectors"
   ]
  },
  {
   "cell_type": "code",
   "execution_count": 188,
   "metadata": {},
   "outputs": [
    {
     "name": "stdout",
     "output_type": "stream",
     "text": [
      "\u001B[1m F1_MACRO \u001B[0m : 0.83\n",
      "\u001B[1m F1_MICRO \u001B[0m : 0.83\n",
      "\u001B[1m F1_WEIGHTED \u001B[0m : 0.83\n"
     ]
    }
   ],
   "source": [
    "# Linear SVM model\n",
    "model = LinearSVC(C=0.0001)\n",
    "\n",
    "# cross-validation evaluation\n",
    "for metric_score in ['f1_macro', 'f1_micro', 'f1_weighted']:\n",
    "    scores = cross_validate(model, vectors, data.target, cv=stratified_kfold, scoring=[metric_score])\n",
    "    print('\\033[1m', metric_score.upper(),'\\033[0m', ':',\n",
    "          round(sum(scores['test_' + metric_score])/len(scores['test_' + metric_score]), 2))"
   ]
  },
  {
   "cell_type": "markdown",
   "metadata": {},
   "source": [
    "### 2.5.2 wihtout stop-words (WithoutStopWords) with TF-IDF Transformation (TF-IDF)"
   ]
  },
  {
   "cell_type": "code",
   "execution_count": 189,
   "metadata": {},
   "outputs": [
    {
     "name": "stdout",
     "output_type": "stream",
     "text": [
      "[[0. 0. 0. ... 0. 0. 0.]\n",
      " [0. 0. 0. ... 0. 0. 0.]\n",
      " [0. 0. 0. ... 0. 0. 0.]\n",
      " ...\n",
      " [0. 0. 0. ... 0. 0. 0.]\n",
      " [0. 0. 0. ... 0. 0. 0.]\n",
      " [0. 0. 0. ... 0. 0. 0.]]\n"
     ]
    }
   ],
   "source": [
    "# TF-IDF Transformation without stop-words\n",
    "transformer = TfidfTransformer()\n",
    "\n",
    "# use fit_transform to 'learn' the features and vectorize the data\n",
    "vectors = transformer.fit_transform(vectors)\n",
    "\n",
    "print(vectors.toarray())  # print numpy vectors"
   ]
  },
  {
   "cell_type": "code",
   "execution_count": 190,
   "metadata": {},
   "outputs": [
    {
     "name": "stdout",
     "output_type": "stream",
     "text": [
      "\u001B[1m F1_MACRO \u001B[0m : 0.6\n",
      "\u001B[1m F1_MICRO \u001B[0m : 0.67\n",
      "\u001B[1m F1_WEIGHTED \u001B[0m : 0.62\n"
     ]
    }
   ],
   "source": [
    "# Linear SVM model\n",
    "model = LinearSVC(C=0.0001)\n",
    "\n",
    "# cross-validation evaluation\n",
    "for metric_score in ['f1_macro', 'f1_micro', 'f1_weighted']:\n",
    "    scores = cross_validate(model, vectors, data.target, cv=stratified_kfold, scoring=[metric_score])\n",
    "    print('\\033[1m', metric_score.upper(),'\\033[0m', ':',\n",
    "          round(sum(scores['test_' + metric_score])/len(scores['test_' + metric_score]), 2))"
   ]
  },
  {
   "cell_type": "markdown",
   "metadata": {},
   "source": [
    "### 2.5.3 wihtout stop-words (WithoutStopWords) with TF-IDF Vectorization (TFIDF)"
   ]
  },
  {
   "cell_type": "code",
   "execution_count": 191,
   "metadata": {},
   "outputs": [
    {
     "name": "stdout",
     "output_type": "stream",
     "text": [
      "[[0. 0. 0. ... 0. 0. 0.]\n",
      " [0. 0. 0. ... 0. 0. 0.]\n",
      " [0. 0. 0. ... 0. 0. 0.]\n",
      " ...\n",
      " [0. 0. 0. ... 0. 0. 0.]\n",
      " [0. 0. 0. ... 0. 0. 0.]\n",
      " [0. 0. 0. ... 0. 0. 0.]]\n"
     ]
    }
   ],
   "source": [
    "# TF-IDF Vectorization without stop-words\n",
    "vectorizer = TfidfVectorizer(stop_words='english')\n",
    "\n",
    "# use fit_transform to 'learn' the features and vectorize the data\n",
    "vectors = vectorizer.fit_transform(data.data)\n",
    "\n",
    "print(vectors.toarray())  # print numpy vectors"
   ]
  },
  {
   "cell_type": "code",
   "execution_count": 192,
   "metadata": {},
   "outputs": [
    {
     "name": "stdout",
     "output_type": "stream",
     "text": [
      "\u001B[1m F1_MACRO \u001B[0m : 0.6\n",
      "\u001B[1m F1_MICRO \u001B[0m : 0.67\n",
      "\u001B[1m F1_WEIGHTED \u001B[0m : 0.62\n"
     ]
    }
   ],
   "source": [
    "# Linear SVM model\n",
    "model = LinearSVC(C=0.0001)\n",
    "\n",
    "# cross-validation evaluation\n",
    "for metric_score in ['f1_macro', 'f1_micro', 'f1_weighted']:\n",
    "    scores = cross_validate(model, vectors, data.target, cv=stratified_kfold, scoring=[metric_score])\n",
    "    print('\\033[1m', metric_score.upper(),'\\033[0m', ':',\n",
    "          round(sum(scores['test_' + metric_score])/len(scores['test_' + metric_score]), 2))"
   ]
  },
  {
   "cell_type": "markdown",
   "metadata": {},
   "source": [
    "## 2.6 without lowercasing (NoLowercase)"
   ]
  },
  {
   "cell_type": "markdown",
   "metadata": {},
   "source": [
    "### 2.6.1 without lowercasing (NoLowercase) with Count Vectorization (CountVect)"
   ]
  },
  {
   "cell_type": "code",
   "execution_count": 193,
   "metadata": {},
   "outputs": [
    {
     "name": "stdout",
     "output_type": "stream",
     "text": [
      "[[0 0 0 ... 0 0 0]\n",
      " [0 0 0 ... 0 0 0]\n",
      " [0 0 0 ... 0 0 0]\n",
      " ...\n",
      " [0 0 0 ... 0 0 0]\n",
      " [0 0 0 ... 0 0 0]\n",
      " [0 0 0 ... 0 0 0]]\n"
     ]
    }
   ],
   "source": [
    "# Count Vectorization without lowercasing\n",
    "vectorizer = CountVectorizer(lowercase=False)\n",
    "\n",
    "# use fit_transform to 'learn' the features and vectorize the data\n",
    "vectors = vectorizer.fit_transform(data.data)\n",
    "\n",
    "print(vectors.toarray())  # print numpy vectors"
   ]
  },
  {
   "cell_type": "code",
   "execution_count": 194,
   "metadata": {},
   "outputs": [
    {
     "name": "stdout",
     "output_type": "stream",
     "text": [
      "\u001B[1m F1_MACRO \u001B[0m : 0.79\n",
      "\u001B[1m F1_MICRO \u001B[0m : 0.79\n",
      "\u001B[1m F1_WEIGHTED \u001B[0m : 0.8\n"
     ]
    }
   ],
   "source": [
    "# Linear SVM model\n",
    "model = LinearSVC(C=0.0001)\n",
    "\n",
    "# cross-validation evaluation\n",
    "for metric_score in ['f1_macro', 'f1_micro', 'f1_weighted']:\n",
    "    scores = cross_validate(model, vectors, data.target, cv=stratified_kfold, scoring=[metric_score])\n",
    "    print('\\033[1m', metric_score.upper(),'\\033[0m', ':',\n",
    "          round(sum(scores['test_' + metric_score])/len(scores['test_' + metric_score]), 2))"
   ]
  },
  {
   "cell_type": "markdown",
   "metadata": {},
   "source": [
    "### 2.6.2 without lowercasing (NoLowercase) with TF-IDF Transformation (TF-IDF)"
   ]
  },
  {
   "cell_type": "code",
   "execution_count": 195,
   "metadata": {},
   "outputs": [
    {
     "name": "stdout",
     "output_type": "stream",
     "text": [
      "[[0. 0. 0. ... 0. 0. 0.]\n",
      " [0. 0. 0. ... 0. 0. 0.]\n",
      " [0. 0. 0. ... 0. 0. 0.]\n",
      " ...\n",
      " [0. 0. 0. ... 0. 0. 0.]\n",
      " [0. 0. 0. ... 0. 0. 0.]\n",
      " [0. 0. 0. ... 0. 0. 0.]]\n"
     ]
    }
   ],
   "source": [
    "# TF-IDF Transformation without lowercasing\n",
    "transformer = TfidfTransformer()\n",
    "\n",
    "# use fit_transform to 'learn' the features and vectorize the data\n",
    "vectors = transformer.fit_transform(vectors)\n",
    "\n",
    "print(vectors.toarray())  # print numpy vectors"
   ]
  },
  {
   "cell_type": "code",
   "execution_count": 196,
   "metadata": {},
   "outputs": [
    {
     "name": "stdout",
     "output_type": "stream",
     "text": [
      "\u001B[1m F1_MACRO \u001B[0m : 0.5\n",
      "\u001B[1m F1_MICRO \u001B[0m : 0.55\n",
      "\u001B[1m F1_WEIGHTED \u001B[0m : 0.53\n"
     ]
    }
   ],
   "source": [
    "# Linear SVM model\n",
    "model = LinearSVC(C=0.0001)\n",
    "\n",
    "# cross-validation evaluation\n",
    "for metric_score in ['f1_macro', 'f1_micro', 'f1_weighted']:\n",
    "    scores = cross_validate(model, vectors, data.target, cv=stratified_kfold, scoring=[metric_score])\n",
    "    print('\\033[1m', metric_score.upper(),'\\033[0m', ':',\n",
    "          round(sum(scores['test_' + metric_score])/len(scores['test_' + metric_score]), 2))"
   ]
  },
  {
   "cell_type": "markdown",
   "metadata": {},
   "source": [
    "### 2.6.3 without lowercasing (NoLowercase) with TF-IDF Vectorization (TFIDF)"
   ]
  },
  {
   "cell_type": "code",
   "execution_count": 197,
   "metadata": {},
   "outputs": [
    {
     "name": "stdout",
     "output_type": "stream",
     "text": [
      "[[0. 0. 0. ... 0. 0. 0.]\n",
      " [0. 0. 0. ... 0. 0. 0.]\n",
      " [0. 0. 0. ... 0. 0. 0.]\n",
      " ...\n",
      " [0. 0. 0. ... 0. 0. 0.]\n",
      " [0. 0. 0. ... 0. 0. 0.]\n",
      " [0. 0. 0. ... 0. 0. 0.]]\n"
     ]
    }
   ],
   "source": [
    "# TF-IDF Vectorization without lowercasing\n",
    "vectorizer = TfidfVectorizer(lowercase=False)\n",
    "\n",
    "# use fit_transform to 'learn' the features and vectorize the data\n",
    "vectors = vectorizer.fit_transform(data.data)\n",
    "\n",
    "print(vectors.toarray())  # print numpy vectors"
   ]
  },
  {
   "cell_type": "code",
   "execution_count": 198,
   "metadata": {},
   "outputs": [
    {
     "name": "stdout",
     "output_type": "stream",
     "text": [
      "\u001B[1m F1_MACRO \u001B[0m : 0.5\n",
      "\u001B[1m F1_MICRO \u001B[0m : 0.55\n",
      "\u001B[1m F1_WEIGHTED \u001B[0m : 0.53\n"
     ]
    }
   ],
   "source": [
    "# Linear SVM model\n",
    "model = LinearSVC(C=0.0001)\n",
    "\n",
    "# cross-validation evaluation\n",
    "for metric_score in ['f1_macro', 'f1_micro', 'f1_weighted']:\n",
    "    scores = cross_validate(model, vectors, data.target, cv=stratified_kfold, scoring=[metric_score])\n",
    "    print('\\033[1m', metric_score.upper(),'\\033[0m', ':',\n",
    "          round(sum(scores['test_' + metric_score])/len(scores['test_' + metric_score]), 2))"
   ]
  },
  {
   "cell_type": "code",
   "execution_count": null,
   "metadata": {},
   "outputs": [],
   "source": []
  },
  {
   "cell_type": "markdown",
   "source": [
    "## To do"
   ],
   "metadata": {
    "collapsed": false
   },
   "execution_count": 1
  },
  {
   "cell_type": "markdown",
   "source": [
    "Need to watch following videos before exam:\n",
    "- [Bag of Words](https://www.youtube.com/watch?v=Yt1Sw6yWjlw)\n",
    "- [TF-IDF Transformation with Scikit-Learn](https://scikit-learn.org/stable/modules/generated/sklearn.feature_extraction.text.TfidfTransformer.html)\n",
    "- [TF-IDF](https://www.youtube.com/watch?v=D2V1okCEsiE&t=13s)\n",
    "- [Count Vectorization](https://www.youtube.com/watch?v=RZYjsw6P4nI&t=26s)\n",
    "- [Count Vectorizer Vs TF-IDF](https://www.youtube.com/watch?v=WN18JksF9Cg)"
   ],
   "metadata": {
    "collapsed": false
   }
  },
  {
   "cell_type": "code",
   "execution_count": null,
   "outputs": [],
   "source": [],
   "metadata": {
    "collapsed": false
   }
  }
 ],
 "metadata": {
  "kernelspec": {
   "display_name": "Python 3 (ipykernel)",
   "language": "python",
   "name": "python3"
  },
  "language_info": {
   "codemirror_mode": {
    "name": "ipython",
    "version": 3
   },
   "file_extension": ".py",
   "mimetype": "text/x-python",
   "name": "python",
   "nbconvert_exporter": "python",
   "pygments_lexer": "ipython3",
   "version": "3.9.16"
  }
 },
 "nbformat": 4,
 "nbformat_minor": 4
}
